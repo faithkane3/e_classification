{
 "cells": [
  {
   "cell_type": "code",
   "execution_count": 1,
   "metadata": {},
   "outputs": [],
   "source": [
    "import pandas as pd\n",
    "import numpy as np\n",
    "\n",
    "# visualize\n",
    "import seaborn as sns\n",
    "import matplotlib.pyplot as plt\n",
    "plt.rc('figure', figsize=(11, 9))\n",
    "plt.rc('font', size=13)\n",
    "\n",
    "# preparing\n",
    "from sklearn.model_selection import train_test_split\n",
    "from sklearn.preprocessing import LabelEncoder\n",
    "from sklearn.preprocessing import MinMaxScaler\n",
    "from sklearn.impute import SimpleImputer\n",
    "from sklearn.preprocessing import OneHotEncoder\n",
    "\n",
    "# modeling and evaluating\n",
    "from sklearn.linear_model import LogisticRegression\n",
    "from sklearn.metrics import classification_report, confusion_matrix, precision_score, recall_score, accuracy_score\n",
    "\n",
    "# turn off pink warning boxes\n",
    "import warnings\n",
    "warnings.filterwarnings(\"ignore\")\n",
    "\n",
    "# acquire\n",
    "from explore import anatomy_of_a_figure\n",
    "from env import host, user, password\n",
    "from pydataset import data"
   ]
  },
  {
   "cell_type": "markdown",
   "metadata": {},
   "source": [
    "# Classification"
   ]
  },
  {
   "cell_type": "markdown",
   "metadata": {},
   "source": [
    "___"
   ]
  },
  {
   "cell_type": "markdown",
   "metadata": {},
   "source": [
    "### <font color=red>What is Classification?</font>\n",
    "\n",
    "**Classification is a Supervised Machine Learning technique.**  Classification, like Regression, uses labeled data from a training dataset to learn rules for making future predictions on unseen data. However, **Classification is used to predict the category membership of the categorical target value or label.** For Classification algorithms, you determine the probability of an observation to be part of a certain class or not. Therefore, you express the probability with a value between 0 and 1. A probability close to 1 means the observation is very likely to be part of a group or category.\n",
    "\n",
    "**Simply put, Regression predicts a continuous variable while classification predicts a categorical variable.**\n",
    "\n",
    "![image.png](data:image/png;base64,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)"
   ]
  },
  {
   "cell_type": "markdown",
   "metadata": {},
   "source": [
    "___"
   ]
  },
  {
   "cell_type": "markdown",
   "metadata": {},
   "source": [
    "### <font color=orange>So What Are the Types of Classification?</font>\n",
    "\n",
    "**Types of Classification**\n",
    "\n",
    ">**Binary Classification -** This type of classification uses a decision rule to predict an observation to be a member of one of only two groups: churn/not churn, pass/fail, male/female, smoker/non-smoker, healthy/sick.\n",
    "\n",
    ">**Multiclass Classification -** This type of classification uses a decision rule to predict an observation to be a member of one of three or more possible groups or categories: A/B/C, hot/warm/cold, Python/Java/C++/Go/C\n",
    "\n",
    "![image.png](https://developers.google.com/machine-learning/guides/text-classification/images/LastLayer.png)\n",
    "\n",
    "**Uses for Classification**\n",
    "\n",
    "- Medical Diagnosis\n",
    "\n",
    "\n",
    "- Spam Detection\n",
    "\n",
    "\n",
    "- Credit Approval\n",
    "\n",
    "\n",
    "- Targeted Marketing"
   ]
  },
  {
   "cell_type": "markdown",
   "metadata": {},
   "source": [
    "___"
   ]
  },
  {
   "cell_type": "markdown",
   "metadata": {},
   "source": [
    "### <font color=green>Now What?</font>\n",
    "\n",
    "Check out [this article](https://towardsdatascience.com/the-complete-guide-to-classification-in-python-b0e34c92e455) on Classification and Logistic Regression. Glean what is helpful to you, and don't feel like you need to understand anything we haven't covered yet unless you are so interested.\n",
    "\n",
    "We will work through the data science pipeline focused on preparing for Classification Modeling."
   ]
  },
  {
   "cell_type": "markdown",
   "metadata": {},
   "source": [
    "<hr style=\"border-top: 10px groove limegreen; margin-top: 1px; margin-bottom: 1px\"></hr>"
   ]
  },
  {
   "cell_type": "markdown",
   "metadata": {},
   "source": [
    "## Acquire\n",
    "\n",
    "**<font color=green>A Few Example Methods for Reading Data into Pandas DataFrames</font>**"
   ]
  },
  {
   "cell_type": "markdown",
   "metadata": {},
   "source": [
    "<hr style=\"border-top: 10px groove limegreen; margin-top: 1px; margin-bottom: 1px\"></hr>"
   ]
  },
  {
   "cell_type": "markdown",
   "metadata": {},
   "source": [
    "### From a Database\n",
    "\n",
    "Create your DataFrame using a SQL query to access a database.\n",
    "\n",
    "**<font color=purple>Use your env file info and create your sql query and create connection_url for use in pandas `read_sql()` function.</font>**\n",
    "\n",
    "```python\n",
    "# Import private info to keep it secret in public files.\n",
    "from env import host, password, user\n",
    "\n",
    "# Test query in Sequel Pro and save to a variable.\n",
    "sql_query = 'write your sql query here; test it in Sequel Pro first!'\n",
    "\n",
    "# Save connection url to a variable for use with pandas `read_sql()` function.\n",
    "connection_url = f'mysql+pymysql://{user}:{password}@{host}/database_name'\n",
    "    \n",
    "# Python function to read data from database into a DataFrame.\n",
    "pd.read_sql(sql_query, connection_url)\n",
    "```"
   ]
  },
  {
   "cell_type": "code",
   "execution_count": 2,
   "metadata": {},
   "outputs": [],
   "source": [
    "# Create sql query and save to variable.\n",
    "\n",
    "sql_query = 'SELECT * FROM passengers'"
   ]
  },
  {
   "cell_type": "code",
   "execution_count": 3,
   "metadata": {},
   "outputs": [],
   "source": [
    "# Create connection url and save to a variable.\n",
    "\n",
    "connection_url = f'mysql+pymysql://{user}:{password}@{host}/titanic_db'"
   ]
  },
  {
   "cell_type": "code",
   "execution_count": 4,
   "metadata": {},
   "outputs": [
    {
     "data": {
      "text/html": [
       "<div>\n",
       "<style scoped>\n",
       "    .dataframe tbody tr th:only-of-type {\n",
       "        vertical-align: middle;\n",
       "    }\n",
       "\n",
       "    .dataframe tbody tr th {\n",
       "        vertical-align: top;\n",
       "    }\n",
       "\n",
       "    .dataframe thead th {\n",
       "        text-align: right;\n",
       "    }\n",
       "</style>\n",
       "<table border=\"1\" class=\"dataframe\">\n",
       "  <thead>\n",
       "    <tr style=\"text-align: right;\">\n",
       "      <th></th>\n",
       "      <th>passenger_id</th>\n",
       "      <th>survived</th>\n",
       "      <th>pclass</th>\n",
       "      <th>sex</th>\n",
       "      <th>age</th>\n",
       "      <th>sibsp</th>\n",
       "      <th>parch</th>\n",
       "      <th>fare</th>\n",
       "      <th>embarked</th>\n",
       "      <th>class</th>\n",
       "      <th>deck</th>\n",
       "      <th>embark_town</th>\n",
       "      <th>alone</th>\n",
       "    </tr>\n",
       "  </thead>\n",
       "  <tbody>\n",
       "    <tr>\n",
       "      <th>0</th>\n",
       "      <td>0</td>\n",
       "      <td>0</td>\n",
       "      <td>3</td>\n",
       "      <td>male</td>\n",
       "      <td>22.0</td>\n",
       "      <td>1</td>\n",
       "      <td>0</td>\n",
       "      <td>7.2500</td>\n",
       "      <td>S</td>\n",
       "      <td>Third</td>\n",
       "      <td>None</td>\n",
       "      <td>Southampton</td>\n",
       "      <td>0</td>\n",
       "    </tr>\n",
       "    <tr>\n",
       "      <th>1</th>\n",
       "      <td>1</td>\n",
       "      <td>1</td>\n",
       "      <td>1</td>\n",
       "      <td>female</td>\n",
       "      <td>38.0</td>\n",
       "      <td>1</td>\n",
       "      <td>0</td>\n",
       "      <td>71.2833</td>\n",
       "      <td>C</td>\n",
       "      <td>First</td>\n",
       "      <td>C</td>\n",
       "      <td>Cherbourg</td>\n",
       "      <td>0</td>\n",
       "    </tr>\n",
       "    <tr>\n",
       "      <th>2</th>\n",
       "      <td>2</td>\n",
       "      <td>1</td>\n",
       "      <td>3</td>\n",
       "      <td>female</td>\n",
       "      <td>26.0</td>\n",
       "      <td>0</td>\n",
       "      <td>0</td>\n",
       "      <td>7.9250</td>\n",
       "      <td>S</td>\n",
       "      <td>Third</td>\n",
       "      <td>None</td>\n",
       "      <td>Southampton</td>\n",
       "      <td>1</td>\n",
       "    </tr>\n",
       "  </tbody>\n",
       "</table>\n",
       "</div>"
      ],
      "text/plain": [
       "   passenger_id  survived  pclass     sex   age  sibsp  parch     fare  \\\n",
       "0             0         0       3    male  22.0      1      0   7.2500   \n",
       "1             1         1       1  female  38.0      1      0  71.2833   \n",
       "2             2         1       3  female  26.0      0      0   7.9250   \n",
       "\n",
       "  embarked  class  deck  embark_town  alone  \n",
       "0        S  Third  None  Southampton      0  \n",
       "1        C  First     C    Cherbourg      0  \n",
       "2        S  Third  None  Southampton      1  "
      ]
     },
     "execution_count": 4,
     "metadata": {},
     "output_type": "execute_result"
    }
   ],
   "source": [
    "# Use my variables in the pandas read_sql() function.\n",
    "\n",
    "titanic_df = pd.read_sql(sql_query, connection_url)\n",
    "titanic_df.head(3)"
   ]
  },
  {
   "cell_type": "markdown",
   "metadata": {},
   "source": [
    "**<font color=purple>Put it all together in a single function that acquires new data from the Codeup database and save it, as well as any helper functions, in your `acquire.py` file.</font>**\n",
    "\n",
    "```python\n",
    "# Create helper function to get the necessary connection url.\n",
    "def get_connection(db, user=user, host=host, password=password):\n",
    "    '''\n",
    "    This function uses my info from my env file to\n",
    "    create a connection url to access the Codeup db.\n",
    "    '''\n",
    "    return f'mysql+pymysql://{user}:{password}@{host}/{db}'\n",
    "\n",
    "# Use the above helper function and a sql query in a single function.\n",
    "def get_db_data():\n",
    "    '''\n",
    "    This function reads data from the Codeup db into a df.\n",
    "    '''\n",
    "    sql_query = 'write your sql query here; test it in Sequel Pro first!'\n",
    "    return pd.read_sql(sql_query, get_connection('database_name'))\n",
    "```"
   ]
  },
  {
   "cell_type": "code",
   "execution_count": 5,
   "metadata": {},
   "outputs": [],
   "source": [
    "# Let's create a helper function that creates our connection url.\n",
    "\n",
    "def get_connection(db, user=user, host=host, password=password):\n",
    "    '''\n",
    "    This function uses my info from my env file to\n",
    "    create a connection url to access the Codeup db.\n",
    "    '''\n",
    "    return f'mysql+pymysql://{user}:{password}@{host}/{db}'"
   ]
  },
  {
   "cell_type": "code",
   "execution_count": 6,
   "metadata": {},
   "outputs": [],
   "source": [
    "def get_titanic_data():\n",
    "    '''\n",
    "    This function reads in the titanic data from the Codeup db\n",
    "    and returns a pandas DataFrame with all columns.\n",
    "    '''\n",
    "    sql_query = 'SELECT * FROM passengers'\n",
    "    return pd.read_sql(sql_query, get_connection('titanic_db'))"
   ]
  },
  {
   "cell_type": "code",
   "execution_count": 7,
   "metadata": {},
   "outputs": [
    {
     "data": {
      "text/html": [
       "<div>\n",
       "<style scoped>\n",
       "    .dataframe tbody tr th:only-of-type {\n",
       "        vertical-align: middle;\n",
       "    }\n",
       "\n",
       "    .dataframe tbody tr th {\n",
       "        vertical-align: top;\n",
       "    }\n",
       "\n",
       "    .dataframe thead th {\n",
       "        text-align: right;\n",
       "    }\n",
       "</style>\n",
       "<table border=\"1\" class=\"dataframe\">\n",
       "  <thead>\n",
       "    <tr style=\"text-align: right;\">\n",
       "      <th></th>\n",
       "      <th>passenger_id</th>\n",
       "      <th>survived</th>\n",
       "      <th>pclass</th>\n",
       "      <th>sex</th>\n",
       "      <th>age</th>\n",
       "      <th>sibsp</th>\n",
       "      <th>parch</th>\n",
       "      <th>fare</th>\n",
       "      <th>embarked</th>\n",
       "      <th>class</th>\n",
       "      <th>deck</th>\n",
       "      <th>embark_town</th>\n",
       "      <th>alone</th>\n",
       "    </tr>\n",
       "  </thead>\n",
       "  <tbody>\n",
       "    <tr>\n",
       "      <th>0</th>\n",
       "      <td>0</td>\n",
       "      <td>0</td>\n",
       "      <td>3</td>\n",
       "      <td>male</td>\n",
       "      <td>22.0</td>\n",
       "      <td>1</td>\n",
       "      <td>0</td>\n",
       "      <td>7.2500</td>\n",
       "      <td>S</td>\n",
       "      <td>Third</td>\n",
       "      <td>None</td>\n",
       "      <td>Southampton</td>\n",
       "      <td>0</td>\n",
       "    </tr>\n",
       "    <tr>\n",
       "      <th>1</th>\n",
       "      <td>1</td>\n",
       "      <td>1</td>\n",
       "      <td>1</td>\n",
       "      <td>female</td>\n",
       "      <td>38.0</td>\n",
       "      <td>1</td>\n",
       "      <td>0</td>\n",
       "      <td>71.2833</td>\n",
       "      <td>C</td>\n",
       "      <td>First</td>\n",
       "      <td>C</td>\n",
       "      <td>Cherbourg</td>\n",
       "      <td>0</td>\n",
       "    </tr>\n",
       "    <tr>\n",
       "      <th>2</th>\n",
       "      <td>2</td>\n",
       "      <td>1</td>\n",
       "      <td>3</td>\n",
       "      <td>female</td>\n",
       "      <td>26.0</td>\n",
       "      <td>0</td>\n",
       "      <td>0</td>\n",
       "      <td>7.9250</td>\n",
       "      <td>S</td>\n",
       "      <td>Third</td>\n",
       "      <td>None</td>\n",
       "      <td>Southampton</td>\n",
       "      <td>1</td>\n",
       "    </tr>\n",
       "  </tbody>\n",
       "</table>\n",
       "</div>"
      ],
      "text/plain": [
       "   passenger_id  survived  pclass     sex   age  sibsp  parch     fare  \\\n",
       "0             0         0       3    male  22.0      1      0   7.2500   \n",
       "1             1         1       1  female  38.0      1      0  71.2833   \n",
       "2             2         1       3  female  26.0      0      0   7.9250   \n",
       "\n",
       "  embarked  class  deck  embark_town  alone  \n",
       "0        S  Third  None  Southampton      0  \n",
       "1        C  First     C    Cherbourg      0  \n",
       "2        S  Third  None  Southampton      1  "
      ]
     },
     "execution_count": 7,
     "metadata": {},
     "output_type": "execute_result"
    }
   ],
   "source": [
    "titanic_df = get_titanic_data()\n",
    "titanic_df.head(3)"
   ]
  },
  {
   "cell_type": "markdown",
   "metadata": {},
   "source": [
    "___"
   ]
  },
  {
   "cell_type": "markdown",
   "metadata": {},
   "source": [
    "### From Files\n",
    "\n",
    "- Create your DataFrame from a csv file.\n",
    "\n",
    "```python\n",
    "df = pd.read_csv('file_path/file_name.csv')\n",
    "```\n",
    "- Create your DataFrame from an AWS S3 file.\n",
    "\n",
    "```python\n",
    "df = pd.read_csv('https://s3.amazonaws.com/bucket_and_or_file_name.csv')\n",
    "```\n",
    "\n",
    "- Create your DataFrame from a Google sheet using its Share url.\n",
    "\n",
    "```python\n",
    "sheet_url = 'https://docs.google.com/spreadsheets/d/1Uhtml8KY19LILuZsrDtlsHHDC9wuDGUSe8LTEwvdI5g/edit#gid=341089357'\n",
    "```  \n",
    "\n",
    "```python\n",
    "csv_export_url = sheet_url.replace('/edit#gid=', '/export?format=csv&gid=')\n",
    "```\n",
    "\n",
    "```python\n",
    "df = pd.read_csv(csv_export_url)\n",
    "```"
   ]
  },
  {
   "cell_type": "code",
   "execution_count": 8,
   "metadata": {},
   "outputs": [],
   "source": [
    "# Assign our Google Sheet share url to a variable.\n",
    "\n",
    "sheet_url = 'https://docs.google.com/spreadsheets/d/1Uhtml8KY19LILuZsrDtlsHHDC9wuDGUSe8LTEwvdI5g/edit#gid=341089357'"
   ]
  },
  {
   "cell_type": "code",
   "execution_count": 9,
   "metadata": {},
   "outputs": [],
   "source": [
    "# Use the replace method to modify our url, so we can export it.\n",
    "\n",
    "csv_export_url = sheet_url.replace('/edit#gid=', '/export?format=csv&gid=')"
   ]
  },
  {
   "cell_type": "code",
   "execution_count": 10,
   "metadata": {},
   "outputs": [
    {
     "data": {
      "text/html": [
       "<div>\n",
       "<style scoped>\n",
       "    .dataframe tbody tr th:only-of-type {\n",
       "        vertical-align: middle;\n",
       "    }\n",
       "\n",
       "    .dataframe tbody tr th {\n",
       "        vertical-align: top;\n",
       "    }\n",
       "\n",
       "    .dataframe thead th {\n",
       "        text-align: right;\n",
       "    }\n",
       "</style>\n",
       "<table border=\"1\" class=\"dataframe\">\n",
       "  <thead>\n",
       "    <tr style=\"text-align: right;\">\n",
       "      <th></th>\n",
       "      <th>PassengerId</th>\n",
       "      <th>Survived</th>\n",
       "      <th>Pclass</th>\n",
       "      <th>Name</th>\n",
       "      <th>Sex</th>\n",
       "      <th>Age</th>\n",
       "      <th>SibSp</th>\n",
       "      <th>Parch</th>\n",
       "      <th>Ticket</th>\n",
       "      <th>Fare</th>\n",
       "      <th>Cabin</th>\n",
       "      <th>Embarked</th>\n",
       "    </tr>\n",
       "  </thead>\n",
       "  <tbody>\n",
       "    <tr>\n",
       "      <th>0</th>\n",
       "      <td>1</td>\n",
       "      <td>0</td>\n",
       "      <td>3</td>\n",
       "      <td>Braund, Mr. Owen Harris</td>\n",
       "      <td>male</td>\n",
       "      <td>22.0</td>\n",
       "      <td>1</td>\n",
       "      <td>0</td>\n",
       "      <td>A/5 21171</td>\n",
       "      <td>7.2500</td>\n",
       "      <td>NaN</td>\n",
       "      <td>S</td>\n",
       "    </tr>\n",
       "    <tr>\n",
       "      <th>1</th>\n",
       "      <td>2</td>\n",
       "      <td>1</td>\n",
       "      <td>1</td>\n",
       "      <td>Cumings, Mrs. John Bradley (Florence Briggs Thayer)</td>\n",
       "      <td>female</td>\n",
       "      <td>38.0</td>\n",
       "      <td>1</td>\n",
       "      <td>0</td>\n",
       "      <td>PC 17599</td>\n",
       "      <td>71.2833</td>\n",
       "      <td>C85</td>\n",
       "      <td>C</td>\n",
       "    </tr>\n",
       "  </tbody>\n",
       "</table>\n",
       "</div>"
      ],
      "text/plain": [
       "   PassengerId  Survived  Pclass  \\\n",
       "0            1         0       3   \n",
       "1            2         1       1   \n",
       "\n",
       "                                                  Name     Sex   Age  SibSp  \\\n",
       "0                              Braund, Mr. Owen Harris    male  22.0      1   \n",
       "1  Cumings, Mrs. John Bradley (Florence Briggs Thayer)  female  38.0      1   \n",
       "\n",
       "   Parch     Ticket     Fare Cabin Embarked  \n",
       "0      0  A/5 21171   7.2500   NaN        S  \n",
       "1      0   PC 17599  71.2833   C85        C  "
      ]
     },
     "execution_count": 10,
     "metadata": {},
     "output_type": "execute_result"
    }
   ],
   "source": [
    "# Use read_csv() method to create our DataFrame.\n",
    "\n",
    "df_googlesheet = pd.read_csv(csv_export_url)\n",
    "df_googlesheet.head(2)"
   ]
  },
  {
   "cell_type": "markdown",
   "metadata": {},
   "source": [
    "___"
   ]
  },
  {
   "cell_type": "markdown",
   "metadata": {},
   "source": [
    "### From Your Clipboard\n",
    "\n",
    "Read copy-pasted tabular data and parse it into a DataFrame.\n",
    "\n",
    "```python\n",
    "pd.read_clipboard(header=None, names=colums)\n",
    "```\n",
    "\n",
    "[Here's](https://towardsdatascience.com/pandas-hacks-read-clipboard-94a05c031382) a short and sweet article that explains it all nicely."
   ]
  },
  {
   "cell_type": "markdown",
   "metadata": {},
   "source": [
    "___"
   ]
  },
  {
   "cell_type": "markdown",
   "metadata": {},
   "source": [
    "### From an Excel Sheet\n",
    "\n",
    "```python\n",
    "pd.read_excel('your_excel_file_name.xlsx', sheet_name='your_table_name', usecols=['this_one', 'this_one'])\n",
    "```"
   ]
  },
  {
   "cell_type": "code",
   "execution_count": 11,
   "metadata": {},
   "outputs": [
    {
     "data": {
      "text/html": [
       "<div>\n",
       "<style scoped>\n",
       "    .dataframe tbody tr th:only-of-type {\n",
       "        vertical-align: middle;\n",
       "    }\n",
       "\n",
       "    .dataframe tbody tr th {\n",
       "        vertical-align: top;\n",
       "    }\n",
       "\n",
       "    .dataframe thead th {\n",
       "        text-align: right;\n",
       "    }\n",
       "</style>\n",
       "<table border=\"1\" class=\"dataframe\">\n",
       "  <thead>\n",
       "    <tr style=\"text-align: right;\">\n",
       "      <th></th>\n",
       "      <th>customer_id</th>\n",
       "      <th>gender</th>\n",
       "      <th>is_senior_citizen</th>\n",
       "      <th>partner</th>\n",
       "      <th>dependents</th>\n",
       "      <th>phone_service</th>\n",
       "      <th>internet_service</th>\n",
       "      <th>contract_type</th>\n",
       "      <th>payment_type</th>\n",
       "      <th>monthly_charges</th>\n",
       "      <th>total_charges</th>\n",
       "      <th>tenure</th>\n",
       "      <th>churn</th>\n",
       "    </tr>\n",
       "  </thead>\n",
       "  <tbody>\n",
       "    <tr>\n",
       "      <th>0</th>\n",
       "      <td>7569-NMZYQ</td>\n",
       "      <td>Female</td>\n",
       "      <td>0</td>\n",
       "      <td>Yes</td>\n",
       "      <td>Yes</td>\n",
       "      <td>2</td>\n",
       "      <td>2</td>\n",
       "      <td>2</td>\n",
       "      <td>Bank transfer (automatic)</td>\n",
       "      <td>118.75</td>\n",
       "      <td>8672.45</td>\n",
       "      <td>73.031158</td>\n",
       "      <td>No</td>\n",
       "    </tr>\n",
       "    <tr>\n",
       "      <th>1</th>\n",
       "      <td>8984-HPEMB</td>\n",
       "      <td>Female</td>\n",
       "      <td>0</td>\n",
       "      <td>No</td>\n",
       "      <td>No</td>\n",
       "      <td>2</td>\n",
       "      <td>2</td>\n",
       "      <td>2</td>\n",
       "      <td>Electronic check</td>\n",
       "      <td>118.65</td>\n",
       "      <td>8477.60</td>\n",
       "      <td>71.450485</td>\n",
       "      <td>No</td>\n",
       "    </tr>\n",
       "    <tr>\n",
       "      <th>2</th>\n",
       "      <td>5734-EJKXG</td>\n",
       "      <td>Female</td>\n",
       "      <td>0</td>\n",
       "      <td>No</td>\n",
       "      <td>No</td>\n",
       "      <td>2</td>\n",
       "      <td>2</td>\n",
       "      <td>1</td>\n",
       "      <td>Electronic check</td>\n",
       "      <td>118.60</td>\n",
       "      <td>7365.70</td>\n",
       "      <td>62.105396</td>\n",
       "      <td>No</td>\n",
       "    </tr>\n",
       "  </tbody>\n",
       "</table>\n",
       "</div>"
      ],
      "text/plain": [
       "  customer_id  gender  is_senior_citizen partner dependents  phone_service  \\\n",
       "0  7569-NMZYQ  Female                  0     Yes        Yes              2   \n",
       "1  8984-HPEMB  Female                  0      No         No              2   \n",
       "2  5734-EJKXG  Female                  0      No         No              2   \n",
       "\n",
       "   internet_service  contract_type               payment_type  \\\n",
       "0                 2              2  Bank transfer (automatic)   \n",
       "1                 2              2           Electronic check   \n",
       "2                 2              1           Electronic check   \n",
       "\n",
       "   monthly_charges  total_charges     tenure churn  \n",
       "0           118.75        8672.45  73.031158    No  \n",
       "1           118.65        8477.60  71.450485    No  \n",
       "2           118.60        7365.70  62.105396    No  "
      ]
     },
     "execution_count": 11,
     "metadata": {},
     "output_type": "execute_result"
    }
   ],
   "source": [
    "# Read in one sheet from my_telco_churn excel workbook.\n",
    "\n",
    "customers_df = pd.read_excel('my_telco_churn.xlsx', sheet_name='Table2_CustDetails')\n",
    "customers_df.head(3)"
   ]
  },
  {
   "cell_type": "markdown",
   "metadata": {},
   "source": [
    "___"
   ]
  },
  {
   "cell_type": "markdown",
   "metadata": {},
   "source": [
    "### From Pydataset\n",
    "\n",
    "Create your DataFrame using Pydataset and Read the Doc.\n",
    "\n",
    "```python\n",
    "from pydataset import data\n",
    "\n",
    "data('iris', show_doc=True)\n",
    "\n",
    "df_iris = data('iris')\n",
    "```"
   ]
  },
  {
   "cell_type": "code",
   "execution_count": 12,
   "metadata": {},
   "outputs": [
    {
     "data": {
      "text/html": [
       "<div>\n",
       "<style scoped>\n",
       "    .dataframe tbody tr th:only-of-type {\n",
       "        vertical-align: middle;\n",
       "    }\n",
       "\n",
       "    .dataframe tbody tr th {\n",
       "        vertical-align: top;\n",
       "    }\n",
       "\n",
       "    .dataframe thead th {\n",
       "        text-align: right;\n",
       "    }\n",
       "</style>\n",
       "<table border=\"1\" class=\"dataframe\">\n",
       "  <thead>\n",
       "    <tr style=\"text-align: right;\">\n",
       "      <th></th>\n",
       "      <th>Sepal.Length</th>\n",
       "      <th>Sepal.Width</th>\n",
       "      <th>Petal.Length</th>\n",
       "      <th>Petal.Width</th>\n",
       "      <th>Species</th>\n",
       "    </tr>\n",
       "  </thead>\n",
       "  <tbody>\n",
       "    <tr>\n",
       "      <th>1</th>\n",
       "      <td>5.1</td>\n",
       "      <td>3.5</td>\n",
       "      <td>1.4</td>\n",
       "      <td>0.2</td>\n",
       "      <td>setosa</td>\n",
       "    </tr>\n",
       "    <tr>\n",
       "      <th>2</th>\n",
       "      <td>4.9</td>\n",
       "      <td>3.0</td>\n",
       "      <td>1.4</td>\n",
       "      <td>0.2</td>\n",
       "      <td>setosa</td>\n",
       "    </tr>\n",
       "    <tr>\n",
       "      <th>3</th>\n",
       "      <td>4.7</td>\n",
       "      <td>3.2</td>\n",
       "      <td>1.3</td>\n",
       "      <td>0.2</td>\n",
       "      <td>setosa</td>\n",
       "    </tr>\n",
       "  </tbody>\n",
       "</table>\n",
       "</div>"
      ],
      "text/plain": [
       "   Sepal.Length  Sepal.Width  Petal.Length  Petal.Width Species\n",
       "1           5.1          3.5           1.4          0.2  setosa\n",
       "2           4.9          3.0           1.4          0.2  setosa\n",
       "3           4.7          3.2           1.3          0.2  setosa"
      ]
     },
     "execution_count": 12,
     "metadata": {},
     "output_type": "execute_result"
    }
   ],
   "source": [
    "# Create DataFrame using pydataset 'iris'\n",
    "\n",
    "df_iris = data('iris')\n",
    "df_iris.head(3)"
   ]
  },
  {
   "cell_type": "code",
   "execution_count": 13,
   "metadata": {},
   "outputs": [
    {
     "data": {
      "text/html": [
       "<div>\n",
       "<style scoped>\n",
       "    .dataframe tbody tr th:only-of-type {\n",
       "        vertical-align: middle;\n",
       "    }\n",
       "\n",
       "    .dataframe tbody tr th {\n",
       "        vertical-align: top;\n",
       "    }\n",
       "\n",
       "    .dataframe thead th {\n",
       "        text-align: right;\n",
       "    }\n",
       "</style>\n",
       "<table border=\"1\" class=\"dataframe\">\n",
       "  <thead>\n",
       "    <tr style=\"text-align: right;\">\n",
       "      <th></th>\n",
       "      <th>sepal_length</th>\n",
       "      <th>sepal_width</th>\n",
       "      <th>petal_length</th>\n",
       "      <th>petal_width</th>\n",
       "      <th>species</th>\n",
       "    </tr>\n",
       "  </thead>\n",
       "  <tbody>\n",
       "    <tr>\n",
       "      <th>0</th>\n",
       "      <td>5.1</td>\n",
       "      <td>3.5</td>\n",
       "      <td>1.4</td>\n",
       "      <td>0.2</td>\n",
       "      <td>setosa</td>\n",
       "    </tr>\n",
       "    <tr>\n",
       "      <th>1</th>\n",
       "      <td>4.9</td>\n",
       "      <td>3.0</td>\n",
       "      <td>1.4</td>\n",
       "      <td>0.2</td>\n",
       "      <td>setosa</td>\n",
       "    </tr>\n",
       "    <tr>\n",
       "      <th>2</th>\n",
       "      <td>4.7</td>\n",
       "      <td>3.2</td>\n",
       "      <td>1.3</td>\n",
       "      <td>0.2</td>\n",
       "      <td>setosa</td>\n",
       "    </tr>\n",
       "  </tbody>\n",
       "</table>\n",
       "</div>"
      ],
      "text/plain": [
       "   sepal_length  sepal_width  petal_length  petal_width species\n",
       "0           5.1          3.5           1.4          0.2  setosa\n",
       "1           4.9          3.0           1.4          0.2  setosa\n",
       "2           4.7          3.2           1.3          0.2  setosa"
      ]
     },
     "execution_count": 13,
     "metadata": {},
     "output_type": "execute_result"
    }
   ],
   "source": [
    "# Using Seaborn Datasets\n",
    "\n",
    "iris = sns.load_dataset('iris')\n",
    "iris.head(3)"
   ]
  },
  {
   "cell_type": "markdown",
   "metadata": {},
   "source": [
    "___"
   ]
  },
  {
   "cell_type": "markdown",
   "metadata": {},
   "source": [
    "### From Sklearn Datasets\n",
    "\n",
    "Create your DataFrame using Sklearn Datasets."
   ]
  },
  {
   "cell_type": "code",
   "execution_count": 14,
   "metadata": {},
   "outputs": [
    {
     "data": {
      "text/plain": [
       "sklearn.utils.Bunch"
      ]
     },
     "execution_count": 14,
     "metadata": {},
     "output_type": "execute_result"
    }
   ],
   "source": [
    "# Using Sklearn Datasets, dictionary-like object\n",
    "\n",
    "from sklearn import datasets\n",
    "\n",
    "iris = datasets.load_iris()\n",
    "type(iris)"
   ]
  },
  {
   "cell_type": "code",
   "execution_count": 15,
   "metadata": {},
   "outputs": [
    {
     "data": {
      "text/plain": [
       "dict_keys(['data', 'target', 'target_names', 'DESCR', 'feature_names', 'filename'])"
      ]
     },
     "execution_count": 15,
     "metadata": {},
     "output_type": "execute_result"
    }
   ],
   "source": [
    "iris.keys()"
   ]
  },
  {
   "cell_type": "code",
   "execution_count": 16,
   "metadata": {},
   "outputs": [
    {
     "data": {
      "text/html": [
       "<div>\n",
       "<style scoped>\n",
       "    .dataframe tbody tr th:only-of-type {\n",
       "        vertical-align: middle;\n",
       "    }\n",
       "\n",
       "    .dataframe tbody tr th {\n",
       "        vertical-align: top;\n",
       "    }\n",
       "\n",
       "    .dataframe thead th {\n",
       "        text-align: right;\n",
       "    }\n",
       "</style>\n",
       "<table border=\"1\" class=\"dataframe\">\n",
       "  <thead>\n",
       "    <tr style=\"text-align: right;\">\n",
       "      <th></th>\n",
       "      <th>sepal length (cm)</th>\n",
       "      <th>sepal width (cm)</th>\n",
       "      <th>petal length (cm)</th>\n",
       "      <th>petal width (cm)</th>\n",
       "    </tr>\n",
       "  </thead>\n",
       "  <tbody>\n",
       "    <tr>\n",
       "      <th>0</th>\n",
       "      <td>5.1</td>\n",
       "      <td>3.5</td>\n",
       "      <td>1.4</td>\n",
       "      <td>0.2</td>\n",
       "    </tr>\n",
       "    <tr>\n",
       "      <th>1</th>\n",
       "      <td>4.9</td>\n",
       "      <td>3.0</td>\n",
       "      <td>1.4</td>\n",
       "      <td>0.2</td>\n",
       "    </tr>\n",
       "    <tr>\n",
       "      <th>2</th>\n",
       "      <td>4.7</td>\n",
       "      <td>3.2</td>\n",
       "      <td>1.3</td>\n",
       "      <td>0.2</td>\n",
       "    </tr>\n",
       "  </tbody>\n",
       "</table>\n",
       "</div>"
      ],
      "text/plain": [
       "   sepal length (cm)  sepal width (cm)  petal length (cm)  petal width (cm)\n",
       "0                5.1               3.5                1.4               0.2\n",
       "1                4.9               3.0                1.4               0.2\n",
       "2                4.7               3.2                1.3               0.2"
      ]
     },
     "execution_count": 16,
     "metadata": {},
     "output_type": "execute_result"
    }
   ],
   "source": [
    "iris_df = pd.DataFrame(iris.data, columns=iris.feature_names)\n",
    "iris_df.head(3)"
   ]
  },
  {
   "cell_type": "code",
   "execution_count": 15,
   "metadata": {},
   "outputs": [
    {
     "data": {
      "text/html": [
       "<div>\n",
       "<style scoped>\n",
       "    .dataframe tbody tr th:only-of-type {\n",
       "        vertical-align: middle;\n",
       "    }\n",
       "\n",
       "    .dataframe tbody tr th {\n",
       "        vertical-align: top;\n",
       "    }\n",
       "\n",
       "    .dataframe thead th {\n",
       "        text-align: right;\n",
       "    }\n",
       "</style>\n",
       "<table border=\"1\" class=\"dataframe\">\n",
       "  <thead>\n",
       "    <tr style=\"text-align: right;\">\n",
       "      <th></th>\n",
       "      <th>sepal length (cm)</th>\n",
       "      <th>sepal width (cm)</th>\n",
       "      <th>petal length (cm)</th>\n",
       "      <th>petal width (cm)</th>\n",
       "      <th>species</th>\n",
       "    </tr>\n",
       "  </thead>\n",
       "  <tbody>\n",
       "    <tr>\n",
       "      <th>0</th>\n",
       "      <td>5.1</td>\n",
       "      <td>3.5</td>\n",
       "      <td>1.4</td>\n",
       "      <td>0.2</td>\n",
       "      <td>0</td>\n",
       "    </tr>\n",
       "    <tr>\n",
       "      <th>1</th>\n",
       "      <td>4.9</td>\n",
       "      <td>3.0</td>\n",
       "      <td>1.4</td>\n",
       "      <td>0.2</td>\n",
       "      <td>0</td>\n",
       "    </tr>\n",
       "    <tr>\n",
       "      <th>2</th>\n",
       "      <td>4.7</td>\n",
       "      <td>3.2</td>\n",
       "      <td>1.3</td>\n",
       "      <td>0.2</td>\n",
       "      <td>0</td>\n",
       "    </tr>\n",
       "  </tbody>\n",
       "</table>\n",
       "</div>"
      ],
      "text/plain": [
       "   sepal length (cm)  sepal width (cm)  petal length (cm)  petal width (cm)  \\\n",
       "0                5.1               3.5                1.4               0.2   \n",
       "1                4.9               3.0                1.4               0.2   \n",
       "2                4.7               3.2                1.3               0.2   \n",
       "\n",
       "   species  \n",
       "0        0  \n",
       "1        0  \n",
       "2        0  "
      ]
     },
     "execution_count": 15,
     "metadata": {},
     "output_type": "execute_result"
    }
   ],
   "source": [
    "iris_df['species'] = iris.target\n",
    "iris_df.head(3)"
   ]
  },
  {
   "cell_type": "markdown",
   "metadata": {},
   "source": [
    "**More on sklearn dataset loading utilities [here](https://scikit-learn.org/stable/datasets/index.html)**\n",
    "\n",
    "**Seaborn Datasets you can use are linked [here](https://github.com/mwaskom/seaborn-data)**"
   ]
  },
  {
   "cell_type": "markdown",
   "metadata": {},
   "source": [
    "<hr style=\"border-top: 10px groove goldenrod; margin-top: 1px; margin-bottom: 1px\"></hr>"
   ]
  },
  {
   "cell_type": "markdown",
   "metadata": {},
   "source": [
    "## Prepare\n",
    "\n",
    "This notebook will have an Imputing and Encoding focus. In Regression, I will focus more on scaling."
   ]
  },
  {
   "cell_type": "markdown",
   "metadata": {},
   "source": [
    "<hr style=\"border-top: 10px groove goldenrod; margin-top: 1px; margin-bottom: 1px\"></hr>"
   ]
  },
  {
   "cell_type": "markdown",
   "metadata": {},
   "source": [
    "### **<font color=red>What are Data Imputation and Data Encoding?</font>**\n",
    "\n",
    "**Imputation** is the process of replacing missing data with substituted values. You might choose to impute the mean, median, or mode of a given column to fill any holes or cells with missing data. Maybe you want to do something a little more complex like use a linear regression model to predict the missing values that you will impute. Depending on the situation, you might just decide to drop rows or columns that have more than a certain percentage of missing values. Whatever you decide to do, you first need to inspect your dataset for Null values.\n",
    "\n",
    "**Encoding** is when you convert a string to an integer representation making a categorical value useable in a ML model.\n",
    "\n",
    "**<font color=purple>I'll demonstrate a few different techniques to handle these tasks below.</font>**"
   ]
  },
  {
   "cell_type": "markdown",
   "metadata": {},
   "source": [
    "___"
   ]
  },
  {
   "cell_type": "markdown",
   "metadata": {},
   "source": [
    "### **<font color=orange>So What Are They For?</font>**\n",
    "\n",
    "**Both imputing and encoding our data is part of preparing it for use in Machine Learning models.**\n",
    "\n",
    "The simplest way to encode a categorical variable is with the pandas function `pd.get_dummies()`, so we'll look at that first. I perform this manipulation before I split. This is a great technique to start with and perfect place to build your understanding of encoding data.\n",
    "\n",
    "**The encoding techniques below are performed after I split my data, so I will demonstrate them later in the notebook.**\n",
    "\n",
    "Encoding with `LabelEncoder()` converts each unique value in your chosen column into an integer representing the original categorical value. **This technique is useful when there is meaning to the order of your categorical values, or in other words, for ordinal values..**\n",
    "\n",
    "One-hot Encoding is when we create a new column for each value in the oringinal column we wish to encode. Each observation in our DataFrame will have either a 0 or a 1 to indicate which of the new columns represents its value in the original column. **This is useful when the order of your categorical values does not carry meaning, or in other words, for nominal values.** Beware of the curse of dimensionality when using One-hot; it can quickly increase the number of columns, and therfore complexity, of your model exponentially.\n",
    "\n",
    "Take a deeper look at these various techniques [in this arcticle](https://towardsdatascience.com/categorical-encoding-using-label-encoding-and-one-hot-encoder-911ef77fb5bd) and [in this beginner's guide to encoding data](https://towardsdatascience.com/beginners-guide-to-encoding-data-5515da7f56ab)."
   ]
  },
  {
   "cell_type": "markdown",
   "metadata": {},
   "source": [
    "___"
   ]
  },
  {
   "cell_type": "markdown",
   "metadata": {},
   "source": [
    "### **<font color=green>Now What?</font>**\n",
    "\n",
    "**Let's take a look at our data and decide what variables may need imputing, encoding, or just dropped. I might also decide to create new columns in prepare.**"
   ]
  },
  {
   "cell_type": "markdown",
   "metadata": {},
   "source": [
    "#### `.map()` to Create Column\n",
    "\n",
    "I'm adding a column here, `is_female`, and demonstrating how I could do that using `df.map()`."
   ]
  },
  {
   "cell_type": "code",
   "execution_count": 16,
   "metadata": {},
   "outputs": [
    {
     "data": {
      "text/html": [
       "<div>\n",
       "<style scoped>\n",
       "    .dataframe tbody tr th:only-of-type {\n",
       "        vertical-align: middle;\n",
       "    }\n",
       "\n",
       "    .dataframe tbody tr th {\n",
       "        vertical-align: top;\n",
       "    }\n",
       "\n",
       "    .dataframe thead th {\n",
       "        text-align: right;\n",
       "    }\n",
       "</style>\n",
       "<table border=\"1\" class=\"dataframe\">\n",
       "  <thead>\n",
       "    <tr style=\"text-align: right;\">\n",
       "      <th></th>\n",
       "      <th>passenger_id</th>\n",
       "      <th>survived</th>\n",
       "      <th>pclass</th>\n",
       "      <th>sex</th>\n",
       "      <th>age</th>\n",
       "      <th>sibsp</th>\n",
       "      <th>parch</th>\n",
       "      <th>fare</th>\n",
       "      <th>embarked</th>\n",
       "      <th>class</th>\n",
       "      <th>deck</th>\n",
       "      <th>embark_town</th>\n",
       "      <th>alone</th>\n",
       "      <th>is_female</th>\n",
       "    </tr>\n",
       "  </thead>\n",
       "  <tbody>\n",
       "    <tr>\n",
       "      <th>0</th>\n",
       "      <td>0</td>\n",
       "      <td>0</td>\n",
       "      <td>3</td>\n",
       "      <td>male</td>\n",
       "      <td>22.0</td>\n",
       "      <td>1</td>\n",
       "      <td>0</td>\n",
       "      <td>7.2500</td>\n",
       "      <td>S</td>\n",
       "      <td>Third</td>\n",
       "      <td>None</td>\n",
       "      <td>Southampton</td>\n",
       "      <td>0</td>\n",
       "      <td>0</td>\n",
       "    </tr>\n",
       "    <tr>\n",
       "      <th>1</th>\n",
       "      <td>1</td>\n",
       "      <td>1</td>\n",
       "      <td>1</td>\n",
       "      <td>female</td>\n",
       "      <td>38.0</td>\n",
       "      <td>1</td>\n",
       "      <td>0</td>\n",
       "      <td>71.2833</td>\n",
       "      <td>C</td>\n",
       "      <td>First</td>\n",
       "      <td>C</td>\n",
       "      <td>Cherbourg</td>\n",
       "      <td>0</td>\n",
       "      <td>1</td>\n",
       "    </tr>\n",
       "    <tr>\n",
       "      <th>2</th>\n",
       "      <td>2</td>\n",
       "      <td>1</td>\n",
       "      <td>3</td>\n",
       "      <td>female</td>\n",
       "      <td>26.0</td>\n",
       "      <td>0</td>\n",
       "      <td>0</td>\n",
       "      <td>7.9250</td>\n",
       "      <td>S</td>\n",
       "      <td>Third</td>\n",
       "      <td>None</td>\n",
       "      <td>Southampton</td>\n",
       "      <td>1</td>\n",
       "      <td>1</td>\n",
       "    </tr>\n",
       "  </tbody>\n",
       "</table>\n",
       "</div>"
      ],
      "text/plain": [
       "   passenger_id  survived  pclass     sex   age  sibsp  parch     fare  \\\n",
       "0             0         0       3    male  22.0      1      0   7.2500   \n",
       "1             1         1       1  female  38.0      1      0  71.2833   \n",
       "2             2         1       3  female  26.0      0      0   7.9250   \n",
       "\n",
       "  embarked  class  deck  embark_town  alone  is_female  \n",
       "0        S  Third  None  Southampton      0          0  \n",
       "1        C  First     C    Cherbourg      0          1  \n",
       "2        S  Third  None  Southampton      1          1  "
      ]
     },
     "execution_count": 16,
     "metadata": {},
     "output_type": "execute_result"
    }
   ],
   "source": [
    "titanic_df['is_female'] = titanic_df.sex.map({'female': 1, 'male': 0})\n",
    "\n",
    "titanic_df.head(3)"
   ]
  },
  {
   "cell_type": "markdown",
   "metadata": {},
   "source": [
    "___"
   ]
  },
  {
   "cell_type": "markdown",
   "metadata": {},
   "source": [
    "#### `.isna()` and `.isnull()`\n",
    "\n",
    "I'll quickly check my dataset for missing values:\n",
    "\n",
    ">**<font color=purple>Here's a cool way to use a heatmap to visualize Null values in your dataset.</font>**"
   ]
  },
  {
   "cell_type": "code",
   "execution_count": 17,
   "metadata": {},
   "outputs": [
    {
     "data": {
      "image/png": "[encoded data removed]",
      "text/plain": [
       "<Figure size 792x648 with 1 Axes>"
      ]
     },
     "metadata": {
      "needs_background": "light"
     },
     "output_type": "display_data"
    }
   ],
   "source": [
    "sns.heatmap(titanic_df.isnull(), yticklabels = False, cbar = False, cmap='Blues')\n",
    "\n",
    "plt.title('Null Values by Column')\n",
    "plt.show()"
   ]
  },
  {
   "cell_type": "markdown",
   "metadata": {},
   "source": [
    "**Examine total missing values by column; this can help me make some decisions about imputing and dropping.**"
   ]
  },
  {
   "cell_type": "code",
   "execution_count": 18,
   "metadata": {},
   "outputs": [
    {
     "data": {
      "text/plain": [
       "passenger_id      0\n",
       "survived          0\n",
       "pclass            0\n",
       "sex               0\n",
       "age             177\n",
       "sibsp             0\n",
       "parch             0\n",
       "fare              0\n",
       "embarked          2\n",
       "class             0\n",
       "deck            688\n",
       "embark_town       2\n",
       "alone             0\n",
       "is_female         0\n",
       "dtype: int64"
      ]
     },
     "execution_count": 18,
     "metadata": {},
     "output_type": "execute_result"
    }
   ],
   "source": [
    "titanic_df.isna().sum()"
   ]
  },
  {
   "cell_type": "markdown",
   "metadata": {},
   "source": [
    "**Examine percent of missing values by column; I can begin to decide how to handle my missing values based on this.**"
   ]
  },
  {
   "cell_type": "code",
   "execution_count": 19,
   "metadata": {},
   "outputs": [
    {
     "data": {
      "text/plain": [
       "passenger_id     0.00\n",
       "survived         0.00\n",
       "pclass           0.00\n",
       "sex              0.00\n",
       "age             19.87\n",
       "sibsp            0.00\n",
       "parch            0.00\n",
       "fare             0.00\n",
       "embarked         0.22\n",
       "class            0.00\n",
       "deck            77.22\n",
       "embark_town      0.22\n",
       "alone            0.00\n",
       "is_female        0.00\n",
       "dtype: float64"
      ]
     },
     "execution_count": 19,
     "metadata": {},
     "output_type": "execute_result"
    }
   ],
   "source": [
    "round(titanic_df.isna().mean() * 100, 2)"
   ]
  },
  {
   "cell_type": "markdown",
   "metadata": {},
   "source": [
    "**I can check any missing values by subgroups if I really want to dig down.**"
   ]
  },
  {
   "cell_type": "code",
   "execution_count": 20,
   "metadata": {},
   "outputs": [
    {
     "data": {
      "text/html": [
       "<div>\n",
       "<style scoped>\n",
       "    .dataframe tbody tr th:only-of-type {\n",
       "        vertical-align: middle;\n",
       "    }\n",
       "\n",
       "    .dataframe tbody tr th {\n",
       "        vertical-align: top;\n",
       "    }\n",
       "\n",
       "    .dataframe thead th {\n",
       "        text-align: right;\n",
       "    }\n",
       "</style>\n",
       "<table border=\"1\" class=\"dataframe\">\n",
       "  <thead>\n",
       "    <tr style=\"text-align: right;\">\n",
       "      <th></th>\n",
       "      <th></th>\n",
       "      <th></th>\n",
       "      <th>passenger_id</th>\n",
       "      <th>age</th>\n",
       "      <th>sibsp</th>\n",
       "      <th>parch</th>\n",
       "      <th>fare</th>\n",
       "      <th>embarked</th>\n",
       "      <th>class</th>\n",
       "      <th>deck</th>\n",
       "      <th>embark_town</th>\n",
       "      <th>alone</th>\n",
       "      <th>is_female</th>\n",
       "    </tr>\n",
       "    <tr>\n",
       "      <th>survived</th>\n",
       "      <th>pclass</th>\n",
       "      <th>sex</th>\n",
       "      <th></th>\n",
       "      <th></th>\n",
       "      <th></th>\n",
       "      <th></th>\n",
       "      <th></th>\n",
       "      <th></th>\n",
       "      <th></th>\n",
       "      <th></th>\n",
       "      <th></th>\n",
       "      <th></th>\n",
       "      <th></th>\n",
       "    </tr>\n",
       "  </thead>\n",
       "  <tbody>\n",
       "    <tr>\n",
       "      <th rowspan=\"6\" valign=\"top\">0</th>\n",
       "      <th rowspan=\"2\" valign=\"top\">1</th>\n",
       "      <th>female</th>\n",
       "      <td>0</td>\n",
       "      <td>0.0</td>\n",
       "      <td>0</td>\n",
       "      <td>0</td>\n",
       "      <td>0.0</td>\n",
       "      <td>0</td>\n",
       "      <td>0</td>\n",
       "      <td>0</td>\n",
       "      <td>0</td>\n",
       "      <td>0</td>\n",
       "      <td>0</td>\n",
       "    </tr>\n",
       "    <tr>\n",
       "      <th>male</th>\n",
       "      <td>0</td>\n",
       "      <td>16.0</td>\n",
       "      <td>0</td>\n",
       "      <td>0</td>\n",
       "      <td>0.0</td>\n",
       "      <td>0</td>\n",
       "      <td>0</td>\n",
       "      <td>22</td>\n",
       "      <td>0</td>\n",
       "      <td>0</td>\n",
       "      <td>0</td>\n",
       "    </tr>\n",
       "    <tr>\n",
       "      <th rowspan=\"2\" valign=\"top\">2</th>\n",
       "      <th>female</th>\n",
       "      <td>0</td>\n",
       "      <td>0.0</td>\n",
       "      <td>0</td>\n",
       "      <td>0</td>\n",
       "      <td>0.0</td>\n",
       "      <td>0</td>\n",
       "      <td>0</td>\n",
       "      <td>5</td>\n",
       "      <td>0</td>\n",
       "      <td>0</td>\n",
       "      <td>0</td>\n",
       "    </tr>\n",
       "    <tr>\n",
       "      <th>male</th>\n",
       "      <td>0</td>\n",
       "      <td>7.0</td>\n",
       "      <td>0</td>\n",
       "      <td>0</td>\n",
       "      <td>0.0</td>\n",
       "      <td>0</td>\n",
       "      <td>0</td>\n",
       "      <td>89</td>\n",
       "      <td>0</td>\n",
       "      <td>0</td>\n",
       "      <td>0</td>\n",
       "    </tr>\n",
       "    <tr>\n",
       "      <th rowspan=\"2\" valign=\"top\">3</th>\n",
       "      <th>female</th>\n",
       "      <td>0</td>\n",
       "      <td>17.0</td>\n",
       "      <td>0</td>\n",
       "      <td>0</td>\n",
       "      <td>0.0</td>\n",
       "      <td>0</td>\n",
       "      <td>0</td>\n",
       "      <td>70</td>\n",
       "      <td>0</td>\n",
       "      <td>0</td>\n",
       "      <td>0</td>\n",
       "    </tr>\n",
       "    <tr>\n",
       "      <th>male</th>\n",
       "      <td>0</td>\n",
       "      <td>85.0</td>\n",
       "      <td>0</td>\n",
       "      <td>0</td>\n",
       "      <td>0.0</td>\n",
       "      <td>0</td>\n",
       "      <td>0</td>\n",
       "      <td>296</td>\n",
       "      <td>0</td>\n",
       "      <td>0</td>\n",
       "      <td>0</td>\n",
       "    </tr>\n",
       "    <tr>\n",
       "      <th rowspan=\"6\" valign=\"top\">1</th>\n",
       "      <th rowspan=\"2\" valign=\"top\">1</th>\n",
       "      <th>female</th>\n",
       "      <td>0</td>\n",
       "      <td>9.0</td>\n",
       "      <td>0</td>\n",
       "      <td>0</td>\n",
       "      <td>0.0</td>\n",
       "      <td>2</td>\n",
       "      <td>0</td>\n",
       "      <td>13</td>\n",
       "      <td>2</td>\n",
       "      <td>0</td>\n",
       "      <td>0</td>\n",
       "    </tr>\n",
       "    <tr>\n",
       "      <th>male</th>\n",
       "      <td>0</td>\n",
       "      <td>5.0</td>\n",
       "      <td>0</td>\n",
       "      <td>0</td>\n",
       "      <td>0.0</td>\n",
       "      <td>0</td>\n",
       "      <td>0</td>\n",
       "      <td>6</td>\n",
       "      <td>0</td>\n",
       "      <td>0</td>\n",
       "      <td>0</td>\n",
       "    </tr>\n",
       "    <tr>\n",
       "      <th rowspan=\"2\" valign=\"top\">2</th>\n",
       "      <th>female</th>\n",
       "      <td>0</td>\n",
       "      <td>2.0</td>\n",
       "      <td>0</td>\n",
       "      <td>0</td>\n",
       "      <td>0.0</td>\n",
       "      <td>0</td>\n",
       "      <td>0</td>\n",
       "      <td>61</td>\n",
       "      <td>0</td>\n",
       "      <td>0</td>\n",
       "      <td>0</td>\n",
       "    </tr>\n",
       "    <tr>\n",
       "      <th>male</th>\n",
       "      <td>0</td>\n",
       "      <td>2.0</td>\n",
       "      <td>0</td>\n",
       "      <td>0</td>\n",
       "      <td>0.0</td>\n",
       "      <td>0</td>\n",
       "      <td>0</td>\n",
       "      <td>13</td>\n",
       "      <td>0</td>\n",
       "      <td>0</td>\n",
       "      <td>0</td>\n",
       "    </tr>\n",
       "    <tr>\n",
       "      <th rowspan=\"2\" valign=\"top\">3</th>\n",
       "      <th>female</th>\n",
       "      <td>0</td>\n",
       "      <td>25.0</td>\n",
       "      <td>0</td>\n",
       "      <td>0</td>\n",
       "      <td>0.0</td>\n",
       "      <td>0</td>\n",
       "      <td>0</td>\n",
       "      <td>68</td>\n",
       "      <td>0</td>\n",
       "      <td>0</td>\n",
       "      <td>0</td>\n",
       "    </tr>\n",
       "    <tr>\n",
       "      <th>male</th>\n",
       "      <td>0</td>\n",
       "      <td>9.0</td>\n",
       "      <td>0</td>\n",
       "      <td>0</td>\n",
       "      <td>0.0</td>\n",
       "      <td>0</td>\n",
       "      <td>0</td>\n",
       "      <td>45</td>\n",
       "      <td>0</td>\n",
       "      <td>0</td>\n",
       "      <td>0</td>\n",
       "    </tr>\n",
       "  </tbody>\n",
       "</table>\n",
       "</div>"
      ],
      "text/plain": [
       "                        passenger_id   age  sibsp  parch  fare  embarked  \\\n",
       "survived pclass sex                                                        \n",
       "0        1      female             0   0.0      0      0   0.0         0   \n",
       "                male               0  16.0      0      0   0.0         0   \n",
       "         2      female             0   0.0      0      0   0.0         0   \n",
       "                male               0   7.0      0      0   0.0         0   \n",
       "         3      female             0  17.0      0      0   0.0         0   \n",
       "                male               0  85.0      0      0   0.0         0   \n",
       "1        1      female             0   9.0      0      0   0.0         2   \n",
       "                male               0   5.0      0      0   0.0         0   \n",
       "         2      female             0   2.0      0      0   0.0         0   \n",
       "                male               0   2.0      0      0   0.0         0   \n",
       "         3      female             0  25.0      0      0   0.0         0   \n",
       "                male               0   9.0      0      0   0.0         0   \n",
       "\n",
       "                        class  deck  embark_town  alone  is_female  \n",
       "survived pclass sex                                                 \n",
       "0        1      female      0     0            0      0          0  \n",
       "                male        0    22            0      0          0  \n",
       "         2      female      0     5            0      0          0  \n",
       "                male        0    89            0      0          0  \n",
       "         3      female      0    70            0      0          0  \n",
       "                male        0   296            0      0          0  \n",
       "1        1      female      0    13            2      0          0  \n",
       "                male        0     6            0      0          0  \n",
       "         2      female      0    61            0      0          0  \n",
       "                male        0    13            0      0          0  \n",
       "         3      female      0    68            0      0          0  \n",
       "                male        0    45            0      0          0  "
      ]
     },
     "execution_count": 20,
     "metadata": {},
     "output_type": "execute_result"
    }
   ],
   "source": [
    "titanic_df.groupby(['survived', 'pclass', 'sex']).agg(lambda s: s.isna().sum())"
   ]
  },
  {
   "cell_type": "markdown",
   "metadata": {},
   "source": [
    "___"
   ]
  },
  {
   "cell_type": "markdown",
   "metadata": {},
   "source": [
    "#### Encoding Technique Before Splitting"
   ]
  },
  {
   "cell_type": "markdown",
   "metadata": {},
   "source": [
    "##### `pd.get_dummies()` \n",
    "\n",
    "Remeber that I perform this manipulation here before I split my data. This is a simple way to encode categorical variables, and we will look at some more sophisticated techniques a bit farther down."
   ]
  },
  {
   "cell_type": "code",
   "execution_count": 21,
   "metadata": {},
   "outputs": [
    {
     "data": {
      "text/html": [
       "<div>\n",
       "<style scoped>\n",
       "    .dataframe tbody tr th:only-of-type {\n",
       "        vertical-align: middle;\n",
       "    }\n",
       "\n",
       "    .dataframe tbody tr th {\n",
       "        vertical-align: top;\n",
       "    }\n",
       "\n",
       "    .dataframe thead th {\n",
       "        text-align: right;\n",
       "    }\n",
       "</style>\n",
       "<table border=\"1\" class=\"dataframe\">\n",
       "  <thead>\n",
       "    <tr style=\"text-align: right;\">\n",
       "      <th></th>\n",
       "      <th>Q</th>\n",
       "      <th>S</th>\n",
       "    </tr>\n",
       "  </thead>\n",
       "  <tbody>\n",
       "    <tr>\n",
       "      <th>418</th>\n",
       "      <td>0</td>\n",
       "      <td>1</td>\n",
       "    </tr>\n",
       "    <tr>\n",
       "      <th>370</th>\n",
       "      <td>0</td>\n",
       "      <td>0</td>\n",
       "    </tr>\n",
       "    <tr>\n",
       "      <th>344</th>\n",
       "      <td>0</td>\n",
       "      <td>1</td>\n",
       "    </tr>\n",
       "    <tr>\n",
       "      <th>351</th>\n",
       "      <td>0</td>\n",
       "      <td>1</td>\n",
       "    </tr>\n",
       "    <tr>\n",
       "      <th>277</th>\n",
       "      <td>0</td>\n",
       "      <td>1</td>\n",
       "    </tr>\n",
       "  </tbody>\n",
       "</table>\n",
       "</div>"
      ],
      "text/plain": [
       "     Q  S\n",
       "418  0  1\n",
       "370  0  0\n",
       "344  0  1\n",
       "351  0  1\n",
       "277  0  1"
      ]
     },
     "execution_count": 21,
     "metadata": {},
     "output_type": "execute_result"
    }
   ],
   "source": [
    "# First I create a new dataframe that holds my encoded columns.\n",
    "\n",
    "embarked_dummies = pd.get_dummies(titanic_df.embarked, drop_first=True)\n",
    "embarked_dummies.sample(5)"
   ]
  },
  {
   "cell_type": "code",
   "execution_count": 22,
   "metadata": {},
   "outputs": [],
   "source": [
    "# Then I add my encoded columns back onto my original dataframe.\n",
    "\n",
    "titanic_df = pd.concat([titanic_df, embarked_dummies], axis=1)"
   ]
  },
  {
   "cell_type": "code",
   "execution_count": 23,
   "metadata": {},
   "outputs": [
    {
     "data": {
      "text/html": [
       "<div>\n",
       "<style scoped>\n",
       "    .dataframe tbody tr th:only-of-type {\n",
       "        vertical-align: middle;\n",
       "    }\n",
       "\n",
       "    .dataframe tbody tr th {\n",
       "        vertical-align: top;\n",
       "    }\n",
       "\n",
       "    .dataframe thead th {\n",
       "        text-align: right;\n",
       "    }\n",
       "</style>\n",
       "<table border=\"1\" class=\"dataframe\">\n",
       "  <thead>\n",
       "    <tr style=\"text-align: right;\">\n",
       "      <th></th>\n",
       "      <th>passenger_id</th>\n",
       "      <th>survived</th>\n",
       "      <th>pclass</th>\n",
       "      <th>sex</th>\n",
       "      <th>age</th>\n",
       "      <th>sibsp</th>\n",
       "      <th>parch</th>\n",
       "      <th>fare</th>\n",
       "      <th>embarked</th>\n",
       "      <th>class</th>\n",
       "      <th>deck</th>\n",
       "      <th>embark_town</th>\n",
       "      <th>alone</th>\n",
       "      <th>is_female</th>\n",
       "      <th>Q</th>\n",
       "      <th>S</th>\n",
       "    </tr>\n",
       "  </thead>\n",
       "  <tbody>\n",
       "    <tr>\n",
       "      <th>572</th>\n",
       "      <td>572</td>\n",
       "      <td>1</td>\n",
       "      <td>1</td>\n",
       "      <td>male</td>\n",
       "      <td>36.0</td>\n",
       "      <td>0</td>\n",
       "      <td>0</td>\n",
       "      <td>26.3875</td>\n",
       "      <td>S</td>\n",
       "      <td>First</td>\n",
       "      <td>E</td>\n",
       "      <td>Southampton</td>\n",
       "      <td>1</td>\n",
       "      <td>0</td>\n",
       "      <td>0</td>\n",
       "      <td>1</td>\n",
       "    </tr>\n",
       "    <tr>\n",
       "      <th>332</th>\n",
       "      <td>332</td>\n",
       "      <td>0</td>\n",
       "      <td>1</td>\n",
       "      <td>male</td>\n",
       "      <td>38.0</td>\n",
       "      <td>0</td>\n",
       "      <td>1</td>\n",
       "      <td>153.4625</td>\n",
       "      <td>S</td>\n",
       "      <td>First</td>\n",
       "      <td>C</td>\n",
       "      <td>Southampton</td>\n",
       "      <td>0</td>\n",
       "      <td>0</td>\n",
       "      <td>0</td>\n",
       "      <td>1</td>\n",
       "    </tr>\n",
       "  </tbody>\n",
       "</table>\n",
       "</div>"
      ],
      "text/plain": [
       "     passenger_id  survived  pclass   sex   age  sibsp  parch      fare  \\\n",
       "572           572         1       1  male  36.0      0      0   26.3875   \n",
       "332           332         0       1  male  38.0      0      1  153.4625   \n",
       "\n",
       "    embarked  class deck  embark_town  alone  is_female  Q  S  \n",
       "572        S  First    E  Southampton      1          0  0  1  \n",
       "332        S  First    C  Southampton      0          0  0  1  "
      ]
     },
     "execution_count": 23,
     "metadata": {},
     "output_type": "execute_result"
    }
   ],
   "source": [
    "titanic_df.sample(2)"
   ]
  },
  {
   "cell_type": "markdown",
   "metadata": {},
   "source": [
    "___"
   ]
  },
  {
   "cell_type": "markdown",
   "metadata": {},
   "source": [
    "##### `.drop()`\n",
    "\n",
    "If I'm going to drop any columns or rows, I can do it right here before the split. There are some categorical columns I'm not dropping because I want to use them in explore. I'm choosing to keep my dataframe exploration-friendly, and I can curate columns for modeling later."
   ]
  },
  {
   "cell_type": "code",
   "execution_count": 24,
   "metadata": {},
   "outputs": [
    {
     "name": "stdout",
     "output_type": "stream",
     "text": [
      "<class 'pandas.core.frame.DataFrame'>\n",
      "RangeIndex: 891 entries, 0 to 890\n",
      "Data columns (total 13 columns):\n",
      " #   Column       Non-Null Count  Dtype  \n",
      "---  ------       --------------  -----  \n",
      " 0   survived     891 non-null    int64  \n",
      " 1   pclass       891 non-null    int64  \n",
      " 2   sex          891 non-null    object \n",
      " 3   age          714 non-null    float64\n",
      " 4   sibsp        891 non-null    int64  \n",
      " 5   parch        891 non-null    int64  \n",
      " 6   fare         891 non-null    float64\n",
      " 7   class        891 non-null    object \n",
      " 8   embark_town  889 non-null    object \n",
      " 9   alone        891 non-null    int64  \n",
      " 10  is_female    891 non-null    int64  \n",
      " 11  Q            891 non-null    uint8  \n",
      " 12  S            891 non-null    uint8  \n",
      "dtypes: float64(2), int64(6), object(3), uint8(2)\n",
      "memory usage: 78.4+ KB\n"
     ]
    }
   ],
   "source": [
    "titanic_df = titanic_df.drop(columns=['deck', 'passenger_id', 'embarked'])\n",
    "titanic_df.info()"
   ]
  },
  {
   "cell_type": "markdown",
   "metadata": {},
   "source": [
    "___"
   ]
  },
  {
   "cell_type": "markdown",
   "metadata": {},
   "source": [
    "## Split Your Data"
   ]
  },
  {
   "cell_type": "markdown",
   "metadata": {},
   "source": [
    "**<font color=red></font>**\n",
    "<div class=\"alert alert-block alert-warning\">Split before you begin exploring variable relationships or performing calculations like find the mean to impute for missing values.</div>"
   ]
  },
  {
   "cell_type": "markdown",
   "metadata": {},
   "source": [
    "___"
   ]
  },
  {
   "cell_type": "markdown",
   "metadata": {},
   "source": [
    "### **<font color=red>What is Splitting?</font>**\n",
    "\n",
    "At this stage, you will create train (in-sample), validate (out-of-sample), and test (out-of-sample) dataframes using the train_test_split function from Sklearn. This will randomly split your dataset into train, validate, and test by the percentage you pass into the function. You will use the train set to do exactly that, train your model to make predictions. You will use your validate set to evalute your model's performance on unseen data and ensure that it didn't learn too much from your train set causing it to 'overfit' on a particular set of data. You will repeat that process for each model you create, and finally you will choose your best model to use with your test dataset.\n",
    "\n",
    "![train, validate, test split](data:image/jpeg;base64,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)"
   ]
  },
  {
   "cell_type": "markdown",
   "metadata": {},
   "source": [
    "<div class=\"alert alert-block alert-warning\">\n",
    "<b>Be Aware:</b> You may need to stratify your split on a particular feature, so that the proportion of a feature's values is the same in your train, validate, and test datasets. You can pass the stratify parameter as an option to your train_test_split.\n",
    "</div>\n",
    "\n",
    "```python\n",
    "from sklearn.model_selection import train_test_split\n",
    "\n",
    "# Create test dataset\n",
    "\n",
    "train_validate, test = train_test_split(df, \n",
    "                                        test_size=.2, \n",
    "                                        random_state=123, \n",
    "                                        stratify=df.target)\n",
    "# Create train and validate datsets\n",
    "\n",
    "train, validate = train_test_split(train_validate, \n",
    "                                   test_size=.3, \n",
    "                                   random_state=123, \n",
    "                                   stratify=train_validate.target)\n",
    "\n",
    "# Take a look at your split datasets\n",
    "\n",
    "print(f'train -> {train.shape}')\n",
    "print(f'validate -> {validate.shape}')\n",
    "print(f'test -> {test.shape}')\n",
    "\n",
    "```"
   ]
  },
  {
   "cell_type": "code",
   "execution_count": 18,
   "metadata": {},
   "outputs": [],
   "source": [
    "train_validate, test = train_test_split(titanic_df, test_size=.2, \n",
    "                                        random_state=123, \n",
    "                                        stratify=titanic_df.survived)\n",
    "\n",
    "train, validate = train_test_split(train_validate, test_size=.3, \n",
    "                                   random_state=123, \n",
    "                                   stratify=train_validate.survived)"
   ]
  },
  {
   "cell_type": "code",
   "execution_count": 19,
   "metadata": {},
   "outputs": [
    {
     "name": "stdout",
     "output_type": "stream",
     "text": [
      "train -> (498, 13)\n",
      "validate -> (214, 13)\n",
      "test -> (179, 13)\n"
     ]
    }
   ],
   "source": [
    "print(f'train -> {train.shape}')\n",
    "print(f'validate -> {validate.shape}')\n",
    "print(f'test -> {test.shape}')"
   ]
  },
  {
   "cell_type": "markdown",
   "metadata": {},
   "source": [
    "___"
   ]
  },
  {
   "cell_type": "markdown",
   "metadata": {},
   "source": [
    "### **<font color=orange>So What?</font>**\n",
    "\n",
    "You may **explore individual variables before splitting** your data into train, validate, and test datasets, so that you can look at distributions, identify outliers, Nulls, etc. However, **when looking at interactions of variables**, your data should first be split before you explore. You should also split your data **before** you scale. This is because your validate and test data should remain unseen as much as possible as it is supposed to be unknown at this stage.\n",
    "\n",
    "*An important component of Data Science is that peers must be able to replicate what you have done to your data, especially if you are going to deploy your model to be used in the future. By splitting your data into train, validate, and test sets early on in the pipeline, you are also confirming that any processing you completed on your train set is repeatable on your validate and test datasets as well as unseen future sets.*"
   ]
  },
  {
   "cell_type": "markdown",
   "metadata": {},
   "source": [
    "___"
   ]
  },
  {
   "cell_type": "markdown",
   "metadata": {},
   "source": [
    "### **<font color=green>Now What?</font>**"
   ]
  },
  {
   "cell_type": "markdown",
   "metadata": {},
   "source": [
    "**Now I can investigate the relationship between two columns.**"
   ]
  },
  {
   "cell_type": "code",
   "execution_count": 20,
   "metadata": {},
   "outputs": [
    {
     "data": {
      "text/html": [
       "<div>\n",
       "<style scoped>\n",
       "    .dataframe tbody tr th:only-of-type {\n",
       "        vertical-align: middle;\n",
       "    }\n",
       "\n",
       "    .dataframe tbody tr th {\n",
       "        vertical-align: top;\n",
       "    }\n",
       "\n",
       "    .dataframe thead th {\n",
       "        text-align: right;\n",
       "    }\n",
       "</style>\n",
       "<table border=\"1\" class=\"dataframe\">\n",
       "  <thead>\n",
       "    <tr style=\"text-align: right;\">\n",
       "      <th>parch</th>\n",
       "      <th>0</th>\n",
       "      <th>1</th>\n",
       "      <th>2</th>\n",
       "      <th>3</th>\n",
       "      <th>4</th>\n",
       "      <th>5</th>\n",
       "    </tr>\n",
       "    <tr>\n",
       "      <th>sibsp</th>\n",
       "      <th></th>\n",
       "      <th></th>\n",
       "      <th></th>\n",
       "      <th></th>\n",
       "      <th></th>\n",
       "      <th></th>\n",
       "    </tr>\n",
       "  </thead>\n",
       "  <tbody>\n",
       "    <tr>\n",
       "      <th>0</th>\n",
       "      <td>315</td>\n",
       "      <td>22</td>\n",
       "      <td>18</td>\n",
       "      <td>0</td>\n",
       "      <td>1</td>\n",
       "      <td>1</td>\n",
       "    </tr>\n",
       "    <tr>\n",
       "      <th>1</th>\n",
       "      <td>59</td>\n",
       "      <td>27</td>\n",
       "      <td>5</td>\n",
       "      <td>3</td>\n",
       "      <td>0</td>\n",
       "      <td>2</td>\n",
       "    </tr>\n",
       "    <tr>\n",
       "      <th>2</th>\n",
       "      <td>10</td>\n",
       "      <td>7</td>\n",
       "      <td>3</td>\n",
       "      <td>1</td>\n",
       "      <td>0</td>\n",
       "      <td>0</td>\n",
       "    </tr>\n",
       "    <tr>\n",
       "      <th>3</th>\n",
       "      <td>1</td>\n",
       "      <td>4</td>\n",
       "      <td>4</td>\n",
       "      <td>0</td>\n",
       "      <td>0</td>\n",
       "      <td>0</td>\n",
       "    </tr>\n",
       "    <tr>\n",
       "      <th>4</th>\n",
       "      <td>0</td>\n",
       "      <td>5</td>\n",
       "      <td>3</td>\n",
       "      <td>0</td>\n",
       "      <td>0</td>\n",
       "      <td>0</td>\n",
       "    </tr>\n",
       "    <tr>\n",
       "      <th>5</th>\n",
       "      <td>0</td>\n",
       "      <td>0</td>\n",
       "      <td>2</td>\n",
       "      <td>0</td>\n",
       "      <td>0</td>\n",
       "      <td>0</td>\n",
       "    </tr>\n",
       "    <tr>\n",
       "      <th>8</th>\n",
       "      <td>0</td>\n",
       "      <td>0</td>\n",
       "      <td>5</td>\n",
       "      <td>0</td>\n",
       "      <td>0</td>\n",
       "      <td>0</td>\n",
       "    </tr>\n",
       "  </tbody>\n",
       "</table>\n",
       "</div>"
      ],
      "text/plain": [
       "parch    0   1   2  3  4  5\n",
       "sibsp                      \n",
       "0      315  22  18  0  1  1\n",
       "1       59  27   5  3  0  2\n",
       "2       10   7   3  1  0  0\n",
       "3        1   4   4  0  0  0\n",
       "4        0   5   3  0  0  0\n",
       "5        0   0   2  0  0  0\n",
       "8        0   0   5  0  0  0"
      ]
     },
     "execution_count": 20,
     "metadata": {},
     "output_type": "execute_result"
    }
   ],
   "source": [
    "pd.crosstab(train.sibsp, train.parch)"
   ]
  },
  {
   "cell_type": "markdown",
   "metadata": {},
   "source": [
    "___"
   ]
  },
  {
   "cell_type": "markdown",
   "metadata": {},
   "source": [
    "#### Imputing Techniques"
   ]
  },
  {
   "cell_type": "markdown",
   "metadata": {},
   "source": [
    "##### `.fillna()`\n",
    "\n",
    "**Fill null values in a column in your datasets with a constant like 0; reassign to original dataframes.**\n",
    "\n",
    "```python\n",
    "train['col'] = train['col'].fillna(0)\n",
    "\n",
    "validate['col'] = validate['col'].fillna(0)\n",
    "\n",
    "test['col'] = test['col'].fillna(0)\n",
    "```"
   ]
  },
  {
   "cell_type": "markdown",
   "metadata": {},
   "source": [
    "___"
   ]
  },
  {
   "cell_type": "markdown",
   "metadata": {},
   "source": [
    "**Fill null values in a column with the overall average from the training data.**"
   ]
  },
  {
   "cell_type": "code",
   "execution_count": 21,
   "metadata": {},
   "outputs": [],
   "source": [
    "#Calculate our fill value using train dataset only.\n",
    "\n",
    "avg_age = train.age.mean()\n",
    "\n",
    "# Fill null values in all of our datasets using our hardcoded value.\n",
    "\n",
    "train.age = train.age.fillna(avg_age)\n",
    "\n",
    "validate.age = validate.age.fillna(avg_age)\n",
    "\n",
    "test.age = test.age.fillna(avg_age)"
   ]
  },
  {
   "cell_type": "code",
   "execution_count": 22,
   "metadata": {},
   "outputs": [
    {
     "data": {
      "image/png": "[encoded data removed]",
      "text/plain": [
       "<Figure size 792x648 with 1 Axes>"
      ]
     },
     "metadata": {
      "needs_background": "light"
     },
     "output_type": "display_data"
    }
   ],
   "source": [
    "# Validate that our fill was successful.\n",
    "\n",
    "sns.heatmap(train.isnull(), yticklabels = False, cbar = False, cmap='Blues')\n",
    "\n",
    "plt.title('Null Values by Column After Handling Nulls in Age')\n",
    "plt.show()"
   ]
  },
  {
   "cell_type": "markdown",
   "metadata": {},
   "source": [
    "___"
   ]
  },
  {
   "cell_type": "markdown",
   "metadata": {},
   "source": [
    "##### `.SimpleImputer()`\n",
    "\n",
    "We can also use some more sophisticated techniques using sklearn. **Sklearn's SimpleImputer ONLY works on numeric columns.**\n",
    "\n",
    "**Create the imputer; pick your strategy.**\n",
    "\n",
    "```python\n",
    "from sklearn.impute import SimpleImputer\n",
    "\n",
    "imputer = sklearn.impute.SimpleImputer(strategy='mean')\n",
    "```\n",
    "\n",
    "**Fit the imputer to train dataframe.**\n",
    "\n",
    "```python\n",
    "imputer = imputer.fit(train[['column']])\n",
    "```\n",
    "\n",
    "**Use the Imputer on train, validate, and test dataframes and reassign to dataframes.**\n",
    "\n",
    "```python\n",
    "train[['column']] = imputer.transform(train[['column']])\n",
    "\n",
    "validate[['column']] = imputer.transform(validate[['column']])\n",
    "\n",
    "test[['column']] = imputer.transform(test[['column']])\n",
    "```"
   ]
  },
  {
   "cell_type": "markdown",
   "metadata": {},
   "source": [
    "___"
   ]
  },
  {
   "cell_type": "markdown",
   "metadata": {},
   "source": [
    "##### What if our missing values are in a categorical column?\n",
    "\n",
    "Here's one way you could handle this if without dropping observations.\n",
    "\n",
    "```python\n",
    "cat_mode = train['Label'].value_counts().index[0]\n",
    "\n",
    "train['cat_column'] = train['cat_column'].fillna(cat_mode)\n",
    "\n",
    "validate['cat_column'] = validate['cat_column'].fillna(cat_mode)\n",
    "\n",
    "test['cat_column'] = test['cat_column'].fillna(cat_mode)\n",
    "```"
   ]
  },
  {
   "cell_type": "code",
   "execution_count": 23,
   "metadata": {},
   "outputs": [
    {
     "data": {
      "text/plain": [
       "1"
      ]
     },
     "execution_count": 23,
     "metadata": {},
     "output_type": "execute_result"
    }
   ],
   "source": [
    "train['embark_town'].isnull().sum()"
   ]
  },
  {
   "cell_type": "code",
   "execution_count": 24,
   "metadata": {},
   "outputs": [
    {
     "data": {
      "text/plain": [
       "'Southampton'"
      ]
     },
     "execution_count": 24,
     "metadata": {},
     "output_type": "execute_result"
    }
   ],
   "source": [
    "# Establish the mode categorical value using the train dataset.\n",
    "\n",
    "embark_mode = train['embark_town'].value_counts().index[0]\n",
    "embark_mode"
   ]
  },
  {
   "cell_type": "markdown",
   "metadata": {},
   "source": [
    "**Fill null values in `embark_town` in all datasets with `embark_mode` value; reassign to dataframes.**"
   ]
  },
  {
   "cell_type": "code",
   "execution_count": 25,
   "metadata": {},
   "outputs": [],
   "source": [
    "train['embark_town'] = train['embark_town'].fillna(embark_mode)\n",
    "validate['embark_town'] = validate['embark_town'].fillna(embark_mode)\n",
    "test['embark_town'] = test['embark_town'].fillna(embark_mode)"
   ]
  },
  {
   "cell_type": "code",
   "execution_count": 26,
   "metadata": {},
   "outputs": [
    {
     "data": {
      "text/plain": [
       "0"
      ]
     },
     "execution_count": 26,
     "metadata": {},
     "output_type": "execute_result"
    }
   ],
   "source": [
    "# Validate our fill on train dataset.\n",
    "\n",
    "train['embark_town'].isnull().sum()"
   ]
  },
  {
   "cell_type": "markdown",
   "metadata": {},
   "source": [
    "___"
   ]
  },
  {
   "cell_type": "markdown",
   "metadata": {},
   "source": [
    "#### Encoding Techniques AFTER Splitting"
   ]
  },
  {
   "cell_type": "markdown",
   "metadata": {},
   "source": [
    "##### `LabelEncoder()` \n",
    "\n",
    "**Create the Encoder Object.**\n",
    "\n",
    "```python\n",
    "from sklearn.preprocessing import LabelEncoder\n",
    "\n",
    "le = LabelEncoder()\n",
    "```\n",
    "\n",
    "**Fit and Transform train dataset and reassign.**\n",
    "\n",
    "```python\n",
    "train['col'] = le.fit_transform(train.col_to_encode)\n",
    "```\n",
    "\n",
    "**Transform validate and test datasets and reassign.**\n",
    "\n",
    "```python\n",
    "validate['col'] = le.transform(validate.col_to_encode)\n",
    "\n",
    "test['col'] = le.transform(test.col_to_encode)\n",
    "```\n",
    "\n",
    "**Decode Your Encoded Column.**\n",
    "\n",
    "```python\n",
    "train['col'] = le.inverse_transform(train.col_to_decode)\n",
    "\n",
    "validate['col'] = le.inverse_transform(validate.col_to_decode)\n",
    "\n",
    "test['col'] = le.inverse_transform(test.col_to_decode)\n",
    "```"
   ]
  },
  {
   "cell_type": "markdown",
   "metadata": {},
   "source": [
    "___"
   ]
  },
  {
   "cell_type": "markdown",
   "metadata": {},
   "source": [
    "##### `OneHotEncoder()`\n",
    "\n",
    "**Create the OHE Object.**\n",
    "\n",
    "```python\n",
    "from sklearn.preprocessing import OneHotEncoder\n",
    "\n",
    "ohe = OneHotEncoder(sparse=False, categories='auto')\n",
    "```\n",
    "\n",
    "**Fit and Transform train to create an array of values.**\n",
    "\n",
    "```python\n",
    "train_matrix = ohe.fit_transform(train[['col']])\n",
    "```\n",
    "\n",
    "**Transform validate and test to create arrays of values.**\n",
    "```python\n",
    "validate_matrix = ohe.transform(validate[['col']])\n",
    "\n",
    "test_matrix = ohe.transform(test[['col']])\n",
    "```\n",
    "\n",
    "**Convert Arrays to dataframes of Encoded Columns.**\n",
    "\n",
    "```python\n",
    "train_ohe = pd.DataFrame(train_matrix, columns=ohe.categories_[0], index=train.index)\n",
    "\n",
    "validate_ohe = pd.DataFrame(validate_matrix, columns=ohe.categories_[0], index=validate.index)\n",
    "\n",
    "test_ohe = pd.DataFrame(test_matrix, columns=ohe.categories_[0], index=test.index)\n",
    "```\n",
    "\n",
    "**Join Your dataframes of Encoded Columns to your original dataframes.**\n",
    "\n",
    "```python\n",
    "train = train.join(train_ohe)\n",
    "\n",
    "validate = validate.join(validate_ohe)\n",
    "\n",
    "test = test.join(test_ohe)\n",
    "```"
   ]
  },
  {
   "cell_type": "markdown",
   "metadata": {},
   "source": [
    "<hr style=\"border-top: 10px groove dodgerblue; margin-top: 1px; margin-bottom: 1px\"></hr>"
   ]
  },
  {
   "cell_type": "markdown",
   "metadata": {},
   "source": [
    "## Explore"
   ]
  },
  {
   "cell_type": "markdown",
   "metadata": {},
   "source": [
    "<hr style=\"border-top: 10px groove dodgerblue; margin-top: 1px; margin-bottom: 1px\"></hr>"
   ]
  },
  {
   "cell_type": "markdown",
   "metadata": {},
   "source": [
    "![image.png](https://www.cambridgemaths.org/Images/E29-exploratory-data-analysis.jpg)\n",
    "\n",
    "### **<font color=red>What is EDA (Exploratory Data Analysis)?</font>**\n",
    "\n",
    "Exploratory Data Analysis involves learning more about the data you're working with. One reason to perform EDA is to visualize parts of the data to better understand the correlation between the features and the target.\n",
    "\n",
    "**The preparation for your dataset for exploration may not be the same as the prepartion of your dataset for modeling.** The requirements of Machine Learning algorithms do not always overlap with the requirements for good data visualization or exploration."
   ]
  },
  {
   "cell_type": "markdown",
   "metadata": {},
   "source": [
    "___"
   ]
  },
  {
   "cell_type": "markdown",
   "metadata": {},
   "source": [
    "### **<font color=orange>So What Types of Viz are best for exploring categorical vs continuous data?</font>**"
   ]
  },
  {
   "cell_type": "markdown",
   "metadata": {},
   "source": [
    "How do you decide what chart to use? Should you aggregate your data to get a better view? Are you making a comparison or showing a relationship between variables? Do you want to display the distribution or composition of your dataset? These are important questions to ask yourself when deciding on types of chart to use and data aggregations for exploration.\n",
    "\n",
    "Read more about how to choose a chart [here](https://eazybi.com/blog/data_visualization_and_chart_types/).\n",
    "\n",
    "![image](https://www.mymarketresearchmethods.com/wp-content/uploads/2013/01/chart-types-choosing-the-right-one.png)"
   ]
  },
  {
   "cell_type": "markdown",
   "metadata": {},
   "source": [
    "**Glossary for Matplotlib Figures**"
   ]
  },
  {
   "cell_type": "code",
   "execution_count": 27,
   "metadata": {},
   "outputs": [
    {
     "data": {
      "image/png": "[encoded data removed]",
      "text/plain": [
       "<Figure size 576x576 with 1 Axes>"
      ]
     },
     "metadata": {
      "needs_background": "light"
     },
     "output_type": "display_data"
    }
   ],
   "source": [
    "anatomy_of_a_figure()"
   ]
  },
  {
   "cell_type": "markdown",
   "metadata": {},
   "source": [
    "___"
   ]
  },
  {
   "cell_type": "markdown",
   "metadata": {},
   "source": [
    "##### `plt.rc()`\n",
    "\n",
    "Set uniform chart and font sizes at the top of your notebook if you like.\n",
    "\n",
    "```python\n",
    "plt.rc('figure', figsize=(num, num))\n",
    "\n",
    "plt.rc('font', size=num)\n",
    "```"
   ]
  },
  {
   "cell_type": "markdown",
   "metadata": {},
   "source": [
    "___"
   ]
  },
  {
   "cell_type": "markdown",
   "metadata": {},
   "source": [
    "##### Subplots Using Simple pyplot Code\n",
    "\n",
    "```python\n",
    "# figure 1 of 2; everything up until the next subplot is on the first plot\n",
    "plt.subplot(211) \n",
    "\n",
    "plt.plot(x, y)\n",
    "\n",
    "plt.show()\n",
    "\n",
    "# figure 2 of 2\n",
    "plt.subplot(212)\n",
    "\n",
    "plt.plot(y, x)\n",
    "\n",
    "plt.show()\n",
    "```"
   ]
  },
  {
   "cell_type": "markdown",
   "metadata": {},
   "source": [
    "___"
   ]
  },
  {
   "cell_type": "markdown",
   "metadata": {},
   "source": [
    "##### Subplots Using Matplotlib Object-Oriented API\n",
    "\n",
    "A figure in matplotlib is divided into two different objects:\n",
    "\n",
    "- The Figure Class: It can contain one or more axes objects.\n",
    "\n",
    "- The Axes Object: It represents one plot inside of a figure object.\n",
    "\n",
    "```python\n",
    "# create figure and axes -> subplots(nrows, ncols)\n",
    "\n",
    "fig, axes = plt.subplots(2,1)\n",
    "\n",
    "# plot 1 of 2\n",
    "axes[0].plot(x, y)\n",
    "\n",
    "# set components of axes 1/plot 1\n",
    "axes[0].set(title='My Title')\n",
    "\n",
    "# plot 2 of 2\n",
    "axes[1].plot(y, x)\n",
    "\n",
    "# set components of axes 2/plot 2\n",
    "axes[1].set(title='My Title')\n",
    "\n",
    "# manipulate labels of x-ticks\n",
    "axes[1].set_xticklabels()\n",
    "\n",
    "# auto-adjust layout\n",
    "fig.tight_layout()\n",
    "```"
   ]
  },
  {
   "cell_type": "markdown",
   "metadata": {},
   "source": [
    "___"
   ]
  },
  {
   "cell_type": "markdown",
   "metadata": {},
   "source": [
    "### <font color=green>Now What?</font>\n",
    "\n",
    "**Below is a collection of some possibilities for exploring categorical and continuous values.** \n",
    "\n",
    "If you want more, check out [this article](https://www.machinelearningplus.com/plots/top-50-matplotlib-visualizations-the-master-plots-python/) showing 50 amazing matplotlib visualizations with code. It's organized by purpose of visualization objective, so it's easy to navigate, too."
   ]
  },
  {
   "cell_type": "markdown",
   "metadata": {},
   "source": [
    "___"
   ]
  },
  {
   "cell_type": "markdown",
   "metadata": {},
   "source": [
    "##### `plt.hist()`\n",
    "\n",
    "Visualize the distribution of a single variable."
   ]
  },
  {
   "cell_type": "code",
   "execution_count": 82,
   "metadata": {},
   "outputs": [
    {
     "data": {
      "image/png": "[encoded data removed]",
      "text/plain": [
       "<Figure size 792x648 with 1 Axes>"
      ]
     },
     "metadata": {
      "needs_background": "light"
     },
     "output_type": "display_data"
    }
   ],
   "source": [
    "plt.hist(train.fare, bins=20)\n",
    "\n",
    "plt.title('The Fare Distribution is Right Skewed - More Cheap Seats')\n",
    "plt.xlabel('Dollars')\n",
    "plt.ylabel('Passenger Count')\n",
    "plt.show()"
   ]
  },
  {
   "cell_type": "markdown",
   "metadata": {},
   "source": [
    "___"
   ]
  },
  {
   "cell_type": "markdown",
   "metadata": {},
   "source": [
    "##### `sns.scatter()`\n",
    "\n",
    "We can look for correlation between two continuous variables; hue allows us to bring in a categorical variable here as well."
   ]
  },
  {
   "cell_type": "code",
   "execution_count": 89,
   "metadata": {},
   "outputs": [
    {
     "data": {
      "image/png": "[encoded data removed]",
      "text/plain": [
       "<Figure size 792x648 with 1 Axes>"
      ]
     },
     "metadata": {
      "needs_background": "light"
     },
     "output_type": "display_data"
    }
   ],
   "source": [
    "sns.scatterplot(x='age', y='fare', data=train, hue='survived')\n",
    "plt.title('No Real Relationship Between Age and Fare')\n",
    "plt.xlabel('Age')\n",
    "plt.ylabel('Fare in Dollars')\n",
    "\n",
    "plt.show()"
   ]
  },
  {
   "cell_type": "markdown",
   "metadata": {},
   "source": [
    "___"
   ]
  },
  {
   "cell_type": "markdown",
   "metadata": {},
   "source": [
    "##### `sns.catplot()`\n",
    "\n",
    "We can use a seaborn catplot to explore a continuous and a categorical variable; hue allows me to bring in another categorical variable."
   ]
  },
  {
   "cell_type": "code",
   "execution_count": 101,
   "metadata": {},
   "outputs": [
    {
     "data": {
      "image/png": "[encoded data removed]",
      "text/plain": [
       "<Figure size 360x360 with 1 Axes>"
      ]
     },
     "metadata": {
      "needs_background": "light"
     },
     "output_type": "display_data"
    }
   ],
   "source": [
    "sns.catplot(x='class', y='fare', data=train)\n",
    "\n",
    "plt.title('Second and Third Class Tickets All Below $100')\n",
    "plt.show()"
   ]
  },
  {
   "cell_type": "code",
   "execution_count": 100,
   "metadata": {},
   "outputs": [
    {
     "data": {
      "image/png": "[encoded data removed]",
      "text/plain": [
       "<Figure size 426.4x360 with 1 Axes>"
      ]
     },
     "metadata": {
      "needs_background": "light"
     },
     "output_type": "display_data"
    }
   ],
   "source": [
    "# Bring in a third dimension using the hue argument.\n",
    "\n",
    "sns.catplot(x='class', y='fare', hue='survived', data=train)\n",
    "\n",
    "plt.title('Second and Third Class Tickets All Below $100')\n",
    "plt.show()"
   ]
  },
  {
   "cell_type": "markdown",
   "metadata": {},
   "source": [
    "___"
   ]
  },
  {
   "cell_type": "markdown",
   "metadata": {},
   "source": [
    "##### `sns.lmplot()`\n",
    "\n",
    "We can check for a linear fit between two continuous variables; fare and age are the ones we can practice with here. We can even bring in another dimension using the `col` or `hue` arguments."
   ]
  },
  {
   "cell_type": "code",
   "execution_count": 94,
   "metadata": {},
   "outputs": [
    {
     "data": {
      "image/png": "[encoded data removed]",
      "text/plain": [
       "<Figure size 720x360 with 2 Axes>"
      ]
     },
     "metadata": {
      "needs_background": "light"
     },
     "output_type": "display_data"
    }
   ],
   "source": [
    "sns.lmplot(x='age', y='fare', data=train, col='survived')\n",
    "\n",
    "plt.tight_layout()\n",
    "plt.show()"
   ]
  },
  {
   "cell_type": "code",
   "execution_count": 95,
   "metadata": {},
   "outputs": [
    {
     "data": {
      "image/png": "[encoded data removed]",
      "text/plain": [
       "<Figure size 426.4x360 with 1 Axes>"
      ]
     },
     "metadata": {
      "needs_background": "light"
     },
     "output_type": "display_data"
    }
   ],
   "source": [
    "sns.lmplot(x='age', y='fare', data=train, hue='survived')\n",
    "\n",
    "plt.tight_layout()\n",
    "plt.show()"
   ]
  },
  {
   "cell_type": "markdown",
   "metadata": {},
   "source": [
    "___"
   ]
  },
  {
   "cell_type": "markdown",
   "metadata": {},
   "source": [
    "##### `sns.boxplot()`\n",
    "\n",
    "Boxplots to show Distribution of Age by Sex and Survival\n",
    "\n",
    "```python\n",
    "sns.boxplot(x='categorical', y='continous', data=train , hue='categorical')\n",
    "```"
   ]
  },
  {
   "cell_type": "code",
   "execution_count": 30,
   "metadata": {},
   "outputs": [
    {
     "data": {
      "image/png": "[encoded data removed]",
      "text/plain": [
       "<Figure size 792x648 with 1 Axes>"
      ]
     },
     "metadata": {
      "needs_background": "light"
     },
     "output_type": "display_data"
    }
   ],
   "source": [
    "sns.boxplot(x='sex', y='age', data=train, hue='survived', palette='Purples', linewidth=2)\n",
    "\n",
    "plt.title('How Do Age and Sex Relate to Survival?')\n",
    "plt.xlabel('')\n",
    "plt.show()"
   ]
  },
  {
   "cell_type": "markdown",
   "metadata": {},
   "source": [
    "___"
   ]
  },
  {
   "cell_type": "markdown",
   "metadata": {},
   "source": [
    "##### `sns.swarmplot()`\n",
    "\n",
    "Swarmplots to show Distribution of a Continuous Variable grouped by a Categorical Variable. Hue brings in a third dimension.\n",
    "\n",
    "```python\n",
    "sns.swarmplot(x='categorical', y='continous', data=train , hue='categorical'  )\n",
    "```"
   ]
  },
  {
   "cell_type": "code",
   "execution_count": 31,
   "metadata": {},
   "outputs": [
    {
     "data": {
      "image/png": "[encoded data removed]",
      "text/plain": [
       "<Figure size 792x648 with 1 Axes>"
      ]
     },
     "metadata": {
      "needs_background": "light"
     },
     "output_type": "display_data"
    }
   ],
   "source": [
    "sns.swarmplot(x='sex', y='age', data=train , hue='survived'  )\n",
    "\n",
    "plt.title('How Do Age and Sex Relate to Survival?')\n",
    "plt.xlabel('')\n",
    "plt.show()"
   ]
  },
  {
   "cell_type": "markdown",
   "metadata": {},
   "source": [
    "___"
   ]
  },
  {
   "cell_type": "markdown",
   "metadata": {},
   "source": [
    "##### `sns.violinplot()`\n",
    "\n",
    "Violinplots are Similar to Boxplots.\n",
    "\n",
    "```python\n",
    "sns.violinplot(x='categorical', y='continous', data=train , hue='categorical'  )\n",
    "```"
   ]
  },
  {
   "cell_type": "code",
   "execution_count": 32,
   "metadata": {},
   "outputs": [
    {
     "data": {
      "image/png": "[encoded data removed]",
      "text/plain": [
       "<Figure size 792x648 with 1 Axes>"
      ]
     },
     "metadata": {
      "needs_background": "light"
     },
     "output_type": "display_data"
    }
   ],
   "source": [
    "sns.violinplot(x='sex', y='fare', data=train , hue='survived'  )\n",
    "\n",
    "plt.title('How Do Fare and Sex Relate to Survival Status?')\n",
    "plt.xlabel('')\n",
    "plt.ylabel('fare in US $')\n",
    "\n",
    "plt.show()"
   ]
  },
  {
   "cell_type": "markdown",
   "metadata": {},
   "source": [
    "___"
   ]
  },
  {
   "cell_type": "markdown",
   "metadata": {},
   "source": [
    "##### `.hist()` subplots\n",
    "\n",
    "Histogram Subplots to View Distribution of Fare by Survival Status."
   ]
  },
  {
   "cell_type": "code",
   "execution_count": 33,
   "metadata": {},
   "outputs": [
    {
     "data": {
      "image/png": "[encoded data removed]",
      "text/plain": [
       "<Figure size 792x648 with 2 Axes>"
      ]
     },
     "metadata": {
      "needs_background": "light"
     },
     "output_type": "display_data"
    }
   ],
   "source": [
    "# Create figure and axes, 2 rows and 1 column, share x and y axes.\n",
    "fig, (ax1, ax2) = plt.subplots(2, 1, sharex=True, sharey=True)\n",
    "\n",
    "# Plot first histogram from survived subset, fare variable.\n",
    "ax1.hist(train[train.survived == 1].fare, bins=15, \n",
    "         color='dodgerblue', ec='black', linewidth=2)\n",
    "\n",
    "ax1.set(title='Survived', ylabel='US $')\n",
    "\n",
    "# Plot second historgram from did not survive subset, fare variable.\n",
    "ax2.hist(train[train.survived == 0].fare, bins=15, \n",
    "         color='dodgerblue', ec='black', linewidth=2)\n",
    "\n",
    "ax2.set(title='Did Not Survive', xlabel='Fare Price', ylabel='US $')\n",
    "\n",
    "plt.show()"
   ]
  },
  {
   "cell_type": "markdown",
   "metadata": {},
   "source": [
    "___"
   ]
  },
  {
   "cell_type": "markdown",
   "metadata": {},
   "source": [
    "##### `sns.countplot()` subplots\n",
    "\n",
    "Compare Categorical Values in `Embarked`using subplot Barplots."
   ]
  },
  {
   "cell_type": "code",
   "execution_count": 28,
   "metadata": {},
   "outputs": [
    {
     "data": {
      "text/html": [
       "<div>\n",
       "<style scoped>\n",
       "    .dataframe tbody tr th:only-of-type {\n",
       "        vertical-align: middle;\n",
       "    }\n",
       "\n",
       "    .dataframe tbody tr th {\n",
       "        vertical-align: top;\n",
       "    }\n",
       "\n",
       "    .dataframe thead th {\n",
       "        text-align: right;\n",
       "    }\n",
       "</style>\n",
       "<table border=\"1\" class=\"dataframe\">\n",
       "  <thead>\n",
       "    <tr style=\"text-align: right;\">\n",
       "      <th></th>\n",
       "      <th>passenger_id</th>\n",
       "      <th>survived</th>\n",
       "      <th>pclass</th>\n",
       "      <th>sex</th>\n",
       "      <th>age</th>\n",
       "      <th>sibsp</th>\n",
       "      <th>parch</th>\n",
       "      <th>fare</th>\n",
       "      <th>embarked</th>\n",
       "      <th>class</th>\n",
       "      <th>deck</th>\n",
       "      <th>embark_town</th>\n",
       "      <th>alone</th>\n",
       "    </tr>\n",
       "  </thead>\n",
       "  <tbody>\n",
       "    <tr>\n",
       "      <th>583</th>\n",
       "      <td>583</td>\n",
       "      <td>0</td>\n",
       "      <td>1</td>\n",
       "      <td>male</td>\n",
       "      <td>36.0</td>\n",
       "      <td>0</td>\n",
       "      <td>0</td>\n",
       "      <td>40.125</td>\n",
       "      <td>C</td>\n",
       "      <td>First</td>\n",
       "      <td>A</td>\n",
       "      <td>Cherbourg</td>\n",
       "      <td>1</td>\n",
       "    </tr>\n",
       "  </tbody>\n",
       "</table>\n",
       "</div>"
      ],
      "text/plain": [
       "     passenger_id  survived  pclass   sex   age  sibsp  parch    fare  \\\n",
       "583           583         0       1  male  36.0      0      0  40.125   \n",
       "\n",
       "    embarked  class deck embark_town  alone  \n",
       "583        C  First    A   Cherbourg      1  "
      ]
     },
     "execution_count": 28,
     "metadata": {},
     "output_type": "execute_result"
    }
   ],
   "source": [
    "train.head(1)"
   ]
  },
  {
   "cell_type": "code",
   "execution_count": 29,
   "metadata": {},
   "outputs": [
    {
     "data": {
      "image/png": "[encoded data removed]",
      "text/plain": [
       "<Figure size 792x648 with 2 Axes>"
      ]
     },
     "metadata": {
      "needs_background": "light"
     },
     "output_type": "display_data"
    }
   ],
   "source": [
    "plt.subplot(211)\n",
    "\n",
    "sns.countplot(x = 'embark_town', data=train, palette='Purples', ec='black', linewidth=2)\n",
    "\n",
    "plt.title('How Does the Embark Town Relate to Passenger Survival Status?')\n",
    "plt.xlabel('')\n",
    "plt.ylabel('')\n",
    "\n",
    "plt.subplot(212)\n",
    "\n",
    "# use hue to add another dimension to your viz\n",
    "sns.countplot(x = 'embark_town', hue = 'survived', data=train, palette='Blues', ec='black', linewidth=2)\n",
    "\n",
    "plt.legend(['Did Not Survive', 'Survived'])\n",
    "\n",
    "plt.show()"
   ]
  },
  {
   "cell_type": "markdown",
   "metadata": {},
   "source": [
    "___"
   ]
  },
  {
   "cell_type": "markdown",
   "metadata": {},
   "source": [
    "##### `pd.crosstab` with `sns.heatmap()`\n",
    "\n",
    "Crosstab with Heatmap to Group Variables and Visualize Correlations."
   ]
  },
  {
   "cell_type": "code",
   "execution_count": 34,
   "metadata": {},
   "outputs": [
    {
     "data": {
      "image/png": "[encoded data removed]",
      "text/plain": [
       "<Figure size 792x648 with 2 Axes>"
      ]
     },
     "metadata": {
      "needs_background": "light"
     },
     "output_type": "display_data"
    }
   ],
   "source": [
    "# Create crosstab with raw values.\n",
    "ctab = pd.crosstab(train.survived, train['class'])\n",
    "\n",
    "# Use crosstab object in a heatmap to visualize values.\n",
    "sns.heatmap(ctab, annot=True, cmap='Greens', fmt='d')\n",
    "\n",
    "plt.title('Class X Survived')\n",
    "plt.ylabel('')\n",
    "\n",
    "# Change labels for y-tick marks.\n",
    "locs, labels = plt.yticks()\n",
    "plt.yticks(locs, ('Died', 'Survived'))\n",
    "\n",
    "plt.show()"
   ]
  },
  {
   "cell_type": "markdown",
   "metadata": {},
   "source": [
    "**Inspect percentages of overall population**"
   ]
  },
  {
   "cell_type": "code",
   "execution_count": 35,
   "metadata": {},
   "outputs": [
    {
     "data": {
      "image/png": "[encoded data removed]",
      "text/plain": [
       "<Figure size 792x648 with 2 Axes>"
      ]
     },
     "metadata": {
      "needs_background": "light"
     },
     "output_type": "display_data"
    }
   ],
   "source": [
    "# Create crosstab with values as percentages of overall population\n",
    "ctab = pd.crosstab(train.survived, train['class'], normalize=True)\n",
    "\n",
    "# Use crosstab object in a heatmap to visualize values.\n",
    "sns.heatmap(ctab, annot=True, cmap='Greens', fmt='.2%')\n",
    "\n",
    "plt.title('Class X Survived %')\n",
    "plt.ylabel('')\n",
    "\n",
    "# Change labels for y-tick marks.\n",
    "locs, labels = plt.yticks()\n",
    "plt.yticks(locs, ('Died', 'Survived'))\n",
    "\n",
    "\n",
    "plt.show()"
   ]
  },
  {
   "cell_type": "markdown",
   "metadata": {},
   "source": [
    "___"
   ]
  },
  {
   "cell_type": "markdown",
   "metadata": {},
   "source": [
    "##### `.groupby()`\n",
    "\n",
    "**Use a Groupby to Explore Different Aggregations of Your Data.**\n",
    "\n",
    "The `.groupby()` here creates a Series with an index containing the categories present in the `Survived` column and the average fare price for each index category. \n",
    "\n",
    ">To inspect percentages by group, set `normalize=True`."
   ]
  },
  {
   "cell_type": "code",
   "execution_count": 36,
   "metadata": {},
   "outputs": [
    {
     "data": {
      "text/plain": [
       "survived\n",
       "0    22.953323\n",
       "1    44.272688\n",
       "Name: fare, dtype: float64"
      ]
     },
     "execution_count": 36,
     "metadata": {},
     "output_type": "execute_result"
    }
   ],
   "source": [
    "train.groupby('survived').fare.mean()"
   ]
  },
  {
   "cell_type": "markdown",
   "metadata": {},
   "source": [
    "**Adding `.plot(kind='barh')` turns the index of your groupby into ylabels and the values into bar lengths.**"
   ]
  },
  {
   "cell_type": "code",
   "execution_count": 37,
   "metadata": {},
   "outputs": [
    {
     "data": {
      "image/png": "[encoded data removed]",
      "text/plain": [
       "<Figure size 792x648 with 1 Axes>"
      ]
     },
     "metadata": {
      "needs_background": "light"
     },
     "output_type": "display_data"
    }
   ],
   "source": [
    "# Plot your groupby object quickly.\n",
    "train.groupby('survived').fare.mean().plot(kind='barh', color='thistle', ec='black')\n",
    "\n",
    "plt.title('Those Who Pay More Live to Play More')\n",
    "\n",
    "locs, labels = plt.yticks()\n",
    "plt.yticks(locs, ('Died', 'Survived'))\n",
    "plt.ylabel('')\n",
    "plt.xlabel('US $')\n",
    "\n",
    "plt.show()"
   ]
  },
  {
   "cell_type": "markdown",
   "metadata": {},
   "source": [
    "___"
   ]
  },
  {
   "cell_type": "markdown",
   "metadata": {},
   "source": [
    "**Below is such a useful code snippet to put in your back pocket!** I'll build the final product up step-by-step, so you have a better understanding of how the code works."
   ]
  },
  {
   "cell_type": "code",
   "execution_count": 41,
   "metadata": {},
   "outputs": [
    {
     "data": {
      "text/plain": [
       "embark_town        \n",
       "Cherbourg    First     0.549020\n",
       "             Third     0.362745\n",
       "             Second    0.088235\n",
       "Queenstown   Third     0.975610\n",
       "             First     0.024390\n",
       "Southampton  Third     0.540845\n",
       "             Second    0.290141\n",
       "             First     0.169014\n",
       "Name: class, dtype: float64"
      ]
     },
     "execution_count": 41,
     "metadata": {},
     "output_type": "execute_result"
    }
   ],
   "source": [
    "# Get a frequency table for class grouped by embark town.\n",
    "\n",
    "train.groupby('embark_town')['class'].apply(lambda s: s.value_counts(normalize=True))"
   ]
  },
  {
   "cell_type": "code",
   "execution_count": 38,
   "metadata": {},
   "outputs": [
    {
     "data": {
      "text/html": [
       "<div>\n",
       "<style scoped>\n",
       "    .dataframe tbody tr th:only-of-type {\n",
       "        vertical-align: middle;\n",
       "    }\n",
       "\n",
       "    .dataframe tbody tr th {\n",
       "        vertical-align: top;\n",
       "    }\n",
       "\n",
       "    .dataframe thead th {\n",
       "        text-align: right;\n",
       "    }\n",
       "</style>\n",
       "<table border=\"1\" class=\"dataframe\">\n",
       "  <thead>\n",
       "    <tr style=\"text-align: right;\">\n",
       "      <th></th>\n",
       "      <th>First</th>\n",
       "      <th>Second</th>\n",
       "      <th>Third</th>\n",
       "    </tr>\n",
       "    <tr>\n",
       "      <th>embark_town</th>\n",
       "      <th></th>\n",
       "      <th></th>\n",
       "      <th></th>\n",
       "    </tr>\n",
       "  </thead>\n",
       "  <tbody>\n",
       "    <tr>\n",
       "      <th>Cherbourg</th>\n",
       "      <td>0.549020</td>\n",
       "      <td>0.088235</td>\n",
       "      <td>0.362745</td>\n",
       "    </tr>\n",
       "    <tr>\n",
       "      <th>Queenstown</th>\n",
       "      <td>0.024390</td>\n",
       "      <td>NaN</td>\n",
       "      <td>0.975610</td>\n",
       "    </tr>\n",
       "    <tr>\n",
       "      <th>Southampton</th>\n",
       "      <td>0.169014</td>\n",
       "      <td>0.290141</td>\n",
       "      <td>0.540845</td>\n",
       "    </tr>\n",
       "  </tbody>\n",
       "</table>\n",
       "</div>"
      ],
      "text/plain": [
       "                First    Second     Third\n",
       "embark_town                              \n",
       "Cherbourg    0.549020  0.088235  0.362745\n",
       "Queenstown   0.024390       NaN  0.975610\n",
       "Southampton  0.169014  0.290141  0.540845"
      ]
     },
     "execution_count": 38,
     "metadata": {},
     "output_type": "execute_result"
    }
   ],
   "source": [
    "# Turn the multi-level index into columns using the .unstack() method.\n",
    "\n",
    "train.groupby('embark_town')['class'].apply(lambda s: s.value_counts(normalize=True)).unstack()  "
   ]
  },
  {
   "cell_type": "code",
   "execution_count": 42,
   "metadata": {},
   "outputs": [
    {
     "data": {
      "image/png": "[encoded data removed]",
      "text/plain": [
       "<Figure size 792x648 with 1 Axes>"
      ]
     },
     "metadata": {
      "needs_background": "light"
     },
     "output_type": "display_data"
    }
   ],
   "source": [
    "# Plot the above table\n",
    "(\n",
    "train.groupby('embark_town')['class'].apply(lambda s: s.value_counts(normalize=True))\n",
    "    .unstack()                                        \n",
    "    .plot.bar(stacked=True, \n",
    "              width=.9, \n",
    "              color=['firebrick', 'dodgerblue', 'orange'], \n",
    "              ec='black')                 \n",
    ")\n",
    "\n",
    "plt.title('What was the passenger class breakdown by embark town?')\n",
    "\n",
    "plt.xticks(rotation=9)\n",
    "plt.xlabel('Embark Towns')\n",
    "plt.ylabel('Percent')\n",
    "\n",
    "plt.legend(title='Pclass')\n",
    "\n",
    "plt.show()"
   ]
  },
  {
   "cell_type": "markdown",
   "metadata": {},
   "source": [
    "___"
   ]
  },
  {
   "cell_type": "code",
   "execution_count": 45,
   "metadata": {},
   "outputs": [
    {
     "data": {
      "image/png": "[encoded data removed]",
      "text/plain": [
       "<Figure size 792x648 with 1 Axes>"
      ]
     },
     "metadata": {
      "needs_background": "light"
     },
     "output_type": "display_data"
    }
   ],
   "source": [
    "train.groupby('sex').survived.mean().plot.bar(ec='black', fc='dodgerblue', width=.9)\n",
    "\n",
    "# Create our horizontal line -> plt.hlines(height, starts, ends) (is like y, xmin, xmax)\n",
    "plt.hlines(train.survived.mean(), *plt.xlim(), ls='--', color='grey', label='average survival rate')\n",
    "\n",
    "plt.xticks(rotation=0)\n",
    "plt.xlabel('')\n",
    "plt.ylabel('Survival Rate')\n",
    "\n",
    "plt.title('Survival Rate by Sex')\n",
    "plt.legend()\n",
    "plt.show()"
   ]
  },
  {
   "cell_type": "markdown",
   "metadata": {},
   "source": [
    "___"
   ]
  },
  {
   "cell_type": "markdown",
   "metadata": {},
   "source": [
    "##### `pd.crosstab()` and `pd.pivot_table()` with `sns.heatmap()`\n",
    "\n",
    "Exploring 2 Different Categorical Values - Survival Rate for Class by Sex."
   ]
  },
  {
   "cell_type": "code",
   "execution_count": 48,
   "metadata": {},
   "outputs": [
    {
     "data": {
      "text/html": [
       "<div>\n",
       "<style scoped>\n",
       "    .dataframe tbody tr th:only-of-type {\n",
       "        vertical-align: middle;\n",
       "    }\n",
       "\n",
       "    .dataframe tbody tr th {\n",
       "        vertical-align: top;\n",
       "    }\n",
       "\n",
       "    .dataframe thead th {\n",
       "        text-align: right;\n",
       "    }\n",
       "</style>\n",
       "<table border=\"1\" class=\"dataframe\">\n",
       "  <thead>\n",
       "    <tr style=\"text-align: right;\">\n",
       "      <th>sex</th>\n",
       "      <th>female</th>\n",
       "      <th>male</th>\n",
       "    </tr>\n",
       "    <tr>\n",
       "      <th>class</th>\n",
       "      <th></th>\n",
       "      <th></th>\n",
       "    </tr>\n",
       "  </thead>\n",
       "  <tbody>\n",
       "    <tr>\n",
       "      <th>First</th>\n",
       "      <td>48</td>\n",
       "      <td>69</td>\n",
       "    </tr>\n",
       "    <tr>\n",
       "      <th>Second</th>\n",
       "      <td>46</td>\n",
       "      <td>66</td>\n",
       "    </tr>\n",
       "    <tr>\n",
       "      <th>Third</th>\n",
       "      <td>81</td>\n",
       "      <td>188</td>\n",
       "    </tr>\n",
       "  </tbody>\n",
       "</table>\n",
       "</div>"
      ],
      "text/plain": [
       "sex     female  male\n",
       "class               \n",
       "First       48    69\n",
       "Second      46    66\n",
       "Third       81   188"
      ]
     },
     "execution_count": 48,
     "metadata": {},
     "output_type": "execute_result"
    }
   ],
   "source": [
    "# This table gives the total female or male passengers in each class.\n",
    "\n",
    "train.groupby(['class', 'sex']).survived.count().unstack()"
   ]
  },
  {
   "cell_type": "code",
   "execution_count": 50,
   "metadata": {},
   "outputs": [
    {
     "data": {
      "text/html": [
       "<div>\n",
       "<style scoped>\n",
       "    .dataframe tbody tr th:only-of-type {\n",
       "        vertical-align: middle;\n",
       "    }\n",
       "\n",
       "    .dataframe tbody tr th {\n",
       "        vertical-align: top;\n",
       "    }\n",
       "\n",
       "    .dataframe thead th {\n",
       "        text-align: right;\n",
       "    }\n",
       "</style>\n",
       "<table border=\"1\" class=\"dataframe\">\n",
       "  <thead>\n",
       "    <tr style=\"text-align: right;\">\n",
       "      <th>sex</th>\n",
       "      <th>female</th>\n",
       "      <th>male</th>\n",
       "    </tr>\n",
       "    <tr>\n",
       "      <th>class</th>\n",
       "      <th></th>\n",
       "      <th></th>\n",
       "    </tr>\n",
       "  </thead>\n",
       "  <tbody>\n",
       "    <tr>\n",
       "      <th>First</th>\n",
       "      <td>46</td>\n",
       "      <td>25</td>\n",
       "    </tr>\n",
       "    <tr>\n",
       "      <th>Second</th>\n",
       "      <td>44</td>\n",
       "      <td>12</td>\n",
       "    </tr>\n",
       "    <tr>\n",
       "      <th>Third</th>\n",
       "      <td>43</td>\n",
       "      <td>21</td>\n",
       "    </tr>\n",
       "  </tbody>\n",
       "</table>\n",
       "</div>"
      ],
      "text/plain": [
       "sex     female  male\n",
       "class               \n",
       "First       46    25\n",
       "Second      44    12\n",
       "Third       43    21"
      ]
     },
     "execution_count": 50,
     "metadata": {},
     "output_type": "execute_result"
    }
   ],
   "source": [
    "# This table gives the total female or male passengers who survived in each class.\n",
    "\n",
    "train.groupby(['class', 'sex']).survived.sum().unstack()"
   ]
  },
  {
   "cell_type": "code",
   "execution_count": 46,
   "metadata": {},
   "outputs": [
    {
     "data": {
      "text/html": [
       "<div>\n",
       "<style scoped>\n",
       "    .dataframe tbody tr th:only-of-type {\n",
       "        vertical-align: middle;\n",
       "    }\n",
       "\n",
       "    .dataframe tbody tr th {\n",
       "        vertical-align: top;\n",
       "    }\n",
       "\n",
       "    .dataframe thead th {\n",
       "        text-align: right;\n",
       "    }\n",
       "</style>\n",
       "<table border=\"1\" class=\"dataframe\">\n",
       "  <thead>\n",
       "    <tr style=\"text-align: right;\">\n",
       "      <th>sex</th>\n",
       "      <th>female</th>\n",
       "      <th>male</th>\n",
       "    </tr>\n",
       "    <tr>\n",
       "      <th>class</th>\n",
       "      <th></th>\n",
       "      <th></th>\n",
       "    </tr>\n",
       "  </thead>\n",
       "  <tbody>\n",
       "    <tr>\n",
       "      <th>First</th>\n",
       "      <td>0.958333</td>\n",
       "      <td>0.362319</td>\n",
       "    </tr>\n",
       "    <tr>\n",
       "      <th>Second</th>\n",
       "      <td>0.956522</td>\n",
       "      <td>0.181818</td>\n",
       "    </tr>\n",
       "    <tr>\n",
       "      <th>Third</th>\n",
       "      <td>0.530864</td>\n",
       "      <td>0.111702</td>\n",
       "    </tr>\n",
       "  </tbody>\n",
       "</table>\n",
       "</div>"
      ],
      "text/plain": [
       "sex       female      male\n",
       "class                     \n",
       "First   0.958333  0.362319\n",
       "Second  0.956522  0.181818\n",
       "Third   0.530864  0.111702"
      ]
     },
     "execution_count": 46,
     "metadata": {},
     "output_type": "execute_result"
    }
   ],
   "source": [
    "# This table gives us the survival rate for female or male passengers in each class.\n",
    "\n",
    "train.groupby(['class', 'sex']).survived.mean().unstack()"
   ]
  },
  {
   "cell_type": "code",
   "execution_count": 44,
   "metadata": {},
   "outputs": [
    {
     "data": {
      "text/html": [
       "<div>\n",
       "<style scoped>\n",
       "    .dataframe tbody tr th:only-of-type {\n",
       "        vertical-align: middle;\n",
       "    }\n",
       "\n",
       "    .dataframe tbody tr th {\n",
       "        vertical-align: top;\n",
       "    }\n",
       "\n",
       "    .dataframe thead th {\n",
       "        text-align: right;\n",
       "    }\n",
       "</style>\n",
       "<table border=\"1\" class=\"dataframe\">\n",
       "  <thead>\n",
       "    <tr style=\"text-align: right;\">\n",
       "      <th>sex</th>\n",
       "      <th>female</th>\n",
       "      <th>male</th>\n",
       "    </tr>\n",
       "    <tr>\n",
       "      <th>class</th>\n",
       "      <th></th>\n",
       "      <th></th>\n",
       "    </tr>\n",
       "  </thead>\n",
       "  <tbody>\n",
       "    <tr>\n",
       "      <th>First</th>\n",
       "      <td>0.958333</td>\n",
       "      <td>0.362319</td>\n",
       "    </tr>\n",
       "    <tr>\n",
       "      <th>Second</th>\n",
       "      <td>0.956522</td>\n",
       "      <td>0.181818</td>\n",
       "    </tr>\n",
       "    <tr>\n",
       "      <th>Third</th>\n",
       "      <td>0.530864</td>\n",
       "      <td>0.111702</td>\n",
       "    </tr>\n",
       "  </tbody>\n",
       "</table>\n",
       "</div>"
      ],
      "text/plain": [
       "sex       female      male\n",
       "class                     \n",
       "First   0.958333  0.362319\n",
       "Second  0.956522  0.181818\n",
       "Third   0.530864  0.111702"
      ]
     },
     "execution_count": 44,
     "metadata": {},
     "output_type": "execute_result"
    }
   ],
   "source": [
    "# We can create the table above in this way, too. 95.8% of first class females survived.\n",
    "\n",
    "pd.crosstab(train['class'], train.sex, values=train.survived, aggfunc='mean')"
   ]
  },
  {
   "cell_type": "code",
   "execution_count": 51,
   "metadata": {},
   "outputs": [
    {
     "data": {
      "image/png": "[encoded data removed]",
      "text/plain": [
       "<Figure size 792x648 with 2 Axes>"
      ]
     },
     "metadata": {
      "needs_background": "light"
     },
     "output_type": "display_data"
    }
   ],
   "source": [
    "# Let's plot the above table.\n",
    "\n",
    "ctab = pd.crosstab(train['class'], train.sex, values=train.survived, aggfunc='mean')\n",
    "sns.heatmap(ctab, annot=True, cmap='Purples', fmt='.1%')\n",
    "\n",
    "plt.title('Survival Rate was Better for Females No Matter Their Ticket Class')\n",
    "plt.xlabel('')\n",
    "\n",
    "plt.show()"
   ]
  },
  {
   "cell_type": "markdown",
   "metadata": {},
   "source": [
    "OR\n",
    "```python\n",
    "       df.pivot_table(values,  rows,   columns)\n",
    " ```"
   ]
  },
  {
   "cell_type": "code",
   "execution_count": 53,
   "metadata": {},
   "outputs": [
    {
     "data": {
      "text/html": [
       "<div>\n",
       "<style scoped>\n",
       "    .dataframe tbody tr th:only-of-type {\n",
       "        vertical-align: middle;\n",
       "    }\n",
       "\n",
       "    .dataframe tbody tr th {\n",
       "        vertical-align: top;\n",
       "    }\n",
       "\n",
       "    .dataframe thead th {\n",
       "        text-align: right;\n",
       "    }\n",
       "</style>\n",
       "<table border=\"1\" class=\"dataframe\">\n",
       "  <thead>\n",
       "    <tr style=\"text-align: right;\">\n",
       "      <th>sex</th>\n",
       "      <th>female</th>\n",
       "      <th>male</th>\n",
       "    </tr>\n",
       "    <tr>\n",
       "      <th>class</th>\n",
       "      <th></th>\n",
       "      <th></th>\n",
       "    </tr>\n",
       "  </thead>\n",
       "  <tbody>\n",
       "    <tr>\n",
       "      <th>First</th>\n",
       "      <td>0.958333</td>\n",
       "      <td>0.362319</td>\n",
       "    </tr>\n",
       "    <tr>\n",
       "      <th>Second</th>\n",
       "      <td>0.956522</td>\n",
       "      <td>0.181818</td>\n",
       "    </tr>\n",
       "    <tr>\n",
       "      <th>Third</th>\n",
       "      <td>0.530864</td>\n",
       "      <td>0.111702</td>\n",
       "    </tr>\n",
       "  </tbody>\n",
       "</table>\n",
       "</div>"
      ],
      "text/plain": [
       "sex       female      male\n",
       "class                     \n",
       "First   0.958333  0.362319\n",
       "Second  0.956522  0.181818\n",
       "Third   0.530864  0.111702"
      ]
     },
     "execution_count": 53,
     "metadata": {},
     "output_type": "execute_result"
    }
   ],
   "source": [
    "# I can accomplish the same using a pivot table.\n",
    "\n",
    "table = train.pivot_table('survived', 'class', 'sex')\n",
    "table"
   ]
  },
  {
   "cell_type": "code",
   "execution_count": 54,
   "metadata": {},
   "outputs": [
    {
     "data": {
      "image/png": "[encoded data removed]",
      "text/plain": [
       "<Figure size 792x648 with 2 Axes>"
      ]
     },
     "metadata": {
      "needs_background": "light"
     },
     "output_type": "display_data"
    }
   ],
   "source": [
    "sns.heatmap(table, annot=True, cmap='Blues', fmt='.1%')\n",
    "\n",
    "plt.title('Survival Rate was Better for Females No Matter Their Ticket Class')\n",
    "plt.xlabel('')\n",
    "\n",
    "plt.show()"
   ]
  },
  {
   "cell_type": "markdown",
   "metadata": {},
   "source": [
    "___"
   ]
  },
  {
   "cell_type": "markdown",
   "metadata": {},
   "source": [
    "##### `pd.cut()` and `pd.qcut()`\n",
    "\n",
    "**I can use binning for exploration.** \n",
    "\n",
    "```python\n",
    "# for even intervals but not evenly distributed values in each bin\n",
    "pd.cut(df.column, bins=[], labels=[])   \n",
    "\n",
    "# for even number of observations in each interval\n",
    "pd.qcut(df.column, bins=[], labels=[])\n",
    "```\n",
    "\n",
    "Here I turn a continuous variable into a categorical one for visiualizing."
   ]
  },
  {
   "cell_type": "code",
   "execution_count": 56,
   "metadata": {},
   "outputs": [
    {
     "data": {
      "text/html": [
       "<div>\n",
       "<style scoped>\n",
       "    .dataframe tbody tr th:only-of-type {\n",
       "        vertical-align: middle;\n",
       "    }\n",
       "\n",
       "    .dataframe tbody tr th {\n",
       "        vertical-align: top;\n",
       "    }\n",
       "\n",
       "    .dataframe thead th {\n",
       "        text-align: right;\n",
       "    }\n",
       "</style>\n",
       "<table border=\"1\" class=\"dataframe\">\n",
       "  <thead>\n",
       "    <tr style=\"text-align: right;\">\n",
       "      <th></th>\n",
       "      <th>passenger_id</th>\n",
       "      <th>survived</th>\n",
       "      <th>pclass</th>\n",
       "      <th>sex</th>\n",
       "      <th>age</th>\n",
       "      <th>sibsp</th>\n",
       "      <th>parch</th>\n",
       "      <th>fare</th>\n",
       "      <th>embarked</th>\n",
       "      <th>class</th>\n",
       "      <th>deck</th>\n",
       "      <th>embark_town</th>\n",
       "      <th>alone</th>\n",
       "      <th>age_group</th>\n",
       "    </tr>\n",
       "  </thead>\n",
       "  <tbody>\n",
       "    <tr>\n",
       "      <th>583</th>\n",
       "      <td>583</td>\n",
       "      <td>0</td>\n",
       "      <td>1</td>\n",
       "      <td>male</td>\n",
       "      <td>36.000000</td>\n",
       "      <td>0</td>\n",
       "      <td>0</td>\n",
       "      <td>40.1250</td>\n",
       "      <td>C</td>\n",
       "      <td>First</td>\n",
       "      <td>A</td>\n",
       "      <td>Cherbourg</td>\n",
       "      <td>1</td>\n",
       "      <td>adult</td>\n",
       "    </tr>\n",
       "    <tr>\n",
       "      <th>165</th>\n",
       "      <td>165</td>\n",
       "      <td>1</td>\n",
       "      <td>3</td>\n",
       "      <td>male</td>\n",
       "      <td>9.000000</td>\n",
       "      <td>0</td>\n",
       "      <td>2</td>\n",
       "      <td>20.5250</td>\n",
       "      <td>S</td>\n",
       "      <td>Third</td>\n",
       "      <td>None</td>\n",
       "      <td>Southampton</td>\n",
       "      <td>0</td>\n",
       "      <td>child</td>\n",
       "    </tr>\n",
       "    <tr>\n",
       "      <th>50</th>\n",
       "      <td>50</td>\n",
       "      <td>0</td>\n",
       "      <td>3</td>\n",
       "      <td>male</td>\n",
       "      <td>7.000000</td>\n",
       "      <td>4</td>\n",
       "      <td>1</td>\n",
       "      <td>39.6875</td>\n",
       "      <td>S</td>\n",
       "      <td>Third</td>\n",
       "      <td>None</td>\n",
       "      <td>Southampton</td>\n",
       "      <td>0</td>\n",
       "      <td>child</td>\n",
       "    </tr>\n",
       "    <tr>\n",
       "      <th>259</th>\n",
       "      <td>259</td>\n",
       "      <td>1</td>\n",
       "      <td>2</td>\n",
       "      <td>female</td>\n",
       "      <td>50.000000</td>\n",
       "      <td>0</td>\n",
       "      <td>1</td>\n",
       "      <td>26.0000</td>\n",
       "      <td>S</td>\n",
       "      <td>Second</td>\n",
       "      <td>None</td>\n",
       "      <td>Southampton</td>\n",
       "      <td>0</td>\n",
       "      <td>adult</td>\n",
       "    </tr>\n",
       "    <tr>\n",
       "      <th>306</th>\n",
       "      <td>306</td>\n",
       "      <td>1</td>\n",
       "      <td>1</td>\n",
       "      <td>female</td>\n",
       "      <td>29.678105</td>\n",
       "      <td>0</td>\n",
       "      <td>0</td>\n",
       "      <td>110.8833</td>\n",
       "      <td>C</td>\n",
       "      <td>First</td>\n",
       "      <td>None</td>\n",
       "      <td>Cherbourg</td>\n",
       "      <td>1</td>\n",
       "      <td>adult</td>\n",
       "    </tr>\n",
       "  </tbody>\n",
       "</table>\n",
       "</div>"
      ],
      "text/plain": [
       "     passenger_id  survived  pclass     sex        age  sibsp  parch  \\\n",
       "583           583         0       1    male  36.000000      0      0   \n",
       "165           165         1       3    male   9.000000      0      2   \n",
       "50             50         0       3    male   7.000000      4      1   \n",
       "259           259         1       2  female  50.000000      0      1   \n",
       "306           306         1       1  female  29.678105      0      0   \n",
       "\n",
       "         fare embarked   class  deck  embark_town  alone age_group  \n",
       "583   40.1250        C   First     A    Cherbourg      1     adult  \n",
       "165   20.5250        S   Third  None  Southampton      0     child  \n",
       "50    39.6875        S   Third  None  Southampton      0     child  \n",
       "259   26.0000        S  Second  None  Southampton      0     adult  \n",
       "306  110.8833        C   First  None    Cherbourg      1     adult  "
      ]
     },
     "execution_count": 56,
     "metadata": {},
     "output_type": "execute_result"
    }
   ],
   "source": [
    "# splits age into 2 bins, 0-12 and 13-80\n",
    "\n",
    "train['age_group'] = pd.cut(train.age, bins = [0, 12, 80], labels=['child', 'adult'])\n",
    "train.head()"
   ]
  },
  {
   "cell_type": "markdown",
   "metadata": {},
   "source": [
    "<div class=\"alert alert-block alert-warning\"><b>Remember: </b>If I want to use this new feature, `age_group`, in modeling, I have to perform this same manipulation from above on both validate and test. If I were going to do this, I would build these into my prepare function. If I don't, when I drop this column before modeling, I only need to drop it from my train dataset.</div>"
   ]
  },
  {
   "cell_type": "code",
   "execution_count": 57,
   "metadata": {},
   "outputs": [
    {
     "data": {
      "text/plain": [
       "age_group\n",
       "child    0.542857\n",
       "adult    0.371490\n",
       "Name: survived, dtype: float64"
      ]
     },
     "execution_count": 57,
     "metadata": {},
     "output_type": "execute_result"
    }
   ],
   "source": [
    "# Now I can check out the survival rate for children and adults.\n",
    "\n",
    "train.groupby('age_group').survived.mean()"
   ]
  },
  {
   "cell_type": "code",
   "execution_count": 64,
   "metadata": {},
   "outputs": [
    {
     "data": {
      "image/png": "[encoded data removed]",
      "text/plain": [
       "<Figure size 792x648 with 1 Axes>"
      ]
     },
     "metadata": {
      "needs_background": "light"
     },
     "output_type": "display_data"
    }
   ],
   "source": [
    "train.groupby('age_group').survived.mean().plot.bar(ec='black', fc='dodgerblue', width=.9)\n",
    "plt.title('Children Had a Higher Survival Rate than Adults')\n",
    "plt.xlabel('')\n",
    "plt.ylabel('Survival Rate')\n",
    "plt.xticks(rotation=0)\n",
    "\n",
    "plt.show()"
   ]
  },
  {
   "cell_type": "code",
   "execution_count": 50,
   "metadata": {},
   "outputs": [
    {
     "data": {
      "text/plain": [
       "age_group  survived\n",
       "child      1           0.542857\n",
       "           0           0.457143\n",
       "adult      0           0.628510\n",
       "           1           0.371490\n",
       "Name: survived, dtype: float64"
      ]
     },
     "execution_count": 50,
     "metadata": {},
     "output_type": "execute_result"
    }
   ],
   "source": [
    "# I can also inspect both the survival and death rates for children and adults.\n",
    "\n",
    "train.groupby('age_group').survived.value_counts(normalize=True)"
   ]
  },
  {
   "cell_type": "code",
   "execution_count": 78,
   "metadata": {},
   "outputs": [
    {
     "data": {
      "image/png": "[encoded data removed]",
      "text/plain": [
       "<Figure size 792x648 with 1 Axes>"
      ]
     },
     "metadata": {
      "needs_background": "light"
     },
     "output_type": "display_data"
    }
   ],
   "source": [
    "# We can visualize the above code below to understand our data; \n",
    "# I would not use this chart for presentations. There are better ways to present this info.\n",
    "\n",
    "train.groupby('age_group').survived.value_counts(normalize=True).plot.bar(ec='black', \n",
    "                                                                          fc='dodgerblue', \n",
    "                                                                          width=.9)\n",
    "\n",
    "plt.title('Both Children and Adults had Higher Survival Rates than Death Rates')\n",
    "plt.xlabel('')\n",
    "plt.ylabel('Frequency')\n",
    "\n",
    "# Get locations for xticks and create new labels for xticks\n",
    "locs, _ = plt.xticks() \n",
    "labels = ['children - survived', 'children - died', 'adults - survived', 'adults - died']\n",
    "\n",
    "# Set locations and labels\n",
    "plt.xticks(locs, labels , rotation=0)\n",
    "\n",
    "plt.show()"
   ]
  },
  {
   "cell_type": "markdown",
   "metadata": {},
   "source": [
    "___"
   ]
  },
  {
   "cell_type": "markdown",
   "metadata": {},
   "source": [
    "**There's some pretty cool EDA code and explanation in [this article.](https://towardsdatascience.com/exploratory-data-analysis-for-linear-regression-classification-8a27da23debc) Check it out!**\n",
    "\n",
    "**Here are the official matplotlib [tutorials](https://matplotlib.org/3.1.1/tutorials/index.html#introductory)**"
   ]
  },
  {
   "cell_type": "markdown",
   "metadata": {},
   "source": [
    "___"
   ]
  },
  {
   "cell_type": "markdown",
   "metadata": {},
   "source": [
    "___"
   ]
  }
 ],
 "metadata": {
  "kernelspec": {
   "display_name": "Python 3",
   "language": "python",
   "name": "python3"
  },
  "language_info": {
   "codemirror_mode": {
    "name": "ipython",
    "version": 3
   },
   "file_extension": ".py",
   "mimetype": "text/x-python",
   "name": "python",
   "nbconvert_exporter": "python",
   "pygments_lexer": "ipython3",
   "version": "3.7.4"
  },
  "toc": {
   "base_numbering": 1,
   "nav_menu": {},
   "number_sections": false,
   "sideBar": true,
   "skip_h1_title": true,
   "title_cell": "Table of Contents",
   "title_sidebar": "Contents",
   "toc_cell": false,
   "toc_position": {},
   "toc_section_display": true,
   "toc_window_display": true
  }
 },
 "nbformat": 4,
 "nbformat_minor": 4
}
