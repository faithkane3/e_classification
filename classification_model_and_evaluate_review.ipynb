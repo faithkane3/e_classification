{
 "cells": [
  {
   "cell_type": "code",
   "execution_count": 1,
   "metadata": {},
   "outputs": [],
   "source": [
    "import pandas as pd\n",
    "import numpy as np\n",
    "\n",
    "# visualize\n",
    "import seaborn as sns\n",
    "import matplotlib.pyplot as plt\n",
    "plt.rc('figure', figsize=(11, 9))\n",
    "plt.rc('font', size=13)\n",
    "\n",
    "# preparing\n",
    "from sklearn.model_selection import train_test_split\n",
    "from sklearn.preprocessing import LabelEncoder\n",
    "from sklearn.preprocessing import MinMaxScaler\n",
    "from sklearn.impute import SimpleImputer\n",
    "from sklearn.preprocessing import OneHotEncoder\n",
    "\n",
    "# modeling and evaluating\n",
    "from sklearn.linear_model import LogisticRegression\n",
    "from sklearn.metrics import classification_report, confusion_matrix, precision_score, recall_score, accuracy_score\n",
    "\n",
    "# turn off pink warning boxes\n",
    "import warnings\n",
    "warnings.filterwarnings(\"ignore\")\n",
    "\n",
    "# acquire\n",
    "from explore import anatomy_of_a_figure\n",
    "from env import host, user, password\n",
    "from pydataset import data"
   ]
  },
  {
   "cell_type": "markdown",
   "metadata": {},
   "source": [
    "## Classification"
   ]
  },
  {
   "cell_type": "markdown",
   "metadata": {},
   "source": [
    "___"
   ]
  },
  {
   "cell_type": "markdown",
   "metadata": {},
   "source": [
    "### <font color=red>What is Classification?</font>\n",
    "\n",
    "**Classification is a Supervised Machine Learning technique.**  Classification, like Regression, uses labeled data from a training dataset to learn rules for making future predictions on unseen data. However, **Classification is used to predict the category membership of the categorical target value or label.** For Classification algorithms, you determine the probability of an observation to be part of a certain class or not. Therefore, you express the probability with a value between 0 and 1. A probability close to 1 means the observation is very likely to be part of a group or category.\n",
    "\n",
    "**Simply put, Regression predicts a continuous variable while classification predicts a categorical variable.**\n",
    "\n",
    "![image.png](data:image/png;base64,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)"
   ]
  },
  {
   "cell_type": "markdown",
   "metadata": {},
   "source": [
    "___"
   ]
  },
  {
   "cell_type": "markdown",
   "metadata": {},
   "source": [
    "### <font color=orange>So What Are the Types of Classification?</font>\n",
    "\n",
    "**Types of Classification**\n",
    "\n",
    ">**Binary Classification -** This type of classification uses a decision rule to predict an observation to be a member of one of only two groups: churn/not churn, pass/fail, male/female, smoker/non-smoker, healthy/sick.\n",
    "\n",
    ">**Multiclass Classification -** This type of classification uses a decision rule to predict an observation to be a member of one of three or more possible groups or categories: A/B/C, hot/warm/cold, Python/Java/C++/Go/C\n",
    "\n",
    "![image.png](https://developers.google.com/machine-learning/guides/text-classification/images/LastLayer.png)\n",
    "\n",
    "**Uses for Classification**\n",
    "\n",
    "- Medical Diagnosis\n",
    "\n",
    "\n",
    "- Spam Detection\n",
    "\n",
    "\n",
    "- Credit Approval\n",
    "\n",
    "\n",
    "- Targeted Marketing"
   ]
  },
  {
   "cell_type": "markdown",
   "metadata": {},
   "source": [
    "___"
   ]
  },
  {
   "cell_type": "markdown",
   "metadata": {},
   "source": [
    "### <font color=green>Now What?</font>\n",
    "\n",
    "Check out [this article](https://towardsdatascience.com/the-complete-guide-to-classification-in-python-b0e34c92e455) on Classification and Logistic Regression. Glean what is helpful to you, and don't feel like you need to understand anything we haven't covered yet unless you are so interested.\n",
    "\n",
    "We will work through the data science pipeline focused on preparing for Classification Modeling."
   ]
  },
  {
   "cell_type": "markdown",
   "metadata": {},
   "source": [
    "<hr style=\"border-top: 10px groove limegreen; margin-top: 1px; margin-bottom: 1px\"></hr>"
   ]
  },
  {
   "cell_type": "markdown",
   "metadata": {},
   "source": [
    "## Acquire\n",
    "\n",
    "**<font color=green>A Few Example Methods for Reading Data into Pandas DataFrames</font>**"
   ]
  },
  {
   "cell_type": "markdown",
   "metadata": {},
   "source": [
    "<hr style=\"border-top: 10px groove limegreen; margin-top: 1px; margin-bottom: 1px\"></hr>"
   ]
  },
  {
   "cell_type": "markdown",
   "metadata": {},
   "source": [
    "### From a Database\n",
    "\n",
    "Create your DataFrame using a SQL query to access a database.\n",
    "\n",
    "**<font color=purple>Use your env file info and create your sql query and create connection_url for use in pandas `read_sql()` function.</font>**\n",
    "\n",
    "```python\n",
    "# Import private info to keep it secret in public files.\n",
    "from env import host, password, user\n",
    "\n",
    "# Test query in Sequel Pro and save to a variable.\n",
    "sql_query = 'write your sql query here; test it in Sequel Pro first!'\n",
    "\n",
    "# Save connection url to a variable for use with pandas `read_sql()` function.\n",
    "connection_url = f'mysql+pymysql://{user}:{password}@{host}/database_name'\n",
    "    \n",
    "# Python function to read data from database into a DataFrame.\n",
    "pd.read_sql(sql_query, connection_url)\n",
    "```"
   ]
  },
  {
   "cell_type": "code",
   "execution_count": 2,
   "metadata": {},
   "outputs": [],
   "source": [
    "# Create sql query and save to variable.\n",
    "\n",
    "sql_query = 'SELECT * FROM passengers'"
   ]
  },
  {
   "cell_type": "code",
   "execution_count": 3,
   "metadata": {},
   "outputs": [],
   "source": [
    "# Create connection url and save to a variable.\n",
    "\n",
    "connection_url = f'mysql+pymysql://{user}:{password}@{host}/titanic_db'"
   ]
  },
  {
   "cell_type": "code",
   "execution_count": 4,
   "metadata": {},
   "outputs": [
    {
     "data": {
      "text/html": [
       "<div>\n",
       "<style scoped>\n",
       "    .dataframe tbody tr th:only-of-type {\n",
       "        vertical-align: middle;\n",
       "    }\n",
       "\n",
       "    .dataframe tbody tr th {\n",
       "        vertical-align: top;\n",
       "    }\n",
       "\n",
       "    .dataframe thead th {\n",
       "        text-align: right;\n",
       "    }\n",
       "</style>\n",
       "<table border=\"1\" class=\"dataframe\">\n",
       "  <thead>\n",
       "    <tr style=\"text-align: right;\">\n",
       "      <th></th>\n",
       "      <th>passenger_id</th>\n",
       "      <th>survived</th>\n",
       "      <th>pclass</th>\n",
       "      <th>sex</th>\n",
       "      <th>age</th>\n",
       "      <th>sibsp</th>\n",
       "      <th>parch</th>\n",
       "      <th>fare</th>\n",
       "      <th>embarked</th>\n",
       "      <th>class</th>\n",
       "      <th>deck</th>\n",
       "      <th>embark_town</th>\n",
       "      <th>alone</th>\n",
       "    </tr>\n",
       "  </thead>\n",
       "  <tbody>\n",
       "    <tr>\n",
       "      <th>0</th>\n",
       "      <td>0</td>\n",
       "      <td>0</td>\n",
       "      <td>3</td>\n",
       "      <td>male</td>\n",
       "      <td>22.0</td>\n",
       "      <td>1</td>\n",
       "      <td>0</td>\n",
       "      <td>7.2500</td>\n",
       "      <td>S</td>\n",
       "      <td>Third</td>\n",
       "      <td>None</td>\n",
       "      <td>Southampton</td>\n",
       "      <td>0</td>\n",
       "    </tr>\n",
       "    <tr>\n",
       "      <th>1</th>\n",
       "      <td>1</td>\n",
       "      <td>1</td>\n",
       "      <td>1</td>\n",
       "      <td>female</td>\n",
       "      <td>38.0</td>\n",
       "      <td>1</td>\n",
       "      <td>0</td>\n",
       "      <td>71.2833</td>\n",
       "      <td>C</td>\n",
       "      <td>First</td>\n",
       "      <td>C</td>\n",
       "      <td>Cherbourg</td>\n",
       "      <td>0</td>\n",
       "    </tr>\n",
       "    <tr>\n",
       "      <th>2</th>\n",
       "      <td>2</td>\n",
       "      <td>1</td>\n",
       "      <td>3</td>\n",
       "      <td>female</td>\n",
       "      <td>26.0</td>\n",
       "      <td>0</td>\n",
       "      <td>0</td>\n",
       "      <td>7.9250</td>\n",
       "      <td>S</td>\n",
       "      <td>Third</td>\n",
       "      <td>None</td>\n",
       "      <td>Southampton</td>\n",
       "      <td>1</td>\n",
       "    </tr>\n",
       "  </tbody>\n",
       "</table>\n",
       "</div>"
      ],
      "text/plain": [
       "   passenger_id  survived  pclass     sex   age  sibsp  parch     fare  \\\n",
       "0             0         0       3    male  22.0      1      0   7.2500   \n",
       "1             1         1       1  female  38.0      1      0  71.2833   \n",
       "2             2         1       3  female  26.0      0      0   7.9250   \n",
       "\n",
       "  embarked  class  deck  embark_town  alone  \n",
       "0        S  Third  None  Southampton      0  \n",
       "1        C  First     C    Cherbourg      0  \n",
       "2        S  Third  None  Southampton      1  "
      ]
     },
     "execution_count": 4,
     "metadata": {},
     "output_type": "execute_result"
    }
   ],
   "source": [
    "# Use my variables in the pandas read_sql() function.\n",
    "\n",
    "titanic_df = pd.read_sql(sql_query, connection_url)\n",
    "titanic_df.head(3)"
   ]
  },
  {
   "cell_type": "markdown",
   "metadata": {},
   "source": [
    "**<font color=purple>Put it all together in a single function that acquires new data from the Codeup database and save it, as well as any helper functions, in your `acquire.py` file.</font>**\n",
    "\n",
    "```python\n",
    "# Create helper function to get the necessary connection url.\n",
    "def get_connection(db, user=user, host=host, password=password):\n",
    "    '''\n",
    "    This function uses my info from my env file to\n",
    "    create a connection url to access the Codeup db.\n",
    "    '''\n",
    "    return f'mysql+pymysql://{user}:{password}@{host}/{db}'\n",
    "\n",
    "# Use the above helper function and a sql query in a single function.\n",
    "def get_db_data():\n",
    "    '''\n",
    "    This function reads data from the Codeup db into a df.\n",
    "    '''\n",
    "    sql_query = 'write your sql query here; test it in Sequel Pro first!'\n",
    "    return pd.read_sql(sql_query, get_connection('database_name'))\n",
    "```"
   ]
  },
  {
   "cell_type": "code",
   "execution_count": 5,
   "metadata": {},
   "outputs": [],
   "source": [
    "# Let's create a helper function that creates our connection url.\n",
    "\n",
    "def get_connection(db, user=user, host=host, password=password):\n",
    "    '''\n",
    "    This function uses my info from my env file to\n",
    "    create a connection url to access the Codeup db.\n",
    "    '''\n",
    "    return f'mysql+pymysql://{user}:{password}@{host}/{db}'"
   ]
  },
  {
   "cell_type": "code",
   "execution_count": 6,
   "metadata": {},
   "outputs": [],
   "source": [
    "def get_titanic_data():\n",
    "    '''\n",
    "    This function reads in the titanic data from the Codeup db\n",
    "    and returns a pandas DataFrame with all columns.\n",
    "    '''\n",
    "    sql_query = 'SELECT * FROM passengers'\n",
    "    return pd.read_sql(sql_query, get_connection('titanic_db'))"
   ]
  },
  {
   "cell_type": "code",
   "execution_count": 7,
   "metadata": {},
   "outputs": [
    {
     "data": {
      "text/html": [
       "<div>\n",
       "<style scoped>\n",
       "    .dataframe tbody tr th:only-of-type {\n",
       "        vertical-align: middle;\n",
       "    }\n",
       "\n",
       "    .dataframe tbody tr th {\n",
       "        vertical-align: top;\n",
       "    }\n",
       "\n",
       "    .dataframe thead th {\n",
       "        text-align: right;\n",
       "    }\n",
       "</style>\n",
       "<table border=\"1\" class=\"dataframe\">\n",
       "  <thead>\n",
       "    <tr style=\"text-align: right;\">\n",
       "      <th></th>\n",
       "      <th>passenger_id</th>\n",
       "      <th>survived</th>\n",
       "      <th>pclass</th>\n",
       "      <th>sex</th>\n",
       "      <th>age</th>\n",
       "      <th>sibsp</th>\n",
       "      <th>parch</th>\n",
       "      <th>fare</th>\n",
       "      <th>embarked</th>\n",
       "      <th>class</th>\n",
       "      <th>deck</th>\n",
       "      <th>embark_town</th>\n",
       "      <th>alone</th>\n",
       "    </tr>\n",
       "  </thead>\n",
       "  <tbody>\n",
       "    <tr>\n",
       "      <th>0</th>\n",
       "      <td>0</td>\n",
       "      <td>0</td>\n",
       "      <td>3</td>\n",
       "      <td>male</td>\n",
       "      <td>22.0</td>\n",
       "      <td>1</td>\n",
       "      <td>0</td>\n",
       "      <td>7.2500</td>\n",
       "      <td>S</td>\n",
       "      <td>Third</td>\n",
       "      <td>None</td>\n",
       "      <td>Southampton</td>\n",
       "      <td>0</td>\n",
       "    </tr>\n",
       "    <tr>\n",
       "      <th>1</th>\n",
       "      <td>1</td>\n",
       "      <td>1</td>\n",
       "      <td>1</td>\n",
       "      <td>female</td>\n",
       "      <td>38.0</td>\n",
       "      <td>1</td>\n",
       "      <td>0</td>\n",
       "      <td>71.2833</td>\n",
       "      <td>C</td>\n",
       "      <td>First</td>\n",
       "      <td>C</td>\n",
       "      <td>Cherbourg</td>\n",
       "      <td>0</td>\n",
       "    </tr>\n",
       "    <tr>\n",
       "      <th>2</th>\n",
       "      <td>2</td>\n",
       "      <td>1</td>\n",
       "      <td>3</td>\n",
       "      <td>female</td>\n",
       "      <td>26.0</td>\n",
       "      <td>0</td>\n",
       "      <td>0</td>\n",
       "      <td>7.9250</td>\n",
       "      <td>S</td>\n",
       "      <td>Third</td>\n",
       "      <td>None</td>\n",
       "      <td>Southampton</td>\n",
       "      <td>1</td>\n",
       "    </tr>\n",
       "  </tbody>\n",
       "</table>\n",
       "</div>"
      ],
      "text/plain": [
       "   passenger_id  survived  pclass     sex   age  sibsp  parch     fare  \\\n",
       "0             0         0       3    male  22.0      1      0   7.2500   \n",
       "1             1         1       1  female  38.0      1      0  71.2833   \n",
       "2             2         1       3  female  26.0      0      0   7.9250   \n",
       "\n",
       "  embarked  class  deck  embark_town  alone  \n",
       "0        S  Third  None  Southampton      0  \n",
       "1        C  First     C    Cherbourg      0  \n",
       "2        S  Third  None  Southampton      1  "
      ]
     },
     "execution_count": 7,
     "metadata": {},
     "output_type": "execute_result"
    }
   ],
   "source": [
    "titanic_df = get_titanic_data()\n",
    "titanic_df.head(3)"
   ]
  },
  {
   "cell_type": "markdown",
   "metadata": {},
   "source": [
    "___"
   ]
  },
  {
   "cell_type": "markdown",
   "metadata": {},
   "source": [
    "### From Files\n",
    "\n",
    "- Create your DataFrame from a csv file.\n",
    "\n",
    "```python\n",
    "df = pd.read_csv('file_path/file_name.csv')\n",
    "```\n",
    "- Create your DataFrame from an AWS S3 file.\n",
    "\n",
    "```python\n",
    "df = pd.read_csv('https://s3.amazonaws.com/bucket_and_or_file_name.csv')\n",
    "```\n",
    "\n",
    "- Create your DataFrame from a Google sheet using its Share url.\n",
    "\n",
    "```python\n",
    "sheet_url = 'https://docs.google.com/spreadsheets/d/1Uhtml8KY19LILuZsrDtlsHHDC9wuDGUSe8LTEwvdI5g/edit#gid=341089357'\n",
    "```  \n",
    "\n",
    "```python\n",
    "csv_export_url = sheet_url.replace('/edit#gid=', '/export?format=csv&gid=')\n",
    "```\n",
    "\n",
    "```python\n",
    "df = pd.read_csv(csv_export_url)\n",
    "```"
   ]
  },
  {
   "cell_type": "code",
   "execution_count": 8,
   "metadata": {},
   "outputs": [],
   "source": [
    "# Assign our Google Sheet share url to a variable.\n",
    "\n",
    "sheet_url = 'https://docs.google.com/spreadsheets/d/1Uhtml8KY19LILuZsrDtlsHHDC9wuDGUSe8LTEwvdI5g/edit#gid=341089357'"
   ]
  },
  {
   "cell_type": "code",
   "execution_count": 9,
   "metadata": {},
   "outputs": [],
   "source": [
    "# Use the replace method to modify our url, so we can export it.\n",
    "\n",
    "csv_export_url = sheet_url.replace('/edit#gid=', '/export?format=csv&gid=')"
   ]
  },
  {
   "cell_type": "code",
   "execution_count": 10,
   "metadata": {},
   "outputs": [
    {
     "data": {
      "text/html": [
       "<div>\n",
       "<style scoped>\n",
       "    .dataframe tbody tr th:only-of-type {\n",
       "        vertical-align: middle;\n",
       "    }\n",
       "\n",
       "    .dataframe tbody tr th {\n",
       "        vertical-align: top;\n",
       "    }\n",
       "\n",
       "    .dataframe thead th {\n",
       "        text-align: right;\n",
       "    }\n",
       "</style>\n",
       "<table border=\"1\" class=\"dataframe\">\n",
       "  <thead>\n",
       "    <tr style=\"text-align: right;\">\n",
       "      <th></th>\n",
       "      <th>PassengerId</th>\n",
       "      <th>Survived</th>\n",
       "      <th>Pclass</th>\n",
       "      <th>Name</th>\n",
       "      <th>Sex</th>\n",
       "      <th>Age</th>\n",
       "      <th>SibSp</th>\n",
       "      <th>Parch</th>\n",
       "      <th>Ticket</th>\n",
       "      <th>Fare</th>\n",
       "      <th>Cabin</th>\n",
       "      <th>Embarked</th>\n",
       "    </tr>\n",
       "  </thead>\n",
       "  <tbody>\n",
       "    <tr>\n",
       "      <th>0</th>\n",
       "      <td>1</td>\n",
       "      <td>0</td>\n",
       "      <td>3</td>\n",
       "      <td>Braund, Mr. Owen Harris</td>\n",
       "      <td>male</td>\n",
       "      <td>22.0</td>\n",
       "      <td>1</td>\n",
       "      <td>0</td>\n",
       "      <td>A/5 21171</td>\n",
       "      <td>7.2500</td>\n",
       "      <td>NaN</td>\n",
       "      <td>S</td>\n",
       "    </tr>\n",
       "    <tr>\n",
       "      <th>1</th>\n",
       "      <td>2</td>\n",
       "      <td>1</td>\n",
       "      <td>1</td>\n",
       "      <td>Cumings, Mrs. John Bradley (Florence Briggs Thayer)</td>\n",
       "      <td>female</td>\n",
       "      <td>38.0</td>\n",
       "      <td>1</td>\n",
       "      <td>0</td>\n",
       "      <td>PC 17599</td>\n",
       "      <td>71.2833</td>\n",
       "      <td>C85</td>\n",
       "      <td>C</td>\n",
       "    </tr>\n",
       "  </tbody>\n",
       "</table>\n",
       "</div>"
      ],
      "text/plain": [
       "   PassengerId  Survived  Pclass  \\\n",
       "0            1         0       3   \n",
       "1            2         1       1   \n",
       "\n",
       "                                                  Name     Sex   Age  SibSp  \\\n",
       "0                              Braund, Mr. Owen Harris    male  22.0      1   \n",
       "1  Cumings, Mrs. John Bradley (Florence Briggs Thayer)  female  38.0      1   \n",
       "\n",
       "   Parch     Ticket     Fare Cabin Embarked  \n",
       "0      0  A/5 21171   7.2500   NaN        S  \n",
       "1      0   PC 17599  71.2833   C85        C  "
      ]
     },
     "execution_count": 10,
     "metadata": {},
     "output_type": "execute_result"
    }
   ],
   "source": [
    "# Use read_csv() method to create our DataFrame.\n",
    "\n",
    "df_googlesheet = pd.read_csv(csv_export_url)\n",
    "df_googlesheet.head(2)"
   ]
  },
  {
   "cell_type": "markdown",
   "metadata": {},
   "source": [
    "___"
   ]
  },
  {
   "cell_type": "markdown",
   "metadata": {},
   "source": [
    "### From Your Clipboard\n",
    "\n",
    "Read copy-pasted tabular data and parse it into a DataFrame.\n",
    "\n",
    "```python\n",
    "pd.read_clipboard(header=None, names=colums)\n",
    "```\n",
    "\n",
    "[Here's](https://towardsdatascience.com/pandas-hacks-read-clipboard-94a05c031382) a short and sweet article that explains it all nicely."
   ]
  },
  {
   "cell_type": "markdown",
   "metadata": {},
   "source": [
    "___"
   ]
  },
  {
   "cell_type": "markdown",
   "metadata": {},
   "source": [
    "### From an Excel Sheet\n",
    "\n",
    "```python\n",
    "pd.read_excel('your_excel_file_name.xlsx', sheet_name='your_table_name', usecols=['this_one', 'this_one'])\n",
    "```"
   ]
  },
  {
   "cell_type": "code",
   "execution_count": 11,
   "metadata": {},
   "outputs": [
    {
     "data": {
      "text/html": [
       "<div>\n",
       "<style scoped>\n",
       "    .dataframe tbody tr th:only-of-type {\n",
       "        vertical-align: middle;\n",
       "    }\n",
       "\n",
       "    .dataframe tbody tr th {\n",
       "        vertical-align: top;\n",
       "    }\n",
       "\n",
       "    .dataframe thead th {\n",
       "        text-align: right;\n",
       "    }\n",
       "</style>\n",
       "<table border=\"1\" class=\"dataframe\">\n",
       "  <thead>\n",
       "    <tr style=\"text-align: right;\">\n",
       "      <th></th>\n",
       "      <th>customer_id</th>\n",
       "      <th>gender</th>\n",
       "      <th>is_senior_citizen</th>\n",
       "      <th>partner</th>\n",
       "      <th>dependents</th>\n",
       "      <th>phone_service</th>\n",
       "      <th>internet_service</th>\n",
       "      <th>contract_type</th>\n",
       "      <th>payment_type</th>\n",
       "      <th>monthly_charges</th>\n",
       "      <th>total_charges</th>\n",
       "      <th>tenure</th>\n",
       "      <th>churn</th>\n",
       "    </tr>\n",
       "  </thead>\n",
       "  <tbody>\n",
       "    <tr>\n",
       "      <th>0</th>\n",
       "      <td>7569-NMZYQ</td>\n",
       "      <td>Female</td>\n",
       "      <td>0</td>\n",
       "      <td>Yes</td>\n",
       "      <td>Yes</td>\n",
       "      <td>2</td>\n",
       "      <td>2</td>\n",
       "      <td>2</td>\n",
       "      <td>Bank transfer (automatic)</td>\n",
       "      <td>118.75</td>\n",
       "      <td>8672.45</td>\n",
       "      <td>73.031158</td>\n",
       "      <td>No</td>\n",
       "    </tr>\n",
       "    <tr>\n",
       "      <th>1</th>\n",
       "      <td>8984-HPEMB</td>\n",
       "      <td>Female</td>\n",
       "      <td>0</td>\n",
       "      <td>No</td>\n",
       "      <td>No</td>\n",
       "      <td>2</td>\n",
       "      <td>2</td>\n",
       "      <td>2</td>\n",
       "      <td>Electronic check</td>\n",
       "      <td>118.65</td>\n",
       "      <td>8477.60</td>\n",
       "      <td>71.450485</td>\n",
       "      <td>No</td>\n",
       "    </tr>\n",
       "    <tr>\n",
       "      <th>2</th>\n",
       "      <td>5734-EJKXG</td>\n",
       "      <td>Female</td>\n",
       "      <td>0</td>\n",
       "      <td>No</td>\n",
       "      <td>No</td>\n",
       "      <td>2</td>\n",
       "      <td>2</td>\n",
       "      <td>1</td>\n",
       "      <td>Electronic check</td>\n",
       "      <td>118.60</td>\n",
       "      <td>7365.70</td>\n",
       "      <td>62.105396</td>\n",
       "      <td>No</td>\n",
       "    </tr>\n",
       "  </tbody>\n",
       "</table>\n",
       "</div>"
      ],
      "text/plain": [
       "  customer_id  gender  is_senior_citizen partner dependents  phone_service  \\\n",
       "0  7569-NMZYQ  Female                  0     Yes        Yes              2   \n",
       "1  8984-HPEMB  Female                  0      No         No              2   \n",
       "2  5734-EJKXG  Female                  0      No         No              2   \n",
       "\n",
       "   internet_service  contract_type               payment_type  \\\n",
       "0                 2              2  Bank transfer (automatic)   \n",
       "1                 2              2           Electronic check   \n",
       "2                 2              1           Electronic check   \n",
       "\n",
       "   monthly_charges  total_charges     tenure churn  \n",
       "0           118.75        8672.45  73.031158    No  \n",
       "1           118.65        8477.60  71.450485    No  \n",
       "2           118.60        7365.70  62.105396    No  "
      ]
     },
     "execution_count": 11,
     "metadata": {},
     "output_type": "execute_result"
    }
   ],
   "source": [
    "# Read in one sheet from my_telco_churn excel workbook.\n",
    "\n",
    "customers_df = pd.read_excel('my_telco_churn.xlsx', sheet_name='Table2_CustDetails')\n",
    "customers_df.head(3)"
   ]
  },
  {
   "cell_type": "markdown",
   "metadata": {},
   "source": [
    "___"
   ]
  },
  {
   "cell_type": "markdown",
   "metadata": {},
   "source": [
    "### From Pydataset\n",
    "\n",
    "Create your DataFrame using Pydataset and Read the Doc.\n",
    "\n",
    "```python\n",
    "from pydataset import data\n",
    "\n",
    "data('iris', show_doc=True)\n",
    "\n",
    "df_iris = data('iris')\n",
    "```"
   ]
  },
  {
   "cell_type": "code",
   "execution_count": 12,
   "metadata": {},
   "outputs": [
    {
     "data": {
      "text/html": [
       "<div>\n",
       "<style scoped>\n",
       "    .dataframe tbody tr th:only-of-type {\n",
       "        vertical-align: middle;\n",
       "    }\n",
       "\n",
       "    .dataframe tbody tr th {\n",
       "        vertical-align: top;\n",
       "    }\n",
       "\n",
       "    .dataframe thead th {\n",
       "        text-align: right;\n",
       "    }\n",
       "</style>\n",
       "<table border=\"1\" class=\"dataframe\">\n",
       "  <thead>\n",
       "    <tr style=\"text-align: right;\">\n",
       "      <th></th>\n",
       "      <th>Sepal.Length</th>\n",
       "      <th>Sepal.Width</th>\n",
       "      <th>Petal.Length</th>\n",
       "      <th>Petal.Width</th>\n",
       "      <th>Species</th>\n",
       "    </tr>\n",
       "  </thead>\n",
       "  <tbody>\n",
       "    <tr>\n",
       "      <th>1</th>\n",
       "      <td>5.1</td>\n",
       "      <td>3.5</td>\n",
       "      <td>1.4</td>\n",
       "      <td>0.2</td>\n",
       "      <td>setosa</td>\n",
       "    </tr>\n",
       "    <tr>\n",
       "      <th>2</th>\n",
       "      <td>4.9</td>\n",
       "      <td>3.0</td>\n",
       "      <td>1.4</td>\n",
       "      <td>0.2</td>\n",
       "      <td>setosa</td>\n",
       "    </tr>\n",
       "    <tr>\n",
       "      <th>3</th>\n",
       "      <td>4.7</td>\n",
       "      <td>3.2</td>\n",
       "      <td>1.3</td>\n",
       "      <td>0.2</td>\n",
       "      <td>setosa</td>\n",
       "    </tr>\n",
       "  </tbody>\n",
       "</table>\n",
       "</div>"
      ],
      "text/plain": [
       "   Sepal.Length  Sepal.Width  Petal.Length  Petal.Width Species\n",
       "1           5.1          3.5           1.4          0.2  setosa\n",
       "2           4.9          3.0           1.4          0.2  setosa\n",
       "3           4.7          3.2           1.3          0.2  setosa"
      ]
     },
     "execution_count": 12,
     "metadata": {},
     "output_type": "execute_result"
    }
   ],
   "source": [
    "# Create DataFrame using pydataset 'iris'\n",
    "\n",
    "df_iris = data('iris')\n",
    "df_iris.head(3)"
   ]
  },
  {
   "cell_type": "code",
   "execution_count": 13,
   "metadata": {},
   "outputs": [
    {
     "data": {
      "text/html": [
       "<div>\n",
       "<style scoped>\n",
       "    .dataframe tbody tr th:only-of-type {\n",
       "        vertical-align: middle;\n",
       "    }\n",
       "\n",
       "    .dataframe tbody tr th {\n",
       "        vertical-align: top;\n",
       "    }\n",
       "\n",
       "    .dataframe thead th {\n",
       "        text-align: right;\n",
       "    }\n",
       "</style>\n",
       "<table border=\"1\" class=\"dataframe\">\n",
       "  <thead>\n",
       "    <tr style=\"text-align: right;\">\n",
       "      <th></th>\n",
       "      <th>sepal_length</th>\n",
       "      <th>sepal_width</th>\n",
       "      <th>petal_length</th>\n",
       "      <th>petal_width</th>\n",
       "      <th>species</th>\n",
       "    </tr>\n",
       "  </thead>\n",
       "  <tbody>\n",
       "    <tr>\n",
       "      <th>0</th>\n",
       "      <td>5.1</td>\n",
       "      <td>3.5</td>\n",
       "      <td>1.4</td>\n",
       "      <td>0.2</td>\n",
       "      <td>setosa</td>\n",
       "    </tr>\n",
       "    <tr>\n",
       "      <th>1</th>\n",
       "      <td>4.9</td>\n",
       "      <td>3.0</td>\n",
       "      <td>1.4</td>\n",
       "      <td>0.2</td>\n",
       "      <td>setosa</td>\n",
       "    </tr>\n",
       "    <tr>\n",
       "      <th>2</th>\n",
       "      <td>4.7</td>\n",
       "      <td>3.2</td>\n",
       "      <td>1.3</td>\n",
       "      <td>0.2</td>\n",
       "      <td>setosa</td>\n",
       "    </tr>\n",
       "  </tbody>\n",
       "</table>\n",
       "</div>"
      ],
      "text/plain": [
       "   sepal_length  sepal_width  petal_length  petal_width species\n",
       "0           5.1          3.5           1.4          0.2  setosa\n",
       "1           4.9          3.0           1.4          0.2  setosa\n",
       "2           4.7          3.2           1.3          0.2  setosa"
      ]
     },
     "execution_count": 13,
     "metadata": {},
     "output_type": "execute_result"
    }
   ],
   "source": [
    "# Using Seaborn Datasets\n",
    "\n",
    "iris = sns.load_dataset('iris')\n",
    "iris.head(3)"
   ]
  },
  {
   "cell_type": "markdown",
   "metadata": {},
   "source": [
    "___"
   ]
  },
  {
   "cell_type": "markdown",
   "metadata": {},
   "source": [
    "### From Sklearn Datasets\n",
    "\n",
    "Create your DataFrame using Sklearn Datasets."
   ]
  },
  {
   "cell_type": "code",
   "execution_count": 14,
   "metadata": {},
   "outputs": [
    {
     "data": {
      "text/plain": [
       "sklearn.utils.Bunch"
      ]
     },
     "execution_count": 14,
     "metadata": {},
     "output_type": "execute_result"
    }
   ],
   "source": [
    "# Using Sklearn Datasets, dictionary-like object\n",
    "\n",
    "from sklearn import datasets\n",
    "\n",
    "iris = datasets.load_iris()\n",
    "type(iris)"
   ]
  },
  {
   "cell_type": "code",
   "execution_count": 15,
   "metadata": {},
   "outputs": [
    {
     "data": {
      "text/plain": [
       "dict_keys(['data', 'target', 'target_names', 'DESCR', 'feature_names', 'filename'])"
      ]
     },
     "execution_count": 15,
     "metadata": {},
     "output_type": "execute_result"
    }
   ],
   "source": [
    "iris.keys()"
   ]
  },
  {
   "cell_type": "code",
   "execution_count": 16,
   "metadata": {},
   "outputs": [
    {
     "data": {
      "text/html": [
       "<div>\n",
       "<style scoped>\n",
       "    .dataframe tbody tr th:only-of-type {\n",
       "        vertical-align: middle;\n",
       "    }\n",
       "\n",
       "    .dataframe tbody tr th {\n",
       "        vertical-align: top;\n",
       "    }\n",
       "\n",
       "    .dataframe thead th {\n",
       "        text-align: right;\n",
       "    }\n",
       "</style>\n",
       "<table border=\"1\" class=\"dataframe\">\n",
       "  <thead>\n",
       "    <tr style=\"text-align: right;\">\n",
       "      <th></th>\n",
       "      <th>sepal length (cm)</th>\n",
       "      <th>sepal width (cm)</th>\n",
       "      <th>petal length (cm)</th>\n",
       "      <th>petal width (cm)</th>\n",
       "    </tr>\n",
       "  </thead>\n",
       "  <tbody>\n",
       "    <tr>\n",
       "      <th>0</th>\n",
       "      <td>5.1</td>\n",
       "      <td>3.5</td>\n",
       "      <td>1.4</td>\n",
       "      <td>0.2</td>\n",
       "    </tr>\n",
       "    <tr>\n",
       "      <th>1</th>\n",
       "      <td>4.9</td>\n",
       "      <td>3.0</td>\n",
       "      <td>1.4</td>\n",
       "      <td>0.2</td>\n",
       "    </tr>\n",
       "    <tr>\n",
       "      <th>2</th>\n",
       "      <td>4.7</td>\n",
       "      <td>3.2</td>\n",
       "      <td>1.3</td>\n",
       "      <td>0.2</td>\n",
       "    </tr>\n",
       "  </tbody>\n",
       "</table>\n",
       "</div>"
      ],
      "text/plain": [
       "   sepal length (cm)  sepal width (cm)  petal length (cm)  petal width (cm)\n",
       "0                5.1               3.5                1.4               0.2\n",
       "1                4.9               3.0                1.4               0.2\n",
       "2                4.7               3.2                1.3               0.2"
      ]
     },
     "execution_count": 16,
     "metadata": {},
     "output_type": "execute_result"
    }
   ],
   "source": [
    "iris_df = pd.DataFrame(iris.data, columns=iris.feature_names)\n",
    "iris_df.head(3)"
   ]
  },
  {
   "cell_type": "code",
   "execution_count": 17,
   "metadata": {},
   "outputs": [
    {
     "data": {
      "text/html": [
       "<div>\n",
       "<style scoped>\n",
       "    .dataframe tbody tr th:only-of-type {\n",
       "        vertical-align: middle;\n",
       "    }\n",
       "\n",
       "    .dataframe tbody tr th {\n",
       "        vertical-align: top;\n",
       "    }\n",
       "\n",
       "    .dataframe thead th {\n",
       "        text-align: right;\n",
       "    }\n",
       "</style>\n",
       "<table border=\"1\" class=\"dataframe\">\n",
       "  <thead>\n",
       "    <tr style=\"text-align: right;\">\n",
       "      <th></th>\n",
       "      <th>sepal length (cm)</th>\n",
       "      <th>sepal width (cm)</th>\n",
       "      <th>petal length (cm)</th>\n",
       "      <th>petal width (cm)</th>\n",
       "      <th>species</th>\n",
       "    </tr>\n",
       "  </thead>\n",
       "  <tbody>\n",
       "    <tr>\n",
       "      <th>0</th>\n",
       "      <td>5.1</td>\n",
       "      <td>3.5</td>\n",
       "      <td>1.4</td>\n",
       "      <td>0.2</td>\n",
       "      <td>0</td>\n",
       "    </tr>\n",
       "    <tr>\n",
       "      <th>1</th>\n",
       "      <td>4.9</td>\n",
       "      <td>3.0</td>\n",
       "      <td>1.4</td>\n",
       "      <td>0.2</td>\n",
       "      <td>0</td>\n",
       "    </tr>\n",
       "    <tr>\n",
       "      <th>2</th>\n",
       "      <td>4.7</td>\n",
       "      <td>3.2</td>\n",
       "      <td>1.3</td>\n",
       "      <td>0.2</td>\n",
       "      <td>0</td>\n",
       "    </tr>\n",
       "  </tbody>\n",
       "</table>\n",
       "</div>"
      ],
      "text/plain": [
       "   sepal length (cm)  sepal width (cm)  petal length (cm)  petal width (cm)  \\\n",
       "0                5.1               3.5                1.4               0.2   \n",
       "1                4.9               3.0                1.4               0.2   \n",
       "2                4.7               3.2                1.3               0.2   \n",
       "\n",
       "   species  \n",
       "0        0  \n",
       "1        0  \n",
       "2        0  "
      ]
     },
     "execution_count": 17,
     "metadata": {},
     "output_type": "execute_result"
    }
   ],
   "source": [
    "iris_df['species'] = iris.target\n",
    "iris_df.head(3)"
   ]
  },
  {
   "cell_type": "markdown",
   "metadata": {},
   "source": [
    "**More on sklearn dataset loading utilities [here](https://scikit-learn.org/stable/datasets/index.html)**\n",
    "\n",
    "**Seaborn Datasets you can use are linked [here](https://github.com/mwaskom/seaborn-data)**"
   ]
  },
  {
   "cell_type": "markdown",
   "metadata": {},
   "source": [
    "<hr style=\"border-top: 10px groove goldenrod; margin-top: 1px; margin-bottom: 1px\"></hr>"
   ]
  },
  {
   "cell_type": "markdown",
   "metadata": {},
   "source": [
    "## Preparation - Imputing and Encoding Focus"
   ]
  },
  {
   "cell_type": "markdown",
   "metadata": {},
   "source": [
    "<hr style=\"border-top: 10px groove goldenrod; margin-top: 1px; margin-bottom: 1px\"></hr>"
   ]
  },
  {
   "cell_type": "markdown",
   "metadata": {},
   "source": [
    "### **<font color=red>What are Data Imputation and Data Encoding?</font>**\n",
    "\n",
    "**Imputation** is the process of replacing missing data with substituted values. You might choose to impute the mean, median, or mode of a given column to fill any holes or cells with missing data. Maybe you want to do something a little more complex like use a linear regression model to predict the missing values that you will impute. Depending on the situation, you might just decide to drop rows or columns that have more than a certain percentage of missing values. Whatever you decide to do, you first need to inspect your dataset for Null values.\n",
    "\n",
    "**Encoding** is when you convert a string to an integer representation making a categorical value useable in a ML model.\n",
    "\n",
    "**<font color=purple>I'll demonstrate a few different techniques to handle these tasks below.</font>**"
   ]
  },
  {
   "cell_type": "markdown",
   "metadata": {},
   "source": [
    "___"
   ]
  },
  {
   "cell_type": "markdown",
   "metadata": {},
   "source": [
    "### **<font color=orange>So What Are They For?</font>**\n",
    "\n",
    "**Both imputing and encoding our data is part of preparing it for use in Machine Learning models.**\n",
    "\n",
    "The simplest way to encode a categorical variable is with the pandas function `pd.get_dummies()`, so we'll look at that first. I perform this manipulation before I split. This is a great technique to start with and perfect place to build your understanding of encoding data.\n",
    "\n",
    "**The encoding techniques below are performed after I split my data, so I will demonstrate them later in the notebook.**\n",
    "\n",
    "Encoding with `LabelEncoder()` converts each unique value in your chosen column into an integer representing the original categorical value. **This technique is useful when there is meaning to the order of your categorical values, or in other words, for ordinal values..**\n",
    "\n",
    "One-hot Encoding is when we create a new column for each value in the oringinal column we wish to encode. Each observation in our DataFrame will have either a 0 or a 1 to indicate which of the new columns represents its value in the original column. **This is useful when the order of your categorical values does not carry meaning, or in other words, for nominal values.** Beware of the curse of dimensionality when using One-hot; it can quickly increase the number of columns, and therfore complexity, of your model exponentially.\n",
    "\n",
    "Take a deeper look at these various techniques [in this arcticle](https://towardsdatascience.com/categorical-encoding-using-label-encoding-and-one-hot-encoder-911ef77fb5bd) and [in this beginner's guide to encoding data](https://towardsdatascience.com/beginners-guide-to-encoding-data-5515da7f56ab)."
   ]
  },
  {
   "cell_type": "markdown",
   "metadata": {},
   "source": [
    "___"
   ]
  },
  {
   "cell_type": "markdown",
   "metadata": {},
   "source": [
    "### **<font color=green>Now What?</font>**\n",
    "\n",
    "**Let's take a look at our data and decide what variables may need imputing, encoding, or just dropped. I might also decide to create new columns in prepare.**"
   ]
  },
  {
   "cell_type": "markdown",
   "metadata": {},
   "source": [
    "#### `.map()` to Create Column\n",
    "\n",
    "I'm adding a column here, `is_female`, and demonstrating how I could do that using `df.map()`."
   ]
  },
  {
   "cell_type": "code",
   "execution_count": 18,
   "metadata": {},
   "outputs": [
    {
     "data": {
      "text/html": [
       "<div>\n",
       "<style scoped>\n",
       "    .dataframe tbody tr th:only-of-type {\n",
       "        vertical-align: middle;\n",
       "    }\n",
       "\n",
       "    .dataframe tbody tr th {\n",
       "        vertical-align: top;\n",
       "    }\n",
       "\n",
       "    .dataframe thead th {\n",
       "        text-align: right;\n",
       "    }\n",
       "</style>\n",
       "<table border=\"1\" class=\"dataframe\">\n",
       "  <thead>\n",
       "    <tr style=\"text-align: right;\">\n",
       "      <th></th>\n",
       "      <th>passenger_id</th>\n",
       "      <th>survived</th>\n",
       "      <th>pclass</th>\n",
       "      <th>sex</th>\n",
       "      <th>age</th>\n",
       "      <th>sibsp</th>\n",
       "      <th>parch</th>\n",
       "      <th>fare</th>\n",
       "      <th>embarked</th>\n",
       "      <th>class</th>\n",
       "      <th>deck</th>\n",
       "      <th>embark_town</th>\n",
       "      <th>alone</th>\n",
       "      <th>is_female</th>\n",
       "    </tr>\n",
       "  </thead>\n",
       "  <tbody>\n",
       "    <tr>\n",
       "      <th>0</th>\n",
       "      <td>0</td>\n",
       "      <td>0</td>\n",
       "      <td>3</td>\n",
       "      <td>male</td>\n",
       "      <td>22.0</td>\n",
       "      <td>1</td>\n",
       "      <td>0</td>\n",
       "      <td>7.2500</td>\n",
       "      <td>S</td>\n",
       "      <td>Third</td>\n",
       "      <td>None</td>\n",
       "      <td>Southampton</td>\n",
       "      <td>0</td>\n",
       "      <td>0</td>\n",
       "    </tr>\n",
       "    <tr>\n",
       "      <th>1</th>\n",
       "      <td>1</td>\n",
       "      <td>1</td>\n",
       "      <td>1</td>\n",
       "      <td>female</td>\n",
       "      <td>38.0</td>\n",
       "      <td>1</td>\n",
       "      <td>0</td>\n",
       "      <td>71.2833</td>\n",
       "      <td>C</td>\n",
       "      <td>First</td>\n",
       "      <td>C</td>\n",
       "      <td>Cherbourg</td>\n",
       "      <td>0</td>\n",
       "      <td>1</td>\n",
       "    </tr>\n",
       "    <tr>\n",
       "      <th>2</th>\n",
       "      <td>2</td>\n",
       "      <td>1</td>\n",
       "      <td>3</td>\n",
       "      <td>female</td>\n",
       "      <td>26.0</td>\n",
       "      <td>0</td>\n",
       "      <td>0</td>\n",
       "      <td>7.9250</td>\n",
       "      <td>S</td>\n",
       "      <td>Third</td>\n",
       "      <td>None</td>\n",
       "      <td>Southampton</td>\n",
       "      <td>1</td>\n",
       "      <td>1</td>\n",
       "    </tr>\n",
       "  </tbody>\n",
       "</table>\n",
       "</div>"
      ],
      "text/plain": [
       "   passenger_id  survived  pclass     sex   age  sibsp  parch     fare  \\\n",
       "0             0         0       3    male  22.0      1      0   7.2500   \n",
       "1             1         1       1  female  38.0      1      0  71.2833   \n",
       "2             2         1       3  female  26.0      0      0   7.9250   \n",
       "\n",
       "  embarked  class  deck  embark_town  alone  is_female  \n",
       "0        S  Third  None  Southampton      0          0  \n",
       "1        C  First     C    Cherbourg      0          1  \n",
       "2        S  Third  None  Southampton      1          1  "
      ]
     },
     "execution_count": 18,
     "metadata": {},
     "output_type": "execute_result"
    }
   ],
   "source": [
    "titanic_df['is_female'] = titanic_df.sex.map({'female': 1, 'male': 0})\n",
    "\n",
    "titanic_df.head(3)"
   ]
  },
  {
   "cell_type": "markdown",
   "metadata": {},
   "source": [
    "___"
   ]
  },
  {
   "cell_type": "markdown",
   "metadata": {},
   "source": [
    "#### `.isna()` and `.isnull()`\n",
    "\n",
    "I'll quickly check my dataset for missing values:\n",
    "\n",
    ">**<font color=purple>Here's a cool way to use a heatmap to visualize Null values in your dataset.</font>**"
   ]
  },
  {
   "cell_type": "code",
   "execution_count": 19,
   "metadata": {},
   "outputs": [
    {
     "data": {
      "image/png": "[encoded data removed]",
      "text/plain": [
       "<Figure size 792x648 with 1 Axes>"
      ]
     },
     "metadata": {
      "needs_background": "light"
     },
     "output_type": "display_data"
    }
   ],
   "source": [
    "sns.heatmap(titanic_df.isnull(), yticklabels = False, cbar = False, cmap='Blues')\n",
    "\n",
    "plt.title('Null Values by Column')\n",
    "plt.show()"
   ]
  },
  {
   "cell_type": "markdown",
   "metadata": {},
   "source": [
    "**Examine total missing values by column; this can help me make some decisions about imputing and dropping.**"
   ]
  },
  {
   "cell_type": "code",
   "execution_count": 20,
   "metadata": {},
   "outputs": [
    {
     "data": {
      "text/plain": [
       "passenger_id      0\n",
       "survived          0\n",
       "pclass            0\n",
       "sex               0\n",
       "age             177\n",
       "sibsp             0\n",
       "parch             0\n",
       "fare              0\n",
       "embarked          2\n",
       "class             0\n",
       "deck            688\n",
       "embark_town       2\n",
       "alone             0\n",
       "is_female         0\n",
       "dtype: int64"
      ]
     },
     "execution_count": 20,
     "metadata": {},
     "output_type": "execute_result"
    }
   ],
   "source": [
    "titanic_df.isna().sum()"
   ]
  },
  {
   "cell_type": "markdown",
   "metadata": {},
   "source": [
    "**Examine percent of missing values by column; I can begin to decide how to handle my missing values based on this.**"
   ]
  },
  {
   "cell_type": "code",
   "execution_count": 21,
   "metadata": {},
   "outputs": [
    {
     "data": {
      "text/plain": [
       "passenger_id     0.00\n",
       "survived         0.00\n",
       "pclass           0.00\n",
       "sex              0.00\n",
       "age             19.87\n",
       "sibsp            0.00\n",
       "parch            0.00\n",
       "fare             0.00\n",
       "embarked         0.22\n",
       "class            0.00\n",
       "deck            77.22\n",
       "embark_town      0.22\n",
       "alone            0.00\n",
       "is_female        0.00\n",
       "dtype: float64"
      ]
     },
     "execution_count": 21,
     "metadata": {},
     "output_type": "execute_result"
    }
   ],
   "source": [
    "round(titanic_df.isna().mean() * 100, 2)"
   ]
  },
  {
   "cell_type": "markdown",
   "metadata": {},
   "source": [
    "**I can check any missing values by subgroups if I really want to dig down.**"
   ]
  },
  {
   "cell_type": "code",
   "execution_count": 22,
   "metadata": {},
   "outputs": [
    {
     "data": {
      "text/html": [
       "<div>\n",
       "<style scoped>\n",
       "    .dataframe tbody tr th:only-of-type {\n",
       "        vertical-align: middle;\n",
       "    }\n",
       "\n",
       "    .dataframe tbody tr th {\n",
       "        vertical-align: top;\n",
       "    }\n",
       "\n",
       "    .dataframe thead th {\n",
       "        text-align: right;\n",
       "    }\n",
       "</style>\n",
       "<table border=\"1\" class=\"dataframe\">\n",
       "  <thead>\n",
       "    <tr style=\"text-align: right;\">\n",
       "      <th></th>\n",
       "      <th></th>\n",
       "      <th></th>\n",
       "      <th>passenger_id</th>\n",
       "      <th>age</th>\n",
       "      <th>sibsp</th>\n",
       "      <th>parch</th>\n",
       "      <th>fare</th>\n",
       "      <th>embarked</th>\n",
       "      <th>class</th>\n",
       "      <th>deck</th>\n",
       "      <th>embark_town</th>\n",
       "      <th>alone</th>\n",
       "      <th>is_female</th>\n",
       "    </tr>\n",
       "    <tr>\n",
       "      <th>survived</th>\n",
       "      <th>pclass</th>\n",
       "      <th>sex</th>\n",
       "      <th></th>\n",
       "      <th></th>\n",
       "      <th></th>\n",
       "      <th></th>\n",
       "      <th></th>\n",
       "      <th></th>\n",
       "      <th></th>\n",
       "      <th></th>\n",
       "      <th></th>\n",
       "      <th></th>\n",
       "      <th></th>\n",
       "    </tr>\n",
       "  </thead>\n",
       "  <tbody>\n",
       "    <tr>\n",
       "      <th rowspan=\"6\" valign=\"top\">0</th>\n",
       "      <th rowspan=\"2\" valign=\"top\">1</th>\n",
       "      <th>female</th>\n",
       "      <td>0</td>\n",
       "      <td>0.0</td>\n",
       "      <td>0</td>\n",
       "      <td>0</td>\n",
       "      <td>0.0</td>\n",
       "      <td>0</td>\n",
       "      <td>0</td>\n",
       "      <td>0</td>\n",
       "      <td>0</td>\n",
       "      <td>0</td>\n",
       "      <td>0</td>\n",
       "    </tr>\n",
       "    <tr>\n",
       "      <th>male</th>\n",
       "      <td>0</td>\n",
       "      <td>16.0</td>\n",
       "      <td>0</td>\n",
       "      <td>0</td>\n",
       "      <td>0.0</td>\n",
       "      <td>0</td>\n",
       "      <td>0</td>\n",
       "      <td>22</td>\n",
       "      <td>0</td>\n",
       "      <td>0</td>\n",
       "      <td>0</td>\n",
       "    </tr>\n",
       "    <tr>\n",
       "      <th rowspan=\"2\" valign=\"top\">2</th>\n",
       "      <th>female</th>\n",
       "      <td>0</td>\n",
       "      <td>0.0</td>\n",
       "      <td>0</td>\n",
       "      <td>0</td>\n",
       "      <td>0.0</td>\n",
       "      <td>0</td>\n",
       "      <td>0</td>\n",
       "      <td>5</td>\n",
       "      <td>0</td>\n",
       "      <td>0</td>\n",
       "      <td>0</td>\n",
       "    </tr>\n",
       "    <tr>\n",
       "      <th>male</th>\n",
       "      <td>0</td>\n",
       "      <td>7.0</td>\n",
       "      <td>0</td>\n",
       "      <td>0</td>\n",
       "      <td>0.0</td>\n",
       "      <td>0</td>\n",
       "      <td>0</td>\n",
       "      <td>89</td>\n",
       "      <td>0</td>\n",
       "      <td>0</td>\n",
       "      <td>0</td>\n",
       "    </tr>\n",
       "    <tr>\n",
       "      <th rowspan=\"2\" valign=\"top\">3</th>\n",
       "      <th>female</th>\n",
       "      <td>0</td>\n",
       "      <td>17.0</td>\n",
       "      <td>0</td>\n",
       "      <td>0</td>\n",
       "      <td>0.0</td>\n",
       "      <td>0</td>\n",
       "      <td>0</td>\n",
       "      <td>70</td>\n",
       "      <td>0</td>\n",
       "      <td>0</td>\n",
       "      <td>0</td>\n",
       "    </tr>\n",
       "    <tr>\n",
       "      <th>male</th>\n",
       "      <td>0</td>\n",
       "      <td>85.0</td>\n",
       "      <td>0</td>\n",
       "      <td>0</td>\n",
       "      <td>0.0</td>\n",
       "      <td>0</td>\n",
       "      <td>0</td>\n",
       "      <td>296</td>\n",
       "      <td>0</td>\n",
       "      <td>0</td>\n",
       "      <td>0</td>\n",
       "    </tr>\n",
       "    <tr>\n",
       "      <th rowspan=\"6\" valign=\"top\">1</th>\n",
       "      <th rowspan=\"2\" valign=\"top\">1</th>\n",
       "      <th>female</th>\n",
       "      <td>0</td>\n",
       "      <td>9.0</td>\n",
       "      <td>0</td>\n",
       "      <td>0</td>\n",
       "      <td>0.0</td>\n",
       "      <td>2</td>\n",
       "      <td>0</td>\n",
       "      <td>13</td>\n",
       "      <td>2</td>\n",
       "      <td>0</td>\n",
       "      <td>0</td>\n",
       "    </tr>\n",
       "    <tr>\n",
       "      <th>male</th>\n",
       "      <td>0</td>\n",
       "      <td>5.0</td>\n",
       "      <td>0</td>\n",
       "      <td>0</td>\n",
       "      <td>0.0</td>\n",
       "      <td>0</td>\n",
       "      <td>0</td>\n",
       "      <td>6</td>\n",
       "      <td>0</td>\n",
       "      <td>0</td>\n",
       "      <td>0</td>\n",
       "    </tr>\n",
       "    <tr>\n",
       "      <th rowspan=\"2\" valign=\"top\">2</th>\n",
       "      <th>female</th>\n",
       "      <td>0</td>\n",
       "      <td>2.0</td>\n",
       "      <td>0</td>\n",
       "      <td>0</td>\n",
       "      <td>0.0</td>\n",
       "      <td>0</td>\n",
       "      <td>0</td>\n",
       "      <td>61</td>\n",
       "      <td>0</td>\n",
       "      <td>0</td>\n",
       "      <td>0</td>\n",
       "    </tr>\n",
       "    <tr>\n",
       "      <th>male</th>\n",
       "      <td>0</td>\n",
       "      <td>2.0</td>\n",
       "      <td>0</td>\n",
       "      <td>0</td>\n",
       "      <td>0.0</td>\n",
       "      <td>0</td>\n",
       "      <td>0</td>\n",
       "      <td>13</td>\n",
       "      <td>0</td>\n",
       "      <td>0</td>\n",
       "      <td>0</td>\n",
       "    </tr>\n",
       "    <tr>\n",
       "      <th rowspan=\"2\" valign=\"top\">3</th>\n",
       "      <th>female</th>\n",
       "      <td>0</td>\n",
       "      <td>25.0</td>\n",
       "      <td>0</td>\n",
       "      <td>0</td>\n",
       "      <td>0.0</td>\n",
       "      <td>0</td>\n",
       "      <td>0</td>\n",
       "      <td>68</td>\n",
       "      <td>0</td>\n",
       "      <td>0</td>\n",
       "      <td>0</td>\n",
       "    </tr>\n",
       "    <tr>\n",
       "      <th>male</th>\n",
       "      <td>0</td>\n",
       "      <td>9.0</td>\n",
       "      <td>0</td>\n",
       "      <td>0</td>\n",
       "      <td>0.0</td>\n",
       "      <td>0</td>\n",
       "      <td>0</td>\n",
       "      <td>45</td>\n",
       "      <td>0</td>\n",
       "      <td>0</td>\n",
       "      <td>0</td>\n",
       "    </tr>\n",
       "  </tbody>\n",
       "</table>\n",
       "</div>"
      ],
      "text/plain": [
       "                        passenger_id   age  sibsp  parch  fare  embarked  \\\n",
       "survived pclass sex                                                        \n",
       "0        1      female             0   0.0      0      0   0.0         0   \n",
       "                male               0  16.0      0      0   0.0         0   \n",
       "         2      female             0   0.0      0      0   0.0         0   \n",
       "                male               0   7.0      0      0   0.0         0   \n",
       "         3      female             0  17.0      0      0   0.0         0   \n",
       "                male               0  85.0      0      0   0.0         0   \n",
       "1        1      female             0   9.0      0      0   0.0         2   \n",
       "                male               0   5.0      0      0   0.0         0   \n",
       "         2      female             0   2.0      0      0   0.0         0   \n",
       "                male               0   2.0      0      0   0.0         0   \n",
       "         3      female             0  25.0      0      0   0.0         0   \n",
       "                male               0   9.0      0      0   0.0         0   \n",
       "\n",
       "                        class  deck  embark_town  alone  is_female  \n",
       "survived pclass sex                                                 \n",
       "0        1      female      0     0            0      0          0  \n",
       "                male        0    22            0      0          0  \n",
       "         2      female      0     5            0      0          0  \n",
       "                male        0    89            0      0          0  \n",
       "         3      female      0    70            0      0          0  \n",
       "                male        0   296            0      0          0  \n",
       "1        1      female      0    13            2      0          0  \n",
       "                male        0     6            0      0          0  \n",
       "         2      female      0    61            0      0          0  \n",
       "                male        0    13            0      0          0  \n",
       "         3      female      0    68            0      0          0  \n",
       "                male        0    45            0      0          0  "
      ]
     },
     "execution_count": 22,
     "metadata": {},
     "output_type": "execute_result"
    }
   ],
   "source": [
    "titanic_df.groupby(['survived', 'pclass', 'sex']).agg(lambda s: s.isna().sum())"
   ]
  },
  {
   "cell_type": "markdown",
   "metadata": {},
   "source": [
    "___"
   ]
  },
  {
   "cell_type": "markdown",
   "metadata": {},
   "source": [
    "### Encoding Technique Before Splitting"
   ]
  },
  {
   "cell_type": "markdown",
   "metadata": {},
   "source": [
    "#### `pd.get_dummies()` \n",
    "\n",
    "Remeber that I perform this manipulation here before I split my data. This is a simple way to encode categorical variables, and we will look at some more sophisticated techniques a bit farther down."
   ]
  },
  {
   "cell_type": "code",
   "execution_count": 23,
   "metadata": {},
   "outputs": [
    {
     "data": {
      "text/html": [
       "<div>\n",
       "<style scoped>\n",
       "    .dataframe tbody tr th:only-of-type {\n",
       "        vertical-align: middle;\n",
       "    }\n",
       "\n",
       "    .dataframe tbody tr th {\n",
       "        vertical-align: top;\n",
       "    }\n",
       "\n",
       "    .dataframe thead th {\n",
       "        text-align: right;\n",
       "    }\n",
       "</style>\n",
       "<table border=\"1\" class=\"dataframe\">\n",
       "  <thead>\n",
       "    <tr style=\"text-align: right;\">\n",
       "      <th></th>\n",
       "      <th>Q</th>\n",
       "      <th>S</th>\n",
       "    </tr>\n",
       "  </thead>\n",
       "  <tbody>\n",
       "    <tr>\n",
       "      <th>680</th>\n",
       "      <td>1</td>\n",
       "      <td>0</td>\n",
       "    </tr>\n",
       "    <tr>\n",
       "      <th>141</th>\n",
       "      <td>0</td>\n",
       "      <td>1</td>\n",
       "    </tr>\n",
       "    <tr>\n",
       "      <th>190</th>\n",
       "      <td>0</td>\n",
       "      <td>1</td>\n",
       "    </tr>\n",
       "    <tr>\n",
       "      <th>511</th>\n",
       "      <td>0</td>\n",
       "      <td>1</td>\n",
       "    </tr>\n",
       "    <tr>\n",
       "      <th>330</th>\n",
       "      <td>1</td>\n",
       "      <td>0</td>\n",
       "    </tr>\n",
       "  </tbody>\n",
       "</table>\n",
       "</div>"
      ],
      "text/plain": [
       "     Q  S\n",
       "680  1  0\n",
       "141  0  1\n",
       "190  0  1\n",
       "511  0  1\n",
       "330  1  0"
      ]
     },
     "execution_count": 23,
     "metadata": {},
     "output_type": "execute_result"
    }
   ],
   "source": [
    "# First I create a new dataframe that holds my encoded columns.\n",
    "\n",
    "embarked_dummies = pd.get_dummies(titanic_df.embarked, drop_first=True)\n",
    "embarked_dummies.sample(5)"
   ]
  },
  {
   "cell_type": "code",
   "execution_count": 24,
   "metadata": {},
   "outputs": [],
   "source": [
    "# Then I add my encoded columns back onto my original dataframe.\n",
    "\n",
    "titanic_df = pd.concat([titanic_df, embarked_dummies], axis=1)"
   ]
  },
  {
   "cell_type": "code",
   "execution_count": 25,
   "metadata": {},
   "outputs": [
    {
     "data": {
      "text/html": [
       "<div>\n",
       "<style scoped>\n",
       "    .dataframe tbody tr th:only-of-type {\n",
       "        vertical-align: middle;\n",
       "    }\n",
       "\n",
       "    .dataframe tbody tr th {\n",
       "        vertical-align: top;\n",
       "    }\n",
       "\n",
       "    .dataframe thead th {\n",
       "        text-align: right;\n",
       "    }\n",
       "</style>\n",
       "<table border=\"1\" class=\"dataframe\">\n",
       "  <thead>\n",
       "    <tr style=\"text-align: right;\">\n",
       "      <th></th>\n",
       "      <th>passenger_id</th>\n",
       "      <th>survived</th>\n",
       "      <th>pclass</th>\n",
       "      <th>sex</th>\n",
       "      <th>age</th>\n",
       "      <th>sibsp</th>\n",
       "      <th>parch</th>\n",
       "      <th>fare</th>\n",
       "      <th>embarked</th>\n",
       "      <th>class</th>\n",
       "      <th>deck</th>\n",
       "      <th>embark_town</th>\n",
       "      <th>alone</th>\n",
       "      <th>is_female</th>\n",
       "      <th>Q</th>\n",
       "      <th>S</th>\n",
       "    </tr>\n",
       "  </thead>\n",
       "  <tbody>\n",
       "    <tr>\n",
       "      <th>569</th>\n",
       "      <td>569</td>\n",
       "      <td>1</td>\n",
       "      <td>3</td>\n",
       "      <td>male</td>\n",
       "      <td>32.0</td>\n",
       "      <td>0</td>\n",
       "      <td>0</td>\n",
       "      <td>7.8542</td>\n",
       "      <td>S</td>\n",
       "      <td>Third</td>\n",
       "      <td>None</td>\n",
       "      <td>Southampton</td>\n",
       "      <td>1</td>\n",
       "      <td>0</td>\n",
       "      <td>0</td>\n",
       "      <td>1</td>\n",
       "    </tr>\n",
       "    <tr>\n",
       "      <th>589</th>\n",
       "      <td>589</td>\n",
       "      <td>0</td>\n",
       "      <td>3</td>\n",
       "      <td>male</td>\n",
       "      <td>NaN</td>\n",
       "      <td>0</td>\n",
       "      <td>0</td>\n",
       "      <td>8.0500</td>\n",
       "      <td>S</td>\n",
       "      <td>Third</td>\n",
       "      <td>None</td>\n",
       "      <td>Southampton</td>\n",
       "      <td>1</td>\n",
       "      <td>0</td>\n",
       "      <td>0</td>\n",
       "      <td>1</td>\n",
       "    </tr>\n",
       "  </tbody>\n",
       "</table>\n",
       "</div>"
      ],
      "text/plain": [
       "     passenger_id  survived  pclass   sex   age  sibsp  parch    fare  \\\n",
       "569           569         1       3  male  32.0      0      0  7.8542   \n",
       "589           589         0       3  male   NaN      0      0  8.0500   \n",
       "\n",
       "    embarked  class  deck  embark_town  alone  is_female  Q  S  \n",
       "569        S  Third  None  Southampton      1          0  0  1  \n",
       "589        S  Third  None  Southampton      1          0  0  1  "
      ]
     },
     "execution_count": 25,
     "metadata": {},
     "output_type": "execute_result"
    }
   ],
   "source": [
    "titanic_df.sample(2)"
   ]
  },
  {
   "cell_type": "markdown",
   "metadata": {},
   "source": [
    "___"
   ]
  },
  {
   "cell_type": "markdown",
   "metadata": {},
   "source": [
    "#### `.drop()`\n",
    "\n",
    "If I'm going to drop any columns or rows, I can do it right here before the split. There are some categorical columns I'm not dropping because I want to use them in explore. I'm choosing to keep my dataframe exploration-friendly, and I can curate columns for modeling later."
   ]
  },
  {
   "cell_type": "code",
   "execution_count": 26,
   "metadata": {},
   "outputs": [
    {
     "name": "stdout",
     "output_type": "stream",
     "text": [
      "<class 'pandas.core.frame.DataFrame'>\n",
      "RangeIndex: 891 entries, 0 to 890\n",
      "Data columns (total 13 columns):\n",
      " #   Column       Non-Null Count  Dtype  \n",
      "---  ------       --------------  -----  \n",
      " 0   survived     891 non-null    int64  \n",
      " 1   pclass       891 non-null    int64  \n",
      " 2   sex          891 non-null    object \n",
      " 3   age          714 non-null    float64\n",
      " 4   sibsp        891 non-null    int64  \n",
      " 5   parch        891 non-null    int64  \n",
      " 6   fare         891 non-null    float64\n",
      " 7   class        891 non-null    object \n",
      " 8   embark_town  889 non-null    object \n",
      " 9   alone        891 non-null    int64  \n",
      " 10  is_female    891 non-null    int64  \n",
      " 11  Q            891 non-null    uint8  \n",
      " 12  S            891 non-null    uint8  \n",
      "dtypes: float64(2), int64(6), object(3), uint8(2)\n",
      "memory usage: 78.4+ KB\n"
     ]
    }
   ],
   "source": [
    "titanic_df = titanic_df.drop(columns=['deck', 'passenger_id', 'embarked'])\n",
    "titanic_df.info()"
   ]
  },
  {
   "cell_type": "markdown",
   "metadata": {},
   "source": [
    "___"
   ]
  },
  {
   "cell_type": "markdown",
   "metadata": {},
   "source": [
    "### Split Your Data"
   ]
  },
  {
   "cell_type": "markdown",
   "metadata": {},
   "source": [
    "**<font color=red></font>**\n",
    "<div class=\"alert alert-block alert-warning\">Split before you begin exploring variable relationships or performing calculations like find the mean to impute for missing values.</div>"
   ]
  },
  {
   "cell_type": "code",
   "execution_count": 27,
   "metadata": {},
   "outputs": [],
   "source": [
    "train_validate, test = train_test_split(titanic_df, test_size=.2, \n",
    "                                        random_state=123, \n",
    "                                        stratify=titanic_df.survived)\n",
    "\n",
    "train, validate = train_test_split(train_validate, test_size=.3, \n",
    "                                   random_state=123, \n",
    "                                   stratify=train_validate.survived)"
   ]
  },
  {
   "cell_type": "code",
   "execution_count": 28,
   "metadata": {},
   "outputs": [
    {
     "name": "stdout",
     "output_type": "stream",
     "text": [
      "train -> (498, 13)\n",
      "validate -> (214, 13)\n",
      "test -> (179, 13)\n"
     ]
    }
   ],
   "source": [
    "print(f'train -> {train.shape}')\n",
    "print(f'validate -> {validate.shape}')\n",
    "print(f'test -> {test.shape}')"
   ]
  },
  {
   "cell_type": "markdown",
   "metadata": {},
   "source": [
    "___"
   ]
  },
  {
   "cell_type": "markdown",
   "metadata": {},
   "source": [
    "**Now I can investigate the relationship between two columns.**"
   ]
  },
  {
   "cell_type": "code",
   "execution_count": 29,
   "metadata": {},
   "outputs": [
    {
     "data": {
      "text/html": [
       "<div>\n",
       "<style scoped>\n",
       "    .dataframe tbody tr th:only-of-type {\n",
       "        vertical-align: middle;\n",
       "    }\n",
       "\n",
       "    .dataframe tbody tr th {\n",
       "        vertical-align: top;\n",
       "    }\n",
       "\n",
       "    .dataframe thead th {\n",
       "        text-align: right;\n",
       "    }\n",
       "</style>\n",
       "<table border=\"1\" class=\"dataframe\">\n",
       "  <thead>\n",
       "    <tr style=\"text-align: right;\">\n",
       "      <th>parch</th>\n",
       "      <th>0</th>\n",
       "      <th>1</th>\n",
       "      <th>2</th>\n",
       "      <th>3</th>\n",
       "      <th>4</th>\n",
       "      <th>5</th>\n",
       "    </tr>\n",
       "    <tr>\n",
       "      <th>sibsp</th>\n",
       "      <th></th>\n",
       "      <th></th>\n",
       "      <th></th>\n",
       "      <th></th>\n",
       "      <th></th>\n",
       "      <th></th>\n",
       "    </tr>\n",
       "  </thead>\n",
       "  <tbody>\n",
       "    <tr>\n",
       "      <th>0</th>\n",
       "      <td>315</td>\n",
       "      <td>22</td>\n",
       "      <td>18</td>\n",
       "      <td>0</td>\n",
       "      <td>1</td>\n",
       "      <td>1</td>\n",
       "    </tr>\n",
       "    <tr>\n",
       "      <th>1</th>\n",
       "      <td>59</td>\n",
       "      <td>27</td>\n",
       "      <td>5</td>\n",
       "      <td>3</td>\n",
       "      <td>0</td>\n",
       "      <td>2</td>\n",
       "    </tr>\n",
       "    <tr>\n",
       "      <th>2</th>\n",
       "      <td>10</td>\n",
       "      <td>7</td>\n",
       "      <td>3</td>\n",
       "      <td>1</td>\n",
       "      <td>0</td>\n",
       "      <td>0</td>\n",
       "    </tr>\n",
       "    <tr>\n",
       "      <th>3</th>\n",
       "      <td>1</td>\n",
       "      <td>4</td>\n",
       "      <td>4</td>\n",
       "      <td>0</td>\n",
       "      <td>0</td>\n",
       "      <td>0</td>\n",
       "    </tr>\n",
       "    <tr>\n",
       "      <th>4</th>\n",
       "      <td>0</td>\n",
       "      <td>5</td>\n",
       "      <td>3</td>\n",
       "      <td>0</td>\n",
       "      <td>0</td>\n",
       "      <td>0</td>\n",
       "    </tr>\n",
       "    <tr>\n",
       "      <th>5</th>\n",
       "      <td>0</td>\n",
       "      <td>0</td>\n",
       "      <td>2</td>\n",
       "      <td>0</td>\n",
       "      <td>0</td>\n",
       "      <td>0</td>\n",
       "    </tr>\n",
       "    <tr>\n",
       "      <th>8</th>\n",
       "      <td>0</td>\n",
       "      <td>0</td>\n",
       "      <td>5</td>\n",
       "      <td>0</td>\n",
       "      <td>0</td>\n",
       "      <td>0</td>\n",
       "    </tr>\n",
       "  </tbody>\n",
       "</table>\n",
       "</div>"
      ],
      "text/plain": [
       "parch    0   1   2  3  4  5\n",
       "sibsp                      \n",
       "0      315  22  18  0  1  1\n",
       "1       59  27   5  3  0  2\n",
       "2       10   7   3  1  0  0\n",
       "3        1   4   4  0  0  0\n",
       "4        0   5   3  0  0  0\n",
       "5        0   0   2  0  0  0\n",
       "8        0   0   5  0  0  0"
      ]
     },
     "execution_count": 29,
     "metadata": {},
     "output_type": "execute_result"
    }
   ],
   "source": [
    "pd.crosstab(train.sibsp, train.parch)"
   ]
  },
  {
   "cell_type": "markdown",
   "metadata": {},
   "source": [
    "___"
   ]
  },
  {
   "cell_type": "markdown",
   "metadata": {},
   "source": [
    "### Imputing Techniques"
   ]
  },
  {
   "cell_type": "markdown",
   "metadata": {},
   "source": [
    "#### `.fillna()`\n",
    "\n",
    "**Fill null values in a column in your datasets with a constant like 0; reassign to original dataframes.**\n",
    "\n",
    "```python\n",
    "train['col'] = train['col'].fillna(0)\n",
    "\n",
    "validate['col'] = validate['col'].fillna(0)\n",
    "\n",
    "test['col'] = test['col'].fillna(0)\n",
    "```"
   ]
  },
  {
   "cell_type": "markdown",
   "metadata": {},
   "source": [
    "___"
   ]
  },
  {
   "cell_type": "markdown",
   "metadata": {},
   "source": [
    "**Fill null values in a column with the overall average from the training data.**"
   ]
  },
  {
   "cell_type": "code",
   "execution_count": 30,
   "metadata": {},
   "outputs": [],
   "source": [
    "#Calculate our fill value using train dataset only.\n",
    "\n",
    "avg_age = train.age.mean()\n",
    "\n",
    "# Fill null values in all of our datasets using our hardcoded value.\n",
    "\n",
    "train.age = train.age.fillna(avg_age)\n",
    "\n",
    "validate.age = validate.age.fillna(avg_age)\n",
    "\n",
    "test.age = test.age.fillna(avg_age)"
   ]
  },
  {
   "cell_type": "code",
   "execution_count": 31,
   "metadata": {},
   "outputs": [
    {
     "data": {
      "image/png": "[encoded data removed]",
      "text/plain": [
       "<Figure size 792x648 with 1 Axes>"
      ]
     },
     "metadata": {
      "needs_background": "light"
     },
     "output_type": "display_data"
    }
   ],
   "source": [
    "# Validate that our fill was successful.\n",
    "\n",
    "sns.heatmap(train.isnull(), yticklabels = False, cbar = False, cmap='Blues')\n",
    "\n",
    "plt.title('Null Values by Column After Handling Nulls in Age')\n",
    "plt.show()"
   ]
  },
  {
   "cell_type": "markdown",
   "metadata": {},
   "source": [
    "___"
   ]
  },
  {
   "cell_type": "markdown",
   "metadata": {},
   "source": [
    "#### `.SimpleImputer()`\n",
    "\n",
    "We can also use some more sophisticated techniques using sklearn. **Sklearn's SimpleImputer ONLY works on numeric columns.**\n",
    "\n",
    "**Create the imputer; pick your strategy.**\n",
    "\n",
    "```python\n",
    "from sklearn.impute import SimpleImputer\n",
    "\n",
    "imputer = sklearn.impute.SimpleImputer(strategy='mean')\n",
    "```\n",
    "\n",
    "**Fit the imputer to train dataframe.**\n",
    "\n",
    "```python\n",
    "imputer = imputer.fit(train[['column']])\n",
    "```\n",
    "\n",
    "**Use the Imputer on train, validate, and test dataframes and reassign to dataframes.**\n",
    "\n",
    "```python\n",
    "train[['column']] = imputer.transform(train[['column']])\n",
    "\n",
    "validate[['column']] = imputer.transform(validate[['column']])\n",
    "\n",
    "test[['column']] = imputer.transform(test[['column']])\n",
    "```"
   ]
  },
  {
   "cell_type": "markdown",
   "metadata": {},
   "source": [
    "___"
   ]
  },
  {
   "cell_type": "markdown",
   "metadata": {},
   "source": [
    "#### What if our missing values are in a categorical column?\n",
    "\n",
    "Here's one way you could handle this if without dropping observations.\n",
    "\n",
    "```python\n",
    "cat_mode = train['Label'].value_counts().index[0]\n",
    "\n",
    "train['cat_column'] = train['cat_column'].fillna(cat_mode)\n",
    "\n",
    "validate['cat_column'] = validate['cat_column'].fillna(cat_mode)\n",
    "\n",
    "test['cat_column'] = test['cat_column'].fillna(cat_mode)\n",
    "```"
   ]
  },
  {
   "cell_type": "code",
   "execution_count": 32,
   "metadata": {},
   "outputs": [
    {
     "data": {
      "text/plain": [
       "1"
      ]
     },
     "execution_count": 32,
     "metadata": {},
     "output_type": "execute_result"
    }
   ],
   "source": [
    "train['embark_town'].isnull().sum()"
   ]
  },
  {
   "cell_type": "code",
   "execution_count": 33,
   "metadata": {},
   "outputs": [
    {
     "data": {
      "text/plain": [
       "'Southampton'"
      ]
     },
     "execution_count": 33,
     "metadata": {},
     "output_type": "execute_result"
    }
   ],
   "source": [
    "# Establish the mode categorical value using the train dataset.\n",
    "\n",
    "embark_mode = train['embark_town'].value_counts().index[0]\n",
    "embark_mode"
   ]
  },
  {
   "cell_type": "markdown",
   "metadata": {},
   "source": [
    "**Fill null values in `embark_town` in all datasets with `embark_mode` value; reassign to dataframes.**"
   ]
  },
  {
   "cell_type": "code",
   "execution_count": 34,
   "metadata": {},
   "outputs": [],
   "source": [
    "train['embark_town'] = train['embark_town'].fillna(embark_mode)\n",
    "validate['embark_town'] = validate['embark_town'].fillna(embark_mode)\n",
    "test['embark_town'] = test['embark_town'].fillna(embark_mode)"
   ]
  },
  {
   "cell_type": "code",
   "execution_count": 35,
   "metadata": {},
   "outputs": [
    {
     "data": {
      "text/plain": [
       "0"
      ]
     },
     "execution_count": 35,
     "metadata": {},
     "output_type": "execute_result"
    }
   ],
   "source": [
    "# Validate our fill on train dataset.\n",
    "\n",
    "train['embark_town'].isnull().sum()"
   ]
  },
  {
   "cell_type": "markdown",
   "metadata": {},
   "source": [
    "___"
   ]
  },
  {
   "cell_type": "markdown",
   "metadata": {},
   "source": [
    "### Encoding Techniques AFTER Splitting"
   ]
  },
  {
   "cell_type": "markdown",
   "metadata": {},
   "source": [
    "#### `LabelEncoder()` \n",
    "\n",
    "**Create the Encoder Object.**\n",
    "\n",
    "```python\n",
    "from sklearn.preprocessing import LabelEncoder\n",
    "\n",
    "le = LabelEncoder()\n",
    "```\n",
    "\n",
    "**Fit and Transform train dataset and reassign.**\n",
    "\n",
    "```python\n",
    "train['col'] = le.fit_transform(train.col_to_encode)\n",
    "```\n",
    "\n",
    "**Transform validate and test datasets and reassign.**\n",
    "\n",
    "```python\n",
    "validate['col'] = le.transform(validate.col_to_encode)\n",
    "\n",
    "test['col'] = le.transform(test.col_to_encode)\n",
    "```\n",
    "\n",
    "**Decode Your Encoded Column.**\n",
    "\n",
    "```python\n",
    "train['col'] = le.inverse_transform(train.col_to_decode)\n",
    "\n",
    "validate['col'] = le.inverse_transform(validate.col_to_decode)\n",
    "\n",
    "test['col'] = le.inverse_transform(test.col_to_decode)\n",
    "```"
   ]
  },
  {
   "cell_type": "markdown",
   "metadata": {},
   "source": [
    "___"
   ]
  },
  {
   "cell_type": "markdown",
   "metadata": {},
   "source": [
    "#### `OneHotEncoder()`\n",
    "\n",
    "**Create the OHE Object.**\n",
    "\n",
    "```python\n",
    "from sklearn.preprocessing import OneHotEncoder\n",
    "\n",
    "ohe = OneHotEncoder(sparse=False, categories='auto')\n",
    "```\n",
    "\n",
    "**Fit and Transform train to create an array of values.**\n",
    "\n",
    "```python\n",
    "train_matrix = ohe.fit_transform(train[['col']])\n",
    "```\n",
    "\n",
    "**Transform validate and test to create arrays of values.**\n",
    "```python\n",
    "validate_matrix = ohe.transform(validate[['col']])\n",
    "\n",
    "test_matrix = ohe.transform(test[['col']])\n",
    "```\n",
    "\n",
    "**Convert Arrays to dataframes of Encoded Columns.**\n",
    "\n",
    "```python\n",
    "train_ohe = pd.DataFrame(train_matrix, columns=ohe.categories_[0], index=train.index)\n",
    "\n",
    "validate_ohe = pd.DataFrame(validate_matrix, columns=ohe.categories_[0], index=validate.index)\n",
    "\n",
    "test_ohe = pd.DataFrame(test_matrix, columns=ohe.categories_[0], index=test.index)\n",
    "```\n",
    "\n",
    "**Join Your dataframes of Encoded Columns to your original dataframes.**\n",
    "\n",
    "```python\n",
    "train = train.join(train_ohe)\n",
    "\n",
    "validate = validate.join(validate_ohe)\n",
    "\n",
    "test = test.join(test_ohe)\n",
    "```"
   ]
  },
  {
   "cell_type": "markdown",
   "metadata": {},
   "source": [
    "<hr style=\"border-top: 10px groove dodgerblue; margin-top: 1px; margin-bottom: 1px\"></hr>"
   ]
  },
  {
   "cell_type": "markdown",
   "metadata": {},
   "source": [
    "## Exploring"
   ]
  },
  {
   "cell_type": "markdown",
   "metadata": {},
   "source": [
    "<hr style=\"border-top: 10px groove dodgerblue; margin-top: 1px; margin-bottom: 1px\"></hr>"
   ]
  },
  {
   "cell_type": "markdown",
   "metadata": {},
   "source": [
    "![image.png](https://www.cambridgemaths.org/Images/E29-exploratory-data-analysis.jpg)\n",
    "\n",
    "### **<font color=red>What is EDA (Exploratory Data Analysis)?</font>**\n",
    "\n",
    "Exploratory Data Analysis involves learning more about the data you're working with. One reason to perform EDA is to visualize parts of the data to better understand the correlation between the features and the target.\n",
    "\n",
    "**The preparation for your dataset for exploration may not be the same as the prepartion of your dataset for modeling.** The requirements of Machine Learning algorithms do not always overlap with the requirements for good data visualization or exploration."
   ]
  },
  {
   "cell_type": "markdown",
   "metadata": {},
   "source": [
    "___"
   ]
  },
  {
   "cell_type": "markdown",
   "metadata": {},
   "source": [
    "### **<font color=orange>So What Types of Viz are best for exploring categorical vs continuous data?</font>**"
   ]
  },
  {
   "cell_type": "markdown",
   "metadata": {},
   "source": [
    "How do you decide what chart to use? Should you aggregate your data to get a better view? Are you making a comparison or showing a relationship between variables? Do you want to display the distribution or composition of your dataset? These are important questions to ask yourself when deciding on types of chart to use and data aggregations for exploration.\n",
    "\n",
    "Read more about how to choose a chart [here](https://eazybi.com/blog/data_visualization_and_chart_types/).\n",
    "\n",
    "![image](https://www.mymarketresearchmethods.com/wp-content/uploads/2013/01/chart-types-choosing-the-right-one.png)"
   ]
  },
  {
   "cell_type": "markdown",
   "metadata": {},
   "source": [
    "___"
   ]
  },
  {
   "cell_type": "markdown",
   "metadata": {},
   "source": [
    "### <font color=green>Now What?</font>\n",
    "\n",
    "**Below is a collection of some possibilities for exploring categorical and continuous values.** \n",
    "\n",
    "If you want more, check out [this article](https://www.machinelearningplus.com/plots/top-50-matplotlib-visualizations-the-master-plots-python/) showing 50 amazing matplotlib visualizations with code. It's organized by purpose of visualization objective, so it's easy to navigate, too."
   ]
  },
  {
   "cell_type": "markdown",
   "metadata": {},
   "source": [
    "___"
   ]
  },
  {
   "cell_type": "markdown",
   "metadata": {},
   "source": [
    "#### `plt.rc()`\n",
    "\n",
    "Set uniform chart and font sizes at the top of your notebook if you like.\n",
    "\n",
    "```python\n",
    "plt.rc('figure', figsize=(num, num))\n",
    "\n",
    "plt.rc('font', size=num)\n",
    "```"
   ]
  },
  {
   "cell_type": "markdown",
   "metadata": {},
   "source": [
    "___"
   ]
  },
  {
   "cell_type": "markdown",
   "metadata": {},
   "source": [
    "#### `sns.countplot()` subplots\n",
    "\n",
    "Compare Categorical Values in `Embarked`using subplot Barplots."
   ]
  },
  {
   "cell_type": "code",
   "execution_count": 36,
   "metadata": {},
   "outputs": [
    {
     "data": {
      "text/html": [
       "<div>\n",
       "<style scoped>\n",
       "    .dataframe tbody tr th:only-of-type {\n",
       "        vertical-align: middle;\n",
       "    }\n",
       "\n",
       "    .dataframe tbody tr th {\n",
       "        vertical-align: top;\n",
       "    }\n",
       "\n",
       "    .dataframe thead th {\n",
       "        text-align: right;\n",
       "    }\n",
       "</style>\n",
       "<table border=\"1\" class=\"dataframe\">\n",
       "  <thead>\n",
       "    <tr style=\"text-align: right;\">\n",
       "      <th></th>\n",
       "      <th>survived</th>\n",
       "      <th>pclass</th>\n",
       "      <th>sex</th>\n",
       "      <th>age</th>\n",
       "      <th>sibsp</th>\n",
       "      <th>parch</th>\n",
       "      <th>fare</th>\n",
       "      <th>class</th>\n",
       "      <th>embark_town</th>\n",
       "      <th>alone</th>\n",
       "      <th>is_female</th>\n",
       "      <th>Q</th>\n",
       "      <th>S</th>\n",
       "    </tr>\n",
       "  </thead>\n",
       "  <tbody>\n",
       "    <tr>\n",
       "      <th>583</th>\n",
       "      <td>0</td>\n",
       "      <td>1</td>\n",
       "      <td>male</td>\n",
       "      <td>36.0</td>\n",
       "      <td>0</td>\n",
       "      <td>0</td>\n",
       "      <td>40.125</td>\n",
       "      <td>First</td>\n",
       "      <td>Cherbourg</td>\n",
       "      <td>1</td>\n",
       "      <td>0</td>\n",
       "      <td>0</td>\n",
       "      <td>0</td>\n",
       "    </tr>\n",
       "  </tbody>\n",
       "</table>\n",
       "</div>"
      ],
      "text/plain": [
       "     survived  pclass   sex   age  sibsp  parch    fare  class embark_town  \\\n",
       "583         0       1  male  36.0      0      0  40.125  First   Cherbourg   \n",
       "\n",
       "     alone  is_female  Q  S  \n",
       "583      1          0  0  0  "
      ]
     },
     "execution_count": 36,
     "metadata": {},
     "output_type": "execute_result"
    }
   ],
   "source": [
    "train.head(1)"
   ]
  },
  {
   "cell_type": "code",
   "execution_count": 37,
   "metadata": {},
   "outputs": [
    {
     "data": {
      "image/png": "[encoded data removed]",
      "text/plain": [
       "<Figure size 792x648 with 2 Axes>"
      ]
     },
     "metadata": {
      "needs_background": "light"
     },
     "output_type": "display_data"
    }
   ],
   "source": [
    "plt.subplot(211)\n",
    "\n",
    "sns.countplot(x = 'embark_town', data=train, palette='Purples', ec='black', linewidth=2)\n",
    "\n",
    "plt.title('How Does the Embark Town Relate to Passenger Survival Status?')\n",
    "plt.xlabel('')\n",
    "plt.ylabel('')\n",
    "\n",
    "plt.subplot(212)\n",
    "\n",
    "# use hue to add another dimension to your viz\n",
    "sns.countplot(x = 'embark_town', hue = 'survived', data=train, palette='Blues', ec='black', linewidth=2)\n",
    "\n",
    "plt.legend(['Did Not Survive', 'Survived'])\n",
    "\n",
    "plt.show()"
   ]
  },
  {
   "cell_type": "markdown",
   "metadata": {},
   "source": [
    "___"
   ]
  },
  {
   "cell_type": "markdown",
   "metadata": {},
   "source": [
    "#### `sns.boxplot()`\n",
    "\n",
    "Boxplots to show Distribution of Age by Sex and Survival\n",
    "\n",
    "```python\n",
    "sns.boxplot(x='categorical', y='continous', data=train , hue='categorical')\n",
    "```"
   ]
  },
  {
   "cell_type": "code",
   "execution_count": 38,
   "metadata": {},
   "outputs": [
    {
     "data": {
      "image/png": "[encoded data removed]",
      "text/plain": [
       "<Figure size 792x648 with 1 Axes>"
      ]
     },
     "metadata": {
      "needs_background": "light"
     },
     "output_type": "display_data"
    }
   ],
   "source": [
    "sns.boxplot(x='sex', y='age', data=train, hue='survived', palette='Purples', linewidth=2)\n",
    "\n",
    "plt.title('How Do Age and Sex Relate to Survival?')\n",
    "plt.xlabel('')\n",
    "plt.show()"
   ]
  },
  {
   "cell_type": "markdown",
   "metadata": {},
   "source": [
    "___"
   ]
  },
  {
   "cell_type": "markdown",
   "metadata": {},
   "source": [
    "#### `sns.swarmplot()`\n",
    "\n",
    "Swarmplots to show Distribution of a Continuous Variable grouped by Categorical Variables.\n",
    "\n",
    "```python\n",
    "sns.swarmplot(x='categorical', y='continous', data=train , hue='categorical'  )\n",
    "```"
   ]
  },
  {
   "cell_type": "code",
   "execution_count": 39,
   "metadata": {},
   "outputs": [
    {
     "data": {
      "image/png": "[encoded data removed]",
      "text/plain": [
       "<Figure size 792x648 with 1 Axes>"
      ]
     },
     "metadata": {
      "needs_background": "light"
     },
     "output_type": "display_data"
    }
   ],
   "source": [
    "sns.swarmplot(x='sex', y='age', data=train , hue='survived'  )\n",
    "\n",
    "plt.title('How Do Age and Sex Relate to Survival?')\n",
    "plt.xlabel('')\n",
    "plt.show()"
   ]
  },
  {
   "cell_type": "markdown",
   "metadata": {},
   "source": [
    "___"
   ]
  },
  {
   "cell_type": "markdown",
   "metadata": {},
   "source": [
    "#### `sns.violinplot()`\n",
    "\n",
    "Violinplot Similar to Boxplots.\n",
    "\n",
    "```python\n",
    "sns.violinplot(x='categorical', y='continous', data=train , hue='categorical'  )\n",
    "```"
   ]
  },
  {
   "cell_type": "code",
   "execution_count": 40,
   "metadata": {},
   "outputs": [
    {
     "data": {
      "image/png": "[encoded data removed]",
      "text/plain": [
       "<Figure size 792x648 with 1 Axes>"
      ]
     },
     "metadata": {
      "needs_background": "light"
     },
     "output_type": "display_data"
    }
   ],
   "source": [
    "sns.violinplot(x='sex', y='fare', data=train , hue='survived'  )\n",
    "\n",
    "plt.title('How Do Fare and Sex Relate to Survival Status?')\n",
    "plt.xlabel('')\n",
    "plt.ylabel('fare in US $')\n",
    "\n",
    "plt.show()"
   ]
  },
  {
   "cell_type": "markdown",
   "metadata": {},
   "source": [
    "___"
   ]
  },
  {
   "cell_type": "markdown",
   "metadata": {},
   "source": [
    "#### `.hist()` subplots\n",
    "\n",
    "Histogram Subplots to View Distribution of Fare by Survival Status."
   ]
  },
  {
   "cell_type": "code",
   "execution_count": 41,
   "metadata": {},
   "outputs": [
    {
     "data": {
      "image/png": "[encoded data removed]",
      "text/plain": [
       "<Figure size 792x648 with 2 Axes>"
      ]
     },
     "metadata": {
      "needs_background": "light"
     },
     "output_type": "display_data"
    }
   ],
   "source": [
    "# Create figure and axes, 2 rows and 1 column, share x and y axes.\n",
    "fig, (ax1, ax2) = plt.subplots(2, 1, sharex=True, sharey=True)\n",
    "\n",
    "# Plot first histogram from survived subset, fare variable.\n",
    "ax1.hist(train[train.survived == 1].fare, bins=15, \n",
    "         color='dodgerblue', ec='black', linewidth=2)\n",
    "\n",
    "ax1.set(title='Survived', ylabel='US $')\n",
    "\n",
    "# Plot second historgram from did not survive subset, fare variable.\n",
    "ax2.hist(train[train.survived == 0].fare, bins=15, \n",
    "         color='dodgerblue', ec='black', linewidth=2)\n",
    "\n",
    "ax2.set(title='Did Not Survive', xlabel='Fare Price', ylabel='US $')\n",
    "\n",
    "plt.show()"
   ]
  },
  {
   "cell_type": "markdown",
   "metadata": {},
   "source": [
    "___"
   ]
  },
  {
   "cell_type": "markdown",
   "metadata": {},
   "source": [
    "#### `pd.crosstab` with `sns.heatmap()`\n",
    "\n",
    "Crosstab with Heatmap to Group Variables and Visualize Correlations."
   ]
  },
  {
   "cell_type": "code",
   "execution_count": 42,
   "metadata": {},
   "outputs": [
    {
     "data": {
      "image/png": "[encoded data removed]",
      "text/plain": [
       "<Figure size 792x648 with 2 Axes>"
      ]
     },
     "metadata": {
      "needs_background": "light"
     },
     "output_type": "display_data"
    }
   ],
   "source": [
    "# Create crosstab with raw values.\n",
    "ctab = pd.crosstab(train.survived, train['class'])\n",
    "\n",
    "# Use crosstab object in a heatmap to visualize values.\n",
    "sns.heatmap(ctab, annot=True, cmap='Greens', fmt='d')\n",
    "\n",
    "plt.title('Class X Survived')\n",
    "plt.ylabel('')\n",
    "\n",
    "# Change labels for y-tick marks.\n",
    "locs, labels = plt.yticks()\n",
    "plt.yticks(locs, ('Died', 'Survived'))\n",
    "\n",
    "plt.show()"
   ]
  },
  {
   "cell_type": "markdown",
   "metadata": {},
   "source": [
    "**Inspect percentages of overall population**"
   ]
  },
  {
   "cell_type": "code",
   "execution_count": 43,
   "metadata": {},
   "outputs": [
    {
     "data": {
      "image/png": "[encoded data removed]",
      "text/plain": [
       "<Figure size 792x648 with 2 Axes>"
      ]
     },
     "metadata": {
      "needs_background": "light"
     },
     "output_type": "display_data"
    }
   ],
   "source": [
    "# Create crosstab with values as percentages of overall population\n",
    "ctab = pd.crosstab(train.survived, train['class'], normalize=True)\n",
    "\n",
    "# Use crosstab object in a heatmap to visualize values.\n",
    "sns.heatmap(ctab, annot=True, cmap='Greens', fmt='.2%')\n",
    "\n",
    "plt.title('Class X Survived %')\n",
    "plt.ylabel('')\n",
    "\n",
    "# Change labels for y-tick marks.\n",
    "locs, labels = plt.yticks()\n",
    "plt.yticks(locs, ('Died', 'Survived'))\n",
    "\n",
    "\n",
    "plt.show()"
   ]
  },
  {
   "cell_type": "markdown",
   "metadata": {},
   "source": [
    "___"
   ]
  },
  {
   "cell_type": "markdown",
   "metadata": {},
   "source": [
    "### `.groupby()`\n",
    "\n",
    "**Use a Groupby to Explore Different Aggregations of Your Data.**\n",
    "\n",
    "The `.groupby()` here creates a Series with an index containing the categories present in the `Survived` column and the average fare price for each index category. \n",
    "\n",
    ">To inspect percentages by group, set `normalize=True`."
   ]
  },
  {
   "cell_type": "code",
   "execution_count": 44,
   "metadata": {},
   "outputs": [
    {
     "data": {
      "text/plain": [
       "survived\n",
       "0    22.953323\n",
       "1    44.272688\n",
       "Name: fare, dtype: float64"
      ]
     },
     "execution_count": 44,
     "metadata": {},
     "output_type": "execute_result"
    }
   ],
   "source": [
    "train.groupby('survived').fare.mean()"
   ]
  },
  {
   "cell_type": "markdown",
   "metadata": {},
   "source": [
    "**Adding `.plot(kind='barh')` turns the index of your groupby into ylabels and the values into bar lengths.**"
   ]
  },
  {
   "cell_type": "code",
   "execution_count": 45,
   "metadata": {},
   "outputs": [
    {
     "data": {
      "image/png": "[encoded data removed]",
      "text/plain": [
       "<Figure size 792x648 with 1 Axes>"
      ]
     },
     "metadata": {
      "needs_background": "light"
     },
     "output_type": "display_data"
    }
   ],
   "source": [
    "# Plot your groupby object quickly.\n",
    "train.groupby('survived').fare.mean().plot(kind='barh', color='thistle', ec='black')\n",
    "\n",
    "plt.title('What Was the Average Fare Paid by Survival Status?')\n",
    "\n",
    "locs, labels = plt.yticks()\n",
    "plt.yticks(locs, ('Died', 'Survived'))\n",
    "plt.ylabel('')\n",
    "plt.xlabel('US $')\n",
    "\n",
    "plt.show()"
   ]
  },
  {
   "cell_type": "markdown",
   "metadata": {},
   "source": [
    "___"
   ]
  },
  {
   "cell_type": "markdown",
   "metadata": {},
   "source": [
    "**Below is such a useful code snippet to put in your back pocket!**"
   ]
  },
  {
   "cell_type": "code",
   "execution_count": 46,
   "metadata": {},
   "outputs": [
    {
     "data": {
      "image/png": "[encoded data removed]",
      "text/plain": [
       "<Figure size 792x648 with 1 Axes>"
      ]
     },
     "metadata": {
      "needs_background": "light"
     },
     "output_type": "display_data"
    }
   ],
   "source": [
    "# custom aggregate to get value counts by group\n",
    "(\n",
    "train.groupby('embark_town')['class']\n",
    "\n",
    "# turn an index into columns and create bar plot\n",
    "    .apply(lambda s: s.value_counts(normalize=True))  \n",
    "    .unstack()                                        \n",
    "    .plot.bar(stacked=True, \n",
    "              width=.9, \n",
    "              color=['firebrick', 'dodgerblue', 'orange'], \n",
    "              ec='black')                 \n",
    ")\n",
    "\n",
    "plt.title('What was the passenger class breakdown by embark town?')\n",
    "\n",
    "plt.xticks(rotation=9)\n",
    "plt.xlabel('Embark Towns')\n",
    "plt.ylabel('Percent')\n",
    "\n",
    "plt.legend(title='Pclass')\n",
    "\n",
    "plt.show()"
   ]
  },
  {
   "cell_type": "markdown",
   "metadata": {},
   "source": [
    "___"
   ]
  },
  {
   "cell_type": "code",
   "execution_count": 47,
   "metadata": {},
   "outputs": [
    {
     "data": {
      "image/png": "[encoded data removed]",
      "text/plain": [
       "<Figure size 792x648 with 1 Axes>"
      ]
     },
     "metadata": {
      "needs_background": "light"
     },
     "output_type": "display_data"
    }
   ],
   "source": [
    "train.groupby('sex').survived.mean().plot.bar(ec='black', fc='dodgerblue', width=.9)\n",
    "\n",
    "# plt.hlines(height, starts, ends) (is like y, xmin, xmax)\n",
    "plt.hlines(train.survived.mean(), *plt.xlim(), ls='--', color='grey', label='average survival rate')\n",
    "\n",
    "plt.xticks(rotation=0)\n",
    "plt.xlabel('')\n",
    "plt.ylabel('Survival Rate')\n",
    "\n",
    "plt.title('Survival Rate by Sex')\n",
    "plt.legend()\n",
    "plt.show()"
   ]
  },
  {
   "cell_type": "markdown",
   "metadata": {},
   "source": [
    "___"
   ]
  },
  {
   "cell_type": "markdown",
   "metadata": {},
   "source": [
    "### `pd.crosstab()` and `pd.pivot_table()` with `sns.heatmap()`\n",
    "\n",
    "Exploring 2 Different Categorical Values"
   ]
  },
  {
   "cell_type": "code",
   "execution_count": 48,
   "metadata": {},
   "outputs": [
    {
     "data": {
      "image/png": "[encoded data removed]",
      "text/plain": [
       "<Figure size 792x648 with 2 Axes>"
      ]
     },
     "metadata": {
      "needs_background": "light"
     },
     "output_type": "display_data"
    }
   ],
   "source": [
    "train.groupby(['class', 'sex']).survived.mean()\n",
    "\n",
    "ctab = pd.crosstab(train['class'], train.sex, values=train.survived, aggfunc='mean')\n",
    "sns.heatmap(ctab, annot=True, cmap='Purples', fmt='.1%')\n",
    "\n",
    "plt.title('What was the passenger class makeup by sex?')\n",
    "plt.xlabel('')\n",
    "\n",
    "plt.show()"
   ]
  },
  {
   "cell_type": "markdown",
   "metadata": {},
   "source": [
    "OR\n",
    "```python\n",
    "       df.pivot_table(values,  rows,   columns)\n",
    " ```"
   ]
  },
  {
   "cell_type": "code",
   "execution_count": 49,
   "metadata": {},
   "outputs": [
    {
     "data": {
      "text/html": [
       "<div>\n",
       "<style scoped>\n",
       "    .dataframe tbody tr th:only-of-type {\n",
       "        vertical-align: middle;\n",
       "    }\n",
       "\n",
       "    .dataframe tbody tr th {\n",
       "        vertical-align: top;\n",
       "    }\n",
       "\n",
       "    .dataframe thead th {\n",
       "        text-align: right;\n",
       "    }\n",
       "</style>\n",
       "<table border=\"1\" class=\"dataframe\">\n",
       "  <thead>\n",
       "    <tr style=\"text-align: right;\">\n",
       "      <th>sex</th>\n",
       "      <th>female</th>\n",
       "      <th>male</th>\n",
       "    </tr>\n",
       "    <tr>\n",
       "      <th>class</th>\n",
       "      <th></th>\n",
       "      <th></th>\n",
       "    </tr>\n",
       "  </thead>\n",
       "  <tbody>\n",
       "    <tr>\n",
       "      <th>First</th>\n",
       "      <td>0.958333</td>\n",
       "      <td>0.362319</td>\n",
       "    </tr>\n",
       "    <tr>\n",
       "      <th>Second</th>\n",
       "      <td>0.956522</td>\n",
       "      <td>0.181818</td>\n",
       "    </tr>\n",
       "    <tr>\n",
       "      <th>Third</th>\n",
       "      <td>0.530864</td>\n",
       "      <td>0.111702</td>\n",
       "    </tr>\n",
       "  </tbody>\n",
       "</table>\n",
       "</div>"
      ],
      "text/plain": [
       "sex       female      male\n",
       "class                     \n",
       "First   0.958333  0.362319\n",
       "Second  0.956522  0.181818\n",
       "Third   0.530864  0.111702"
      ]
     },
     "execution_count": 49,
     "metadata": {},
     "output_type": "execute_result"
    }
   ],
   "source": [
    "table = train.pivot_table('survived', 'class', 'sex')\n",
    "table"
   ]
  },
  {
   "cell_type": "code",
   "execution_count": 50,
   "metadata": {},
   "outputs": [
    {
     "data": {
      "image/png": "[encoded data removed]",
      "text/plain": [
       "<Figure size 792x648 with 2 Axes>"
      ]
     },
     "metadata": {
      "needs_background": "light"
     },
     "output_type": "display_data"
    }
   ],
   "source": [
    "sns.heatmap(table, annot=True, cmap='Blues', fmt='.1%')\n",
    "\n",
    "plt.title('What was the passenger class makeup by sex?')\n",
    "plt.xlabel('')\n",
    "\n",
    "plt.show()"
   ]
  },
  {
   "cell_type": "markdown",
   "metadata": {},
   "source": [
    "___"
   ]
  },
  {
   "cell_type": "markdown",
   "metadata": {},
   "source": [
    "#### `pd.cut()` and `pd.qcut()`\n",
    "\n",
    "**I can use binning for exploration.** \n",
    "\n",
    "```python\n",
    "# for even intervals but not evenly distributed values in each bin\n",
    "pd.cut(df.column, bins=[], labels=[])   \n",
    "\n",
    "# for even number of observations in each interval\n",
    "pd.qcut(df.column, bins=[], labels=[])\n",
    "```\n",
    "\n",
    "Here I turn a continuous variable into a categorical one for visiualizing."
   ]
  },
  {
   "cell_type": "code",
   "execution_count": 51,
   "metadata": {},
   "outputs": [
    {
     "data": {
      "text/html": [
       "<div>\n",
       "<style scoped>\n",
       "    .dataframe tbody tr th:only-of-type {\n",
       "        vertical-align: middle;\n",
       "    }\n",
       "\n",
       "    .dataframe tbody tr th {\n",
       "        vertical-align: top;\n",
       "    }\n",
       "\n",
       "    .dataframe thead th {\n",
       "        text-align: right;\n",
       "    }\n",
       "</style>\n",
       "<table border=\"1\" class=\"dataframe\">\n",
       "  <thead>\n",
       "    <tr style=\"text-align: right;\">\n",
       "      <th></th>\n",
       "      <th>survived</th>\n",
       "      <th>pclass</th>\n",
       "      <th>sex</th>\n",
       "      <th>age</th>\n",
       "      <th>sibsp</th>\n",
       "      <th>parch</th>\n",
       "      <th>fare</th>\n",
       "      <th>class</th>\n",
       "      <th>embark_town</th>\n",
       "      <th>alone</th>\n",
       "      <th>is_female</th>\n",
       "      <th>Q</th>\n",
       "      <th>S</th>\n",
       "      <th>age_group</th>\n",
       "    </tr>\n",
       "  </thead>\n",
       "  <tbody>\n",
       "    <tr>\n",
       "      <th>583</th>\n",
       "      <td>0</td>\n",
       "      <td>1</td>\n",
       "      <td>male</td>\n",
       "      <td>36.000000</td>\n",
       "      <td>0</td>\n",
       "      <td>0</td>\n",
       "      <td>40.1250</td>\n",
       "      <td>First</td>\n",
       "      <td>Cherbourg</td>\n",
       "      <td>1</td>\n",
       "      <td>0</td>\n",
       "      <td>0</td>\n",
       "      <td>0</td>\n",
       "      <td>adult</td>\n",
       "    </tr>\n",
       "    <tr>\n",
       "      <th>165</th>\n",
       "      <td>1</td>\n",
       "      <td>3</td>\n",
       "      <td>male</td>\n",
       "      <td>9.000000</td>\n",
       "      <td>0</td>\n",
       "      <td>2</td>\n",
       "      <td>20.5250</td>\n",
       "      <td>Third</td>\n",
       "      <td>Southampton</td>\n",
       "      <td>0</td>\n",
       "      <td>0</td>\n",
       "      <td>0</td>\n",
       "      <td>1</td>\n",
       "      <td>child</td>\n",
       "    </tr>\n",
       "    <tr>\n",
       "      <th>50</th>\n",
       "      <td>0</td>\n",
       "      <td>3</td>\n",
       "      <td>male</td>\n",
       "      <td>7.000000</td>\n",
       "      <td>4</td>\n",
       "      <td>1</td>\n",
       "      <td>39.6875</td>\n",
       "      <td>Third</td>\n",
       "      <td>Southampton</td>\n",
       "      <td>0</td>\n",
       "      <td>0</td>\n",
       "      <td>0</td>\n",
       "      <td>1</td>\n",
       "      <td>child</td>\n",
       "    </tr>\n",
       "    <tr>\n",
       "      <th>259</th>\n",
       "      <td>1</td>\n",
       "      <td>2</td>\n",
       "      <td>female</td>\n",
       "      <td>50.000000</td>\n",
       "      <td>0</td>\n",
       "      <td>1</td>\n",
       "      <td>26.0000</td>\n",
       "      <td>Second</td>\n",
       "      <td>Southampton</td>\n",
       "      <td>0</td>\n",
       "      <td>1</td>\n",
       "      <td>0</td>\n",
       "      <td>1</td>\n",
       "      <td>adult</td>\n",
       "    </tr>\n",
       "    <tr>\n",
       "      <th>306</th>\n",
       "      <td>1</td>\n",
       "      <td>1</td>\n",
       "      <td>female</td>\n",
       "      <td>29.678105</td>\n",
       "      <td>0</td>\n",
       "      <td>0</td>\n",
       "      <td>110.8833</td>\n",
       "      <td>First</td>\n",
       "      <td>Cherbourg</td>\n",
       "      <td>1</td>\n",
       "      <td>1</td>\n",
       "      <td>0</td>\n",
       "      <td>0</td>\n",
       "      <td>adult</td>\n",
       "    </tr>\n",
       "  </tbody>\n",
       "</table>\n",
       "</div>"
      ],
      "text/plain": [
       "     survived  pclass     sex        age  sibsp  parch      fare   class  \\\n",
       "583         0       1    male  36.000000      0      0   40.1250   First   \n",
       "165         1       3    male   9.000000      0      2   20.5250   Third   \n",
       "50          0       3    male   7.000000      4      1   39.6875   Third   \n",
       "259         1       2  female  50.000000      0      1   26.0000  Second   \n",
       "306         1       1  female  29.678105      0      0  110.8833   First   \n",
       "\n",
       "     embark_town  alone  is_female  Q  S age_group  \n",
       "583    Cherbourg      1          0  0  0     adult  \n",
       "165  Southampton      0          0  0  1     child  \n",
       "50   Southampton      0          0  0  1     child  \n",
       "259  Southampton      0          1  0  1     adult  \n",
       "306    Cherbourg      1          1  0  0     adult  "
      ]
     },
     "execution_count": 51,
     "metadata": {},
     "output_type": "execute_result"
    }
   ],
   "source": [
    "# splits age into 2 bins, 0-12 and 13-80\n",
    "\n",
    "train['age_group'] = pd.cut(train.age, bins = [0, 12, 80], labels=['child', 'adult'])\n",
    "train.head()"
   ]
  },
  {
   "cell_type": "code",
   "execution_count": 52,
   "metadata": {},
   "outputs": [
    {
     "data": {
      "text/plain": [
       "age_group  survived\n",
       "child      1           0.542857\n",
       "           0           0.457143\n",
       "adult      0           0.628510\n",
       "           1           0.371490\n",
       "Name: survived, dtype: float64"
      ]
     },
     "execution_count": 52,
     "metadata": {},
     "output_type": "execute_result"
    }
   ],
   "source": [
    "# inspect survival rate of children and adults\n",
    "\n",
    "train.groupby('age_group').survived.value_counts(normalize=True)"
   ]
  },
  {
   "cell_type": "code",
   "execution_count": 53,
   "metadata": {},
   "outputs": [
    {
     "data": {
      "image/png": "[encoded data removed]",
      "text/plain": [
       "<Figure size 792x648 with 1 Axes>"
      ]
     },
     "metadata": {
      "needs_background": "light"
     },
     "output_type": "display_data"
    }
   ],
   "source": [
    "# visualize the above code\n",
    "\n",
    "train.groupby('age_group').survived.value_counts(normalize=True).plot(kind='barh')\n",
    "\n",
    "plt.title('This is a quick look exploration chart, not a chart for a presentation!')\n",
    "plt.xlabel('Frequency')\n",
    "plt.show()"
   ]
  },
  {
   "cell_type": "markdown",
   "metadata": {},
   "source": [
    "<div class=\"alert alert-block alert-warning\"><b>Remember: </b>If I want to use this new feature in modeling, I have to perform this same manipulation from above on both validate and test. If I were going to do this, I would build these into my prepare function. If I don't, when I drop this column before modeling, I only need to drop it from my train dataset.</div>"
   ]
  },
  {
   "cell_type": "markdown",
   "metadata": {},
   "source": [
    "___"
   ]
  },
  {
   "cell_type": "markdown",
   "metadata": {},
   "source": [
    "**There's some pretty cool EDA code and explanation in [this article.](https://towardsdatascience.com/exploratory-data-analysis-for-linear-regression-classification-8a27da23debc) Check it out!**\n",
    "\n",
    "**Here are the official matplotlib [tutorials](https://matplotlib.org/3.1.1/tutorials/index.html#introductory)**"
   ]
  },
  {
   "cell_type": "markdown",
   "metadata": {},
   "source": [
    "___"
   ]
  },
  {
   "cell_type": "markdown",
   "metadata": {},
   "source": [
    "#### Subplots Using Simple pyplot Code\n",
    "\n",
    "```python\n",
    "# figure 1 of 2; everything up until the next subplot is on the first plot\n",
    "plt.subplot(211) \n",
    "\n",
    "plt.plot(x, y)\n",
    "\n",
    "plt.show()\n",
    "\n",
    "# figure 2 of 2\n",
    "plt.subplot(212)\n",
    "\n",
    "plt.plot(y, x)\n",
    "\n",
    "plt.show()\n",
    "```"
   ]
  },
  {
   "cell_type": "markdown",
   "metadata": {},
   "source": [
    "___"
   ]
  },
  {
   "cell_type": "markdown",
   "metadata": {},
   "source": [
    "#### Subplots Using Matplotlib Object-Oriented API\n",
    "\n",
    "A figure in matplotlib is divided into two different objects:\n",
    "\n",
    "- The Figure Class: It can contain one or more axes objects.\n",
    "\n",
    "- The Axes Object: It represents one plot inside of a figure object.\n",
    "\n",
    "```python\n",
    "# create figure and axes -> subplots(nrows, ncols)\n",
    "\n",
    "fig, axes = plt.subplots(2,1)\n",
    "\n",
    "# plot 1 of 2\n",
    "axes[0].plot(x, y)\n",
    "\n",
    "# set components of axes 1/plot 1\n",
    "axes[0].set(title='My Title')\n",
    "\n",
    "# plot 2 of 2\n",
    "axes[1].plot(y, x)\n",
    "\n",
    "# set components of axes 2/plot 2\n",
    "axes[1].set(title='My Title')\n",
    "\n",
    "# manipulate labels of x-ticks\n",
    "axes[1].set_xticklabels()\n",
    "\n",
    "# auto-adjust layout\n",
    "fig.tight_layout()\n",
    "```"
   ]
  },
  {
   "cell_type": "markdown",
   "metadata": {},
   "source": [
    "___"
   ]
  },
  {
   "cell_type": "markdown",
   "metadata": {},
   "source": [
    "**Glossary for Matplotlib Figures**"
   ]
  },
  {
   "cell_type": "code",
   "execution_count": 54,
   "metadata": {},
   "outputs": [
    {
     "data": {
      "image/png": "[encoded data removed]",
      "text/plain": [
       "<Figure size 576x576 with 1 Axes>"
      ]
     },
     "metadata": {
      "needs_background": "light"
     },
     "output_type": "display_data"
    }
   ],
   "source": [
    "anatomy_of_a_figure()"
   ]
  },
  {
   "cell_type": "markdown",
   "metadata": {},
   "source": [
    "___"
   ]
  },
  {
   "cell_type": "markdown",
   "metadata": {},
   "source": [
    "**I'm ready to build my first model; I'm going to build a simple MVP Logistic Regression Model and see if I can beat my baseline accuracy.**"
   ]
  },
  {
   "cell_type": "markdown",
   "metadata": {},
   "source": [
    "<hr style=\"border-top: 10px groove crimson; margin-top: 1px; margin-bottom: 1px\"></hr>"
   ]
  },
  {
   "cell_type": "markdown",
   "metadata": {},
   "source": [
    "## Modeling"
   ]
  },
  {
   "cell_type": "markdown",
   "metadata": {},
   "source": [
    "<hr style=\"border-top: 10px groove crimson; margin-top: 1px; margin-bottom: 1px\"></hr>"
   ]
  },
  {
   "cell_type": "markdown",
   "metadata": {},
   "source": [
    "### <font color=red>What is a Logistic Regression Model?</font>"
   ]
  },
  {
   "cell_type": "markdown",
   "metadata": {},
   "source": [
    "- **A Logistic Regression Model** maps any real value into a number between 0 and 1 representing the probability that an observation is in the positive class.\n",
    "\n",
    "- **Overall**, makes a great baseline model because of the quick and easy implementation and ease of interpretation.\n",
    "\n",
    "- **Pros:** Easy to interpret, fast to train and predict making this a great first classification model to try.\n",
    "\n",
    "- **Cons:** Not as interpretable as showing a picture like a Decision Tree Classifier, assumption that the X predictors are independent, multi-class classification gets more complicated to interpret and explain"
   ]
  },
  {
   "cell_type": "markdown",
   "metadata": {},
   "source": [
    "___"
   ]
  },
  {
   "cell_type": "markdown",
   "metadata": {},
   "source": [
    "### <font color=orange>So What?</font>\n",
    "\n",
    "- Both Scikit-Learn and Statsmodels can be used to create and evaluate Logistic Regression Classifiers.\n",
    "\n",
    "\n",
    "- When we have a multiclass classifier, the coefficients of the X variables can inform us of their importance. \n",
    "\n",
    "\n",
    "- Our predictions are a number between 0 and 1 informing us of the probability that an observation is in the positive class.\n",
    "\n",
    "\n",
    "- We can set a threshold to 'snap' our probabilities to a 0 or 1, not a member of our positive class or member of the positive class respectively.\n",
    "\n",
    "\n",
    "- As you decrease your threshold, the Recall of your model increases. This is a good idea when you want to decrease your Type II errors or False Negatives. When it's more costly to miss a positive, you might decrease your threshold a bit.\n",
    "\n",
    "\n",
    "- As you increase your threshold, the Precision of your model increases. This is a good idea when you want to decrease your Type I errors or False Positives. When it's more costly to falsely identify an observation as a positive case that is actually a negative case, you might want to increase your threshold a bit."
   ]
  },
  {
   "cell_type": "markdown",
   "metadata": {},
   "source": [
    "___"
   ]
  },
  {
   "cell_type": "markdown",
   "metadata": {},
   "source": [
    "### <font color=green>Now What?</font>\n",
    "\n",
    "Now I need to create a Baseline to compare my models to. Then, I'll create my first Logistic Regression Model; if its accuracy is better than my baseline, then I'll evaulate it."
   ]
  },
  {
   "cell_type": "markdown",
   "metadata": {},
   "source": [
    "___"
   ]
  },
  {
   "cell_type": "markdown",
   "metadata": {},
   "source": [
    "### Baseline \n",
    "\n",
    "**Predicting the most common case for everything.**\n",
    "\n",
    "62% of the observations did not survive. So, if you predict all of your observations did not survive, your baseline will predict its target correctly 62% of the time, or in other words, **your baseline accuracy is 62%.** If your model doesn't predict correctly more than 62% of the time, your model doesn't add value."
   ]
  },
  {
   "cell_type": "code",
   "execution_count": 55,
   "metadata": {},
   "outputs": [
    {
     "data": {
      "text/plain": [
       "0    0.616466\n",
       "1    0.383534\n",
       "Name: survived, dtype: float64"
      ]
     },
     "execution_count": 55,
     "metadata": {},
     "output_type": "execute_result"
    }
   ],
   "source": [
    "train.survived.value_counts(normalize=True)"
   ]
  },
  {
   "cell_type": "markdown",
   "metadata": {},
   "source": [
    "___"
   ]
  },
  {
   "cell_type": "markdown",
   "metadata": {},
   "source": [
    "#### Define X and y"
   ]
  },
  {
   "cell_type": "code",
   "execution_count": 56,
   "metadata": {},
   "outputs": [
    {
     "data": {
      "text/html": [
       "<div>\n",
       "<style scoped>\n",
       "    .dataframe tbody tr th:only-of-type {\n",
       "        vertical-align: middle;\n",
       "    }\n",
       "\n",
       "    .dataframe tbody tr th {\n",
       "        vertical-align: top;\n",
       "    }\n",
       "\n",
       "    .dataframe thead th {\n",
       "        text-align: right;\n",
       "    }\n",
       "</style>\n",
       "<table border=\"1\" class=\"dataframe\">\n",
       "  <thead>\n",
       "    <tr style=\"text-align: right;\">\n",
       "      <th></th>\n",
       "      <th>survived</th>\n",
       "      <th>pclass</th>\n",
       "      <th>sex</th>\n",
       "      <th>age</th>\n",
       "      <th>sibsp</th>\n",
       "      <th>parch</th>\n",
       "      <th>fare</th>\n",
       "      <th>class</th>\n",
       "      <th>embark_town</th>\n",
       "      <th>alone</th>\n",
       "      <th>is_female</th>\n",
       "      <th>Q</th>\n",
       "      <th>S</th>\n",
       "      <th>age_group</th>\n",
       "    </tr>\n",
       "  </thead>\n",
       "  <tbody>\n",
       "    <tr>\n",
       "      <th>583</th>\n",
       "      <td>0</td>\n",
       "      <td>1</td>\n",
       "      <td>male</td>\n",
       "      <td>36.0</td>\n",
       "      <td>0</td>\n",
       "      <td>0</td>\n",
       "      <td>40.125</td>\n",
       "      <td>First</td>\n",
       "      <td>Cherbourg</td>\n",
       "      <td>1</td>\n",
       "      <td>0</td>\n",
       "      <td>0</td>\n",
       "      <td>0</td>\n",
       "      <td>adult</td>\n",
       "    </tr>\n",
       "  </tbody>\n",
       "</table>\n",
       "</div>"
      ],
      "text/plain": [
       "     survived  pclass   sex   age  sibsp  parch    fare  class embark_town  \\\n",
       "583         0       1  male  36.0      0      0  40.125  First   Cherbourg   \n",
       "\n",
       "     alone  is_female  Q  S age_group  \n",
       "583      1          0  0  0     adult  "
      ]
     },
     "execution_count": 56,
     "metadata": {},
     "output_type": "execute_result"
    }
   ],
   "source": [
    "# I will decide here what my X variables will be; my y is `survived`, my target.\n",
    "\n",
    "train.head(1)"
   ]
  },
  {
   "cell_type": "code",
   "execution_count": 57,
   "metadata": {},
   "outputs": [],
   "source": [
    "# I will drop any remaining categorical features I have left.\n",
    "\n",
    "X_train = train.drop(columns=['survived', 'sex', 'class', 'embark_town', 'age_group'])\n",
    "y_train = train[['survived']]\n",
    "\n",
    "X_validate = validate.drop(columns=['survived','sex', 'class', 'embark_town'])\n",
    "y_validate = validate[['survived']]\n",
    "\n",
    "X_test = test.drop(columns=['survived','sex', 'class', 'embark_town'])\n",
    "y_test = test[['survived']]"
   ]
  },
  {
   "cell_type": "code",
   "execution_count": 58,
   "metadata": {},
   "outputs": [
    {
     "data": {
      "text/html": [
       "<div>\n",
       "<style scoped>\n",
       "    .dataframe tbody tr th:only-of-type {\n",
       "        vertical-align: middle;\n",
       "    }\n",
       "\n",
       "    .dataframe tbody tr th {\n",
       "        vertical-align: top;\n",
       "    }\n",
       "\n",
       "    .dataframe thead th {\n",
       "        text-align: right;\n",
       "    }\n",
       "</style>\n",
       "<table border=\"1\" class=\"dataframe\">\n",
       "  <thead>\n",
       "    <tr style=\"text-align: right;\">\n",
       "      <th></th>\n",
       "      <th>pclass</th>\n",
       "      <th>age</th>\n",
       "      <th>sibsp</th>\n",
       "      <th>parch</th>\n",
       "      <th>fare</th>\n",
       "      <th>alone</th>\n",
       "      <th>is_female</th>\n",
       "      <th>Q</th>\n",
       "      <th>S</th>\n",
       "    </tr>\n",
       "  </thead>\n",
       "  <tbody>\n",
       "    <tr>\n",
       "      <th>583</th>\n",
       "      <td>1</td>\n",
       "      <td>36.0</td>\n",
       "      <td>0</td>\n",
       "      <td>0</td>\n",
       "      <td>40.125</td>\n",
       "      <td>1</td>\n",
       "      <td>0</td>\n",
       "      <td>0</td>\n",
       "      <td>0</td>\n",
       "    </tr>\n",
       "  </tbody>\n",
       "</table>\n",
       "</div>"
      ],
      "text/plain": [
       "     pclass   age  sibsp  parch    fare  alone  is_female  Q  S\n",
       "583       1  36.0      0      0  40.125      1          0  0  0"
      ]
     },
     "execution_count": 58,
     "metadata": {},
     "output_type": "execute_result"
    }
   ],
   "source": [
    "# One last check of my data; all of my columns need to be numeric\n",
    "\n",
    "X_train.head(1)"
   ]
  },
  {
   "cell_type": "code",
   "execution_count": 59,
   "metadata": {},
   "outputs": [
    {
     "data": {
      "text/html": [
       "<div>\n",
       "<style scoped>\n",
       "    .dataframe tbody tr th:only-of-type {\n",
       "        vertical-align: middle;\n",
       "    }\n",
       "\n",
       "    .dataframe tbody tr th {\n",
       "        vertical-align: top;\n",
       "    }\n",
       "\n",
       "    .dataframe thead th {\n",
       "        text-align: right;\n",
       "    }\n",
       "</style>\n",
       "<table border=\"1\" class=\"dataframe\">\n",
       "  <thead>\n",
       "    <tr style=\"text-align: right;\">\n",
       "      <th></th>\n",
       "      <th>survived</th>\n",
       "    </tr>\n",
       "  </thead>\n",
       "  <tbody>\n",
       "    <tr>\n",
       "      <th>583</th>\n",
       "      <td>0</td>\n",
       "    </tr>\n",
       "  </tbody>\n",
       "</table>\n",
       "</div>"
      ],
      "text/plain": [
       "     survived\n",
       "583         0"
      ]
     },
     "execution_count": 59,
     "metadata": {},
     "output_type": "execute_result"
    }
   ],
   "source": [
    "# This is my target variable, my label.\n",
    "\n",
    "y_train.head(1)"
   ]
  },
  {
   "cell_type": "markdown",
   "metadata": {},
   "source": [
    "___"
   ]
  },
  {
   "cell_type": "markdown",
   "metadata": {},
   "source": [
    "### Create Logistic Regression Model"
   ]
  },
  {
   "cell_type": "code",
   "execution_count": 60,
   "metadata": {},
   "outputs": [],
   "source": [
    "# Create a simple Logistic Regression model to start.\n",
    "\n",
    "logit = LogisticRegression(random_state=123)"
   ]
  },
  {
   "cell_type": "markdown",
   "metadata": {},
   "source": [
    "##### Fit the Logistic Regression Model"
   ]
  },
  {
   "cell_type": "code",
   "execution_count": 61,
   "metadata": {},
   "outputs": [
    {
     "data": {
      "text/plain": [
       "LogisticRegression(C=1.0, class_weight=None, dual=False, fit_intercept=True,\n",
       "                   intercept_scaling=1, l1_ratio=None, max_iter=100,\n",
       "                   multi_class='auto', n_jobs=None, penalty='l2',\n",
       "                   random_state=123, solver='lbfgs', tol=0.0001, verbose=0,\n",
       "                   warm_start=False)"
      ]
     },
     "execution_count": 61,
     "metadata": {},
     "output_type": "execute_result"
    }
   ],
   "source": [
    "logit.fit(X_train, y_train)"
   ]
  },
  {
   "cell_type": "markdown",
   "metadata": {},
   "source": [
    "##### Print the coefficients and intercept of the model"
   ]
  },
  {
   "cell_type": "code",
   "execution_count": 62,
   "metadata": {},
   "outputs": [
    {
     "name": "stdout",
     "output_type": "stream",
     "text": [
      "Columns: Index(['pclass', 'age', 'sibsp', 'parch', 'fare', 'alone', 'is_female', 'Q',\n",
      "       'S'],\n",
      "      dtype='object')\n",
      "\n",
      "Coefficient: [[-1.18971499e+00 -3.56146280e-02 -5.18819408e-01 -1.48130530e-01\n",
      "  -9.39922926e-04 -6.59951184e-01  2.72614345e+00  7.89591377e-01\n",
      "   7.16839055e-02]]\n",
      "\n",
      "Intercept: [2.79501842]\n",
      "\n"
     ]
    }
   ],
   "source": [
    "print(f'Columns: {X_train.columns}\\n')\n",
    "print(f'Coefficient: {logit.coef_}\\n')\n",
    "print(f'Intercept: {logit.intercept_}\\n')"
   ]
  },
  {
   "cell_type": "markdown",
   "metadata": {},
   "source": [
    "<hr style=\"border-top: 10px groove darkviolet; margin-top: 1px; margin-bottom: 1px\"></hr>"
   ]
  },
  {
   "cell_type": "markdown",
   "metadata": {},
   "source": [
    "## Evaluating"
   ]
  },
  {
   "cell_type": "markdown",
   "metadata": {},
   "source": [
    "<hr style=\"border-top: 10px groove darkviolet; margin-top: 1px; margin-bottom: 1px\"></hr>"
   ]
  },
  {
   "cell_type": "markdown",
   "metadata": {},
   "source": [
    "### **<font color=red>What Are Evaluation Metrics for Classification Models?</font>**\n",
    "\n",
    "There are different metrics we can use to understand how well our classification model is predicting. Context will guide you toward the most valuable metric for your particular situation.\n",
    "\n",
    "![image.png](https://i.stack.imgur.com/LIWH1.jpg)\n",
    "\n",
    "----"
   ]
  },
  {
   "cell_type": "markdown",
   "metadata": {},
   "source": [
    ">**Accuracy:** This tells you how often your classifier is **predicting correctly overall**. \n",
    "\n",
    "This is the ratio of all of your correct predictions over all of your observations. \n",
    "\n",
    "(Total Number Correct / Total Number of Data Points) -> (TP + TN / TP + TN + FP + FN)\n",
    "\n",
    "----"
   ]
  },
  {
   "cell_type": "markdown",
   "metadata": {},
   "source": [
    ">**Recall:** The Recall score (**True Positive Rate or Sensitivity**) tells you how often your classifier is catching the positive cases in your dataset. It describes how good the model is at predicting the positive class when the actual outcome is positive. In other words, Recall tells you what percentage of the time your model is identifying the relevant instance in your dataset.\n",
    "\n",
    "You have to decide which is more important in your situation. Is it more expensive in your specific context to miss a positive instance? If so, optimize for Recall.\n",
    "\n",
    "**<font color=green>The Higher the Recall Score == The better your Classifier is at catching the actual positive cases in your dataset.</font>**\n",
    "\n",
    "**<font color=red>The Lower the Recall Score == The more your Classifier is making Type II Errors / Misses / False Negatives.</font>**\n",
    "\n",
    "(Total Number of Correct Positive Predictions / Total Number of Actual Positive Observations in Dataset) -> (TP / TP + FN)\n",
    "\n",
    "----"
   ]
  },
  {
   "cell_type": "markdown",
   "metadata": {},
   "source": [
    ">**Precision:** The Precision score tells you how often your model was able to **predict positives correctly.** In other words, precision is the proportion of observations your model predicts to be positive that were actually positive and not false alarms or false positives.\n",
    "\n",
    "\n",
    "**<font color=green>The Higher the Precision Score == The better your Classifier is at predicting positives correctly in your dataset.</font>**\n",
    "\n",
    "**<font color=red>The lower the Precision Score == The more your Classifier predicted a lot of positives where there were none, False Positives / Type I Errors / False Alarms</font>**\n",
    "\n",
    "- If your model's Precision score goes up, the cost is that your model's Recall score goes down. You have to decide which is more important in your situation. Is it less costly to falsely predict that an instance or observation is the positive class (false alarm) than to miss a Positive instance? If so, optimize for precision.\n",
    "\n",
    "(Total Number of Correct Positive Predictions / Total Number of Observations Predicted as Postive by Model) -> (TP / TP + FP)\n",
    "\n",
    "----"
   ]
  },
  {
   "cell_type": "markdown",
   "metadata": {},
   "source": [
    ">**f1-score:** The balanced harmonic mean of Recall and Precision, giving both metrics equal weight. The higher the F-Measure is, the better when you are looking to optimize for both Recall and Precision.\n",
    "\n",
    "----"
   ]
  },
  {
   "cell_type": "markdown",
   "metadata": {},
   "source": [
    ">**ROC Curve:** The Receiver Operating Characteristic Curve (ROC Curve) summarizes the trade-off between the true positive rate and false positive rate for a predictive model using different probability thresholds. The higher the area under the curve, the better your model is at separating or predicting positive and negative classes. *ROC curves are appropriate when the observations are balanced between each class in a binary classification problem.*\n",
    "\n",
    "![image.png](https://3qeqpr26caki16dnhd19sv6by6v-wpengine.netdna-ssl.com/wp-content/uploads/2018/08/ROC-Curve-Plot-for-a-No-Skill-Classifier-and-a-Logistic-Regression-Model.png)\n",
    "\n",
    "- It is a plot of the false positive rate (x-axis) versus the true positive rate (y-axis) for a number of different candidate threshold values between 0.0 and 1.0. Put another way, it plots the false alarm rate versus the hit rate.\n",
    "\n",
    "----"
   ]
  },
  {
   "cell_type": "markdown",
   "metadata": {},
   "source": [
    "**To evaluate the performance of your classification model, you can also create a Confustion Matrix. We'll do this in a bit.** \n",
    "\n",
    "    By default with binary target variable\n",
    "\n",
    "    0 == negative class\n",
    "\n",
    "    1 == positive class\n",
    "\n",
    "![image.png](data:image/png;base64,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)"
   ]
  },
  {
   "cell_type": "markdown",
   "metadata": {},
   "source": [
    "### <font color=orange>So What If...?</font>"
   ]
  },
  {
   "cell_type": "markdown",
   "metadata": {},
   "source": [
    "___"
   ]
  },
  {
   "cell_type": "markdown",
   "metadata": {},
   "source": [
    "#### Recall in Context\n",
    "\n",
    "\n",
    "- **If your Recall score is high**, your model didn’t miss a lot of positives; it's good at catching positive observations or instances.\n",
    "\n",
    ">For example, if churn is your positive class, and your Recall score is high, your model is good at identifying customers who are positive for churn or actually churning.\n",
    "\n",
    "- **As your Recall score gets lower**, your model is not predicting more of the positives that are actually there; you are missing Positive observations or instances.\n",
    "\n",
    ">For example, if churn is your positive class, and your Recall score is low, your model is not good at identifying customers who are churning. It is predicting a lot of False Negatives; you are missing the opportunity to find and woo customers who are going to churn. These are Misses, missed opportunities to identify and keep customers who are actually positive for churn. **These are Type II Errors**\n",
    "\n",
    "**You want to optimize for recall when missed positives (False Negatives) are expensive.**"
   ]
  },
  {
   "cell_type": "markdown",
   "metadata": {},
   "source": [
    "___"
   ]
  },
  {
   "cell_type": "markdown",
   "metadata": {},
   "source": [
    "#### Precision in Context\n",
    "\n",
    "- **The higher your precision score is**, the better your model is at **Predicting Positives Correctly!** It avoids predicting a lot of False Positives (false alarms), but it is missing more of the Actual Positives, too. \n",
    "\n",
    "\n",
    "- **As your Precision score gets lower**, your model predicted a lot of False Postives (false alarms) or positives where there were none. These are **Type I Errors.**\n",
    "\n",
    "**You want to optimize for Precision when False Positives are more expensive than False Negatives.**"
   ]
  },
  {
   "cell_type": "markdown",
   "metadata": {},
   "source": [
    "___"
   ]
  },
  {
   "cell_type": "markdown",
   "metadata": {},
   "source": [
    "### <font color=green>Now What?</font>"
   ]
  },
  {
   "cell_type": "markdown",
   "metadata": {},
   "source": [
    "#### Create Evaluation DataFrame"
   ]
  },
  {
   "cell_type": "code",
   "execution_count": 80,
   "metadata": {},
   "outputs": [
    {
     "data": {
      "text/html": [
       "<div>\n",
       "<style scoped>\n",
       "    .dataframe tbody tr th:only-of-type {\n",
       "        vertical-align: middle;\n",
       "    }\n",
       "\n",
       "    .dataframe tbody tr th {\n",
       "        vertical-align: top;\n",
       "    }\n",
       "\n",
       "    .dataframe thead th {\n",
       "        text-align: right;\n",
       "    }\n",
       "</style>\n",
       "<table border=\"1\" class=\"dataframe\">\n",
       "  <thead>\n",
       "    <tr style=\"text-align: right;\">\n",
       "      <th></th>\n",
       "      <th>actual</th>\n",
       "      <th>predicted</th>\n",
       "      <th>probs</th>\n",
       "    </tr>\n",
       "  </thead>\n",
       "  <tbody>\n",
       "    <tr>\n",
       "      <th>583</th>\n",
       "      <td>0</td>\n",
       "      <td>0</td>\n",
       "      <td>0.407457</td>\n",
       "    </tr>\n",
       "    <tr>\n",
       "      <th>165</th>\n",
       "      <td>1</td>\n",
       "      <td>0</td>\n",
       "      <td>0.207752</td>\n",
       "    </tr>\n",
       "    <tr>\n",
       "      <th>50</th>\n",
       "      <td>0</td>\n",
       "      <td>0</td>\n",
       "      <td>0.038700</td>\n",
       "    </tr>\n",
       "    <tr>\n",
       "      <th>259</th>\n",
       "      <td>1</td>\n",
       "      <td>1</td>\n",
       "      <td>0.779046</td>\n",
       "    </tr>\n",
       "    <tr>\n",
       "      <th>306</th>\n",
       "      <td>1</td>\n",
       "      <td>1</td>\n",
       "      <td>0.924861</td>\n",
       "    </tr>\n",
       "  </tbody>\n",
       "</table>\n",
       "</div>"
      ],
      "text/plain": [
       "     actual  predicted     probs\n",
       "583       0          0  0.407457\n",
       "165       1          0  0.207752\n",
       "50        0          0  0.038700\n",
       "259       1          1  0.779046\n",
       "306       1          1  0.924861"
      ]
     },
     "execution_count": 80,
     "metadata": {},
     "output_type": "execute_result"
    }
   ],
   "source": [
    "# Create eval_df and rename the train survived column actual.\n",
    "train_eval_df = train[['survived']].rename(columns={'survived': 'actual'})\n",
    "\n",
    "# Predict whether a passenger will survive using the X_train data; add column to eval_df\n",
    "train_eval_df['predicted'] = logit.predict(X_train)\n",
    "\n",
    "# Estimate the probability of a passenger surviving using the X_train data; add col to eval_df\n",
    "\n",
    "train_eval_df['probs'] = logit.predict_proba(X_train)[:, 1]\n",
    "\n",
    "train_eval_df.head()"
   ]
  },
  {
   "cell_type": "markdown",
   "metadata": {},
   "source": [
    "___"
   ]
  },
  {
   "cell_type": "markdown",
   "metadata": {},
   "source": [
    "#### Create evaluation DataFrame for validate dataset"
   ]
  },
  {
   "cell_type": "code",
   "execution_count": 81,
   "metadata": {},
   "outputs": [
    {
     "data": {
      "text/html": [
       "<div>\n",
       "<style scoped>\n",
       "    .dataframe tbody tr th:only-of-type {\n",
       "        vertical-align: middle;\n",
       "    }\n",
       "\n",
       "    .dataframe tbody tr th {\n",
       "        vertical-align: top;\n",
       "    }\n",
       "\n",
       "    .dataframe thead th {\n",
       "        text-align: right;\n",
       "    }\n",
       "</style>\n",
       "<table border=\"1\" class=\"dataframe\">\n",
       "  <thead>\n",
       "    <tr style=\"text-align: right;\">\n",
       "      <th></th>\n",
       "      <th>actual</th>\n",
       "      <th>predicted</th>\n",
       "      <th>probs</th>\n",
       "    </tr>\n",
       "  </thead>\n",
       "  <tbody>\n",
       "    <tr>\n",
       "      <th>610</th>\n",
       "      <td>0</td>\n",
       "      <td>0</td>\n",
       "      <td>0.342058</td>\n",
       "    </tr>\n",
       "    <tr>\n",
       "      <th>424</th>\n",
       "      <td>0</td>\n",
       "      <td>0</td>\n",
       "      <td>0.116145</td>\n",
       "    </tr>\n",
       "    <tr>\n",
       "      <th>568</th>\n",
       "      <td>0</td>\n",
       "      <td>0</td>\n",
       "      <td>0.076009</td>\n",
       "    </tr>\n",
       "    <tr>\n",
       "      <th>334</th>\n",
       "      <td>1</td>\n",
       "      <td>1</td>\n",
       "      <td>0.937128</td>\n",
       "    </tr>\n",
       "    <tr>\n",
       "      <th>101</th>\n",
       "      <td>0</td>\n",
       "      <td>0</td>\n",
       "      <td>0.081153</td>\n",
       "    </tr>\n",
       "  </tbody>\n",
       "</table>\n",
       "</div>"
      ],
      "text/plain": [
       "     actual  predicted     probs\n",
       "610       0          0  0.342058\n",
       "424       0          0  0.116145\n",
       "568       0          0  0.076009\n",
       "334       1          1  0.937128\n",
       "101       0          0  0.081153"
      ]
     },
     "execution_count": 81,
     "metadata": {},
     "output_type": "execute_result"
    }
   ],
   "source": [
    "# Create eval_df and rename survived column actual.\n",
    "val_eval_df = validate[['survived']].rename(columns={'survived': 'actual'})\n",
    "\n",
    "# Predict whether a passenger will survive using the training data; add column to eval_df\n",
    "val_eval_df['predicted'] = logit.predict(X_validate)\n",
    "\n",
    "# Estimate the probability of a passenger surviving using the training data; add col to eval_df\n",
    "\n",
    "val_eval_df['probs'] = logit.predict_proba(X_validate)[:, 1]\n",
    "\n",
    "val_eval_df.head()"
   ]
  },
  {
   "cell_type": "markdown",
   "metadata": {},
   "source": [
    "___"
   ]
  },
  {
   "cell_type": "markdown",
   "metadata": {},
   "source": [
    "#### Accuracy Score"
   ]
  },
  {
   "cell_type": "code",
   "execution_count": 83,
   "metadata": {},
   "outputs": [
    {
     "data": {
      "text/html": [
       "<div>\n",
       "<style scoped>\n",
       "    .dataframe tbody tr th:only-of-type {\n",
       "        vertical-align: middle;\n",
       "    }\n",
       "\n",
       "    .dataframe tbody tr th {\n",
       "        vertical-align: top;\n",
       "    }\n",
       "\n",
       "    .dataframe thead th {\n",
       "        text-align: right;\n",
       "    }\n",
       "</style>\n",
       "<table border=\"1\" class=\"dataframe\">\n",
       "  <thead>\n",
       "    <tr style=\"text-align: right;\">\n",
       "      <th></th>\n",
       "      <th>pclass</th>\n",
       "      <th>age</th>\n",
       "      <th>sibsp</th>\n",
       "      <th>parch</th>\n",
       "      <th>fare</th>\n",
       "      <th>alone</th>\n",
       "      <th>is_female</th>\n",
       "      <th>Q</th>\n",
       "      <th>S</th>\n",
       "    </tr>\n",
       "  </thead>\n",
       "  <tbody>\n",
       "    <tr>\n",
       "      <th>583</th>\n",
       "      <td>1</td>\n",
       "      <td>36.0</td>\n",
       "      <td>0</td>\n",
       "      <td>0</td>\n",
       "      <td>40.125</td>\n",
       "      <td>1</td>\n",
       "      <td>0</td>\n",
       "      <td>0</td>\n",
       "      <td>0</td>\n",
       "    </tr>\n",
       "  </tbody>\n",
       "</table>\n",
       "</div>"
      ],
      "text/plain": [
       "     pclass   age  sibsp  parch    fare  alone  is_female  Q  S\n",
       "583       1  36.0      0      0  40.125      1          0  0  0"
      ]
     },
     "execution_count": 83,
     "metadata": {},
     "output_type": "execute_result"
    }
   ],
   "source": [
    "# Reminder of what our X_train looks like.\n",
    "\n",
    "X_train.head(1)"
   ]
  },
  {
   "cell_type": "code",
   "execution_count": 86,
   "metadata": {},
   "outputs": [
    {
     "data": {
      "text/html": [
       "<div>\n",
       "<style scoped>\n",
       "    .dataframe tbody tr th:only-of-type {\n",
       "        vertical-align: middle;\n",
       "    }\n",
       "\n",
       "    .dataframe tbody tr th {\n",
       "        vertical-align: top;\n",
       "    }\n",
       "\n",
       "    .dataframe thead th {\n",
       "        text-align: right;\n",
       "    }\n",
       "</style>\n",
       "<table border=\"1\" class=\"dataframe\">\n",
       "  <thead>\n",
       "    <tr style=\"text-align: right;\">\n",
       "      <th></th>\n",
       "      <th>survived</th>\n",
       "    </tr>\n",
       "  </thead>\n",
       "  <tbody>\n",
       "    <tr>\n",
       "      <th>583</th>\n",
       "      <td>0</td>\n",
       "    </tr>\n",
       "  </tbody>\n",
       "</table>\n",
       "</div>"
      ],
      "text/plain": [
       "     survived\n",
       "583         0"
      ]
     },
     "execution_count": 86,
     "metadata": {},
     "output_type": "execute_result"
    }
   ],
   "source": [
    "# Reminder of what our y_train looks like.\n",
    "\n",
    "y_train.head(1)"
   ]
  },
  {
   "cell_type": "code",
   "execution_count": 85,
   "metadata": {},
   "outputs": [
    {
     "data": {
      "text/plain": [
       "0.8132530120481928"
      ]
     },
     "execution_count": 85,
     "metadata": {},
     "output_type": "execute_result"
    }
   ],
   "source": [
    "# Get our accuracy score for our logistic regression model.\n",
    "\n",
    "logit.score(X_train, y_train)"
   ]
  },
  {
   "cell_type": "markdown",
   "metadata": {},
   "source": [
    "___"
   ]
  },
  {
   "cell_type": "markdown",
   "metadata": {},
   "source": [
    "#### Recall Score (Sensitivity)\n",
    "    Output can be interpreted as...\n",
    "    \n",
    "    [negative class recall, positive class recall]"
   ]
  },
  {
   "cell_type": "code",
   "execution_count": 82,
   "metadata": {},
   "outputs": [
    {
     "data": {
      "text/plain": [
       "array([0.8762215 , 0.71204188])"
      ]
     },
     "execution_count": 82,
     "metadata": {},
     "output_type": "execute_result"
    }
   ],
   "source": [
    "recall_score(train_eval_df.actual, train_eval_df.predicted, average=None)"
   ]
  },
  {
   "cell_type": "markdown",
   "metadata": {},
   "source": [
    "___"
   ]
  },
  {
   "cell_type": "markdown",
   "metadata": {},
   "source": [
    "#### Precision Score\n",
    "    Output can be interpreted as...\n",
    "    \n",
    "    [negative class precision, positive class precision]"
   ]
  },
  {
   "cell_type": "code",
   "execution_count": 67,
   "metadata": {},
   "outputs": [
    {
     "data": {
      "text/plain": [
       "array([0.83024691, 0.7816092 ])"
      ]
     },
     "execution_count": 67,
     "metadata": {},
     "output_type": "execute_result"
    }
   ],
   "source": [
    "precision_score(train_eval_df.actual, train_eval_df.yhat, average=None)"
   ]
  },
  {
   "cell_type": "markdown",
   "metadata": {},
   "source": [
    "___"
   ]
  },
  {
   "cell_type": "markdown",
   "metadata": {},
   "source": [
    "#### Confusion Matrix\n",
    "\n",
    "- If your target variable is a string, using the `labels` argument will ensure you control your negative and positive class!\n",
    "\n",
    "```python\n",
    "# Return the values from your confusion matrix; specify your negative and positive class.\n",
    "\n",
    "tn, fp, fn, tp = confusion_matrix(actual, predicted, labels = [neg_class, pos_class]).flatten()\n",
    "```\n",
    "\n",
    "\n",
    "- With the Titanic dataset, I don't need to do this because my target variable is binary. In this case:\n",
    "\n",
    "\n",
    "    By default with binary target variable\n",
    "\n",
    "    0 == negative class\n",
    "\n",
    "    1 == positive class"
   ]
  },
  {
   "cell_type": "code",
   "execution_count": 108,
   "metadata": {},
   "outputs": [
    {
     "name": "stdout",
     "output_type": "stream",
     "text": [
      "  predicted\n",
      "  0    1\n",
      "--------\n",
      "  tn  fp\n",
      "0 269 38\n",
      "--------\n",
      "1 55 269\n",
      "  fn  tp\n"
     ]
    }
   ],
   "source": [
    "tn, fp, fn, tp = confusion_matrix(y_true=train_eval_df.actual, y_pred=train_eval_df.predicted).flatten()\n",
    "\n",
    "print('  predicted')\n",
    "print('  0    1')\n",
    "print('--------')\n",
    "print('  tn ', 'fp')\n",
    "print('0', tn, fp)\n",
    "print('--------')\n",
    "print('1', fn, tn)\n",
    "print('  fn', ' tp')"
   ]
  },
  {
   "cell_type": "code",
   "execution_count": 109,
   "metadata": {},
   "outputs": [
    {
     "data": {
      "text/plain": [
       "array([[269,  38],\n",
       "       [ 55, 136]])"
      ]
     },
     "execution_count": 109,
     "metadata": {},
     "output_type": "execute_result"
    }
   ],
   "source": [
    "cm = confusion_matrix(y_true=train_eval_df.actual, y_pred=train_eval_df.predicted)\n",
    "cm"
   ]
  },
  {
   "cell_type": "code",
   "execution_count": 110,
   "metadata": {},
   "outputs": [
    {
     "data": {
      "image/png": "[encoded data removed]",
      "text/plain": [
       "<Figure size 792x648 with 2 Axes>"
      ]
     },
     "metadata": {
      "needs_background": "light"
     },
     "output_type": "display_data"
    }
   ],
   "source": [
    "xlabels=['Pred Did Not Survive', 'Pred Survived']\n",
    "ylabels=['Actual Did Not Survive', 'Actual Survived']\n",
    "\n",
    "sns.heatmap(cm, annot=True, fmt=\"d\", cmap='Purples', \n",
    "            xticklabels=xlabels, yticklabels=ylabels)\n",
    "\n",
    "plt.title('Confustion Matrix')\n",
    "plt.show()"
   ]
  },
  {
   "cell_type": "markdown",
   "metadata": {},
   "source": [
    "OR"
   ]
  },
  {
   "cell_type": "code",
   "execution_count": null,
   "metadata": {},
   "outputs": [],
   "source": [
    "pd.crosstab(index=train_eval_df.actual, \n",
    "            columns=train_eval_df.yhat, \n",
    "            rownames=['Actual'], \n",
    "            colnames=['Predicted'])"
   ]
  },
  {
   "cell_type": "markdown",
   "metadata": {},
   "source": [
    "___"
   ]
  },
  {
   "cell_type": "markdown",
   "metadata": {},
   "source": [
    "#### Classification Report"
   ]
  },
  {
   "cell_type": "code",
   "execution_count": null,
   "metadata": {
    "scrolled": true
   },
   "outputs": [],
   "source": [
    "# My LR model is beating my baseline accuracy at predicting my target value, survived.\n",
    "\n",
    "print(classification_report(y_true=train_eval_df.actual, y_pred=train_eval_df.yhat))"
   ]
  },
  {
   "cell_type": "markdown",
   "metadata": {},
   "source": [
    "___"
   ]
  },
  {
   "cell_type": "code",
   "execution_count": null,
   "metadata": {},
   "outputs": [],
   "source": [
    "# I can try this model on out-of-sample data using my validate dataset.\n",
    "\n",
    "print(classification_report(y_true=val_eval_df.actual, y_pred=val_eval_df.yhat))"
   ]
  },
  {
   "cell_type": "markdown",
   "metadata": {},
   "source": [
    "### Takeaways from MVP Logistic Regression Model Evaluation\n",
    "\n",
    "- My accuracy drops from 81% on my train dataset to 78% on my validate dataset.\n",
    "\n",
    "- I would now go back and probably try a Decision Tree model to see if I can beat this simple LR model.\n",
    "\n",
    "- I'm not going to test this model until I know if I can beat it with another type of Classification Algorithm."
   ]
  },
  {
   "cell_type": "markdown",
   "metadata": {},
   "source": [
    "<hr style=\"border-top: 10px groove silver; margin-top: 1px; margin-bottom: 1px\"></hr>"
   ]
  },
  {
   "cell_type": "markdown",
   "metadata": {},
   "source": [
    "## Conclusions\n",
    "\n",
    "- At this point, I have a Logistic Regression Model that is beating my baseline accuracy by almost 20%. This model has value!\n",
    "\n",
    "- If I have time, I can go back and tweak the hyperparameters to tune my model. \n",
    "\n",
    "- I can also try other types of Classification models from here, and see which one predicts the best on unseen (out-of-sample) data by using the validate dataset.\n",
    "\n",
    "- Finally, I will evaulate my best model on unseen (out-of-sample) data by using the test dataset."
   ]
  }
 ],
 "metadata": {
  "kernelspec": {
   "display_name": "Python 3",
   "language": "python",
   "name": "python3"
  },
  "language_info": {
   "codemirror_mode": {
    "name": "ipython",
    "version": 3
   },
   "file_extension": ".py",
   "mimetype": "text/x-python",
   "name": "python",
   "nbconvert_exporter": "python",
   "pygments_lexer": "ipython3",
   "version": "3.7.4"
  },
  "toc": {
   "base_numbering": 1,
   "nav_menu": {},
   "number_sections": false,
   "sideBar": true,
   "skip_h1_title": true,
   "title_cell": "Table of Contents",
   "title_sidebar": "Contents",
   "toc_cell": false,
   "toc_position": {},
   "toc_section_display": true,
   "toc_window_display": true
  }
 },
 "nbformat": 4,
 "nbformat_minor": 4
}
